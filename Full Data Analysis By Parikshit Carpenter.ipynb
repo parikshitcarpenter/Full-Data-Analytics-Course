{
 "cells": [
  {
   "cell_type": "markdown",
   "id": "f3c134b1",
   "metadata": {},
   "source": [
    "# Cycle"
   ]
  },
  {
   "cell_type": "markdown",
   "id": "f2c87f0e",
   "metadata": {},
   "source": [
    "#### Data Scientists\n",
    "#### Machine Learning Engineers\n",
    "#### Data Analysts\n",
    "#### Data Engineers"
   ]
  },
  {
   "cell_type": "markdown",
   "id": "54de6a2a",
   "metadata": {},
   "source": [
    "# Data Preparation Process"
   ]
  },
  {
   "cell_type": "raw",
   "id": "6dd3645b",
   "metadata": {},
   "source": [
    "- Collection\n",
    " - Cleaning\n",
    "  - Exploratory Data Analysis(EDA)\n",
    "   - Model Building\n",
    "    - Model Deployment"
   ]
  },
  {
   "cell_type": "raw",
   "id": "a4dc61d7",
   "metadata": {},
   "source": [
    "1. Data Collection:\n",
    "    - Articulating the problem\n",
    "    - Defining data required\n",
    "    - Gathering and combining data from different sources\n",
    "    \n",
    "2. Data Preprocessing:\n",
    "    - Formatting\n",
    "    - Cleaning\n",
    "    - Sampling\n",
    "\n",
    "3. Data Transformation:(Feature Engineering)\n",
    "    - Scaling/Normalizing\n",
    "    - Decomposition\n",
    "    - Aggregation"
   ]
  },
  {
   "cell_type": "markdown",
   "id": "5325a205",
   "metadata": {},
   "source": [
    "Data Preparation Challenges:\n",
    "* Lack of necessary data,'\n",
    "* No clear picture of the data available\n",
    "* Data that's not ready for use\n",
    "* Incompatible data formats\n",
    "* Messy data\n",
    "* Unbalanced data"
   ]
  },
  {
   "cell_type": "markdown",
   "id": "5609d9b5",
   "metadata": {},
   "source": [
    "# Data Collection"
   ]
  },
  {
   "cell_type": "code",
   "execution_count": 119,
   "id": "c0523514",
   "metadata": {
    "scrolled": true
   },
   "outputs": [],
   "source": [
    "import pandas as pd\n",
    "import numpy as np\n",
    "\n",
    "url = \"https://archive.ics.uci.edu/ml/machine-learning-databases/autos/imports-85.data\"\n",
    "\n",
    "headers = [\"symboling\", \"normalized-losses\", \"make\", \"fuel-type\", \"aspiration\", \"num-of-doors\",\n",
    "           \"body-style\", \"drive-wheels\", \"engine-location\", \"wheel-base\", \"length\", \"width\",\n",
    "           \"height\", \"curb-weight\", \"engine-type\", \"num-of-cylinders\", \"engine-size\", \"fuel-system\",\n",
    "           \"bore\", \"stroke\", \"compression-ratio\", \"horsepower\", \"peak-rpm\", \"city-mpg\", \"highway-mpg\", \"price\"]\n",
    "\n",
    "cardata = pd.read_csv(url, header=None)\n",
    "\n",
    "cardata.columns = headers\n",
    "\n",
    "cardata.loc[cardata[\"highway-mpg\"]==22,\"price\"]\n",
    "cardata.loc[cardata['price']==\"?\"]\n",
    "cardata['price']=cardata['price'].replace(\"?\",np.nan)"
   ]
  },
  {
   "cell_type": "code",
   "execution_count": 120,
   "id": "243720ac",
   "metadata": {},
   "outputs": [
    {
     "data": {
      "text/html": [
       "<div>\n",
       "<style scoped>\n",
       "    .dataframe tbody tr th:only-of-type {\n",
       "        vertical-align: middle;\n",
       "    }\n",
       "\n",
       "    .dataframe tbody tr th {\n",
       "        vertical-align: top;\n",
       "    }\n",
       "\n",
       "    .dataframe thead th {\n",
       "        text-align: right;\n",
       "    }\n",
       "</style>\n",
       "<table border=\"1\" class=\"dataframe\">\n",
       "  <thead>\n",
       "    <tr style=\"text-align: right;\">\n",
       "      <th></th>\n",
       "      <th>symboling</th>\n",
       "      <th>normalized-losses</th>\n",
       "      <th>make</th>\n",
       "      <th>fuel-type</th>\n",
       "      <th>aspiration</th>\n",
       "      <th>num-of-doors</th>\n",
       "      <th>body-style</th>\n",
       "      <th>drive-wheels</th>\n",
       "      <th>engine-location</th>\n",
       "      <th>wheel-base</th>\n",
       "      <th>...</th>\n",
       "      <th>engine-size</th>\n",
       "      <th>fuel-system</th>\n",
       "      <th>bore</th>\n",
       "      <th>stroke</th>\n",
       "      <th>compression-ratio</th>\n",
       "      <th>horsepower</th>\n",
       "      <th>peak-rpm</th>\n",
       "      <th>city-mpg</th>\n",
       "      <th>highway-mpg</th>\n",
       "      <th>price</th>\n",
       "    </tr>\n",
       "  </thead>\n",
       "  <tbody>\n",
       "    <tr>\n",
       "      <th>9</th>\n",
       "      <td>0</td>\n",
       "      <td>?</td>\n",
       "      <td>audi</td>\n",
       "      <td>gas</td>\n",
       "      <td>turbo</td>\n",
       "      <td>two</td>\n",
       "      <td>hatchback</td>\n",
       "      <td>4wd</td>\n",
       "      <td>front</td>\n",
       "      <td>99.5</td>\n",
       "      <td>...</td>\n",
       "      <td>131</td>\n",
       "      <td>mpfi</td>\n",
       "      <td>3.13</td>\n",
       "      <td>3.40</td>\n",
       "      <td>7.0</td>\n",
       "      <td>160</td>\n",
       "      <td>5500</td>\n",
       "      <td>16</td>\n",
       "      <td>22</td>\n",
       "      <td>NaN</td>\n",
       "    </tr>\n",
       "    <tr>\n",
       "      <th>44</th>\n",
       "      <td>1</td>\n",
       "      <td>?</td>\n",
       "      <td>isuzu</td>\n",
       "      <td>gas</td>\n",
       "      <td>std</td>\n",
       "      <td>two</td>\n",
       "      <td>sedan</td>\n",
       "      <td>fwd</td>\n",
       "      <td>front</td>\n",
       "      <td>94.5</td>\n",
       "      <td>...</td>\n",
       "      <td>90</td>\n",
       "      <td>2bbl</td>\n",
       "      <td>3.03</td>\n",
       "      <td>3.11</td>\n",
       "      <td>9.6</td>\n",
       "      <td>70</td>\n",
       "      <td>5400</td>\n",
       "      <td>38</td>\n",
       "      <td>43</td>\n",
       "      <td>NaN</td>\n",
       "    </tr>\n",
       "    <tr>\n",
       "      <th>45</th>\n",
       "      <td>0</td>\n",
       "      <td>?</td>\n",
       "      <td>isuzu</td>\n",
       "      <td>gas</td>\n",
       "      <td>std</td>\n",
       "      <td>four</td>\n",
       "      <td>sedan</td>\n",
       "      <td>fwd</td>\n",
       "      <td>front</td>\n",
       "      <td>94.5</td>\n",
       "      <td>...</td>\n",
       "      <td>90</td>\n",
       "      <td>2bbl</td>\n",
       "      <td>3.03</td>\n",
       "      <td>3.11</td>\n",
       "      <td>9.6</td>\n",
       "      <td>70</td>\n",
       "      <td>5400</td>\n",
       "      <td>38</td>\n",
       "      <td>43</td>\n",
       "      <td>NaN</td>\n",
       "    </tr>\n",
       "    <tr>\n",
       "      <th>129</th>\n",
       "      <td>1</td>\n",
       "      <td>?</td>\n",
       "      <td>porsche</td>\n",
       "      <td>gas</td>\n",
       "      <td>std</td>\n",
       "      <td>two</td>\n",
       "      <td>hatchback</td>\n",
       "      <td>rwd</td>\n",
       "      <td>front</td>\n",
       "      <td>98.4</td>\n",
       "      <td>...</td>\n",
       "      <td>203</td>\n",
       "      <td>mpfi</td>\n",
       "      <td>3.94</td>\n",
       "      <td>3.11</td>\n",
       "      <td>10.0</td>\n",
       "      <td>288</td>\n",
       "      <td>5750</td>\n",
       "      <td>17</td>\n",
       "      <td>28</td>\n",
       "      <td>NaN</td>\n",
       "    </tr>\n",
       "  </tbody>\n",
       "</table>\n",
       "<p>4 rows × 26 columns</p>\n",
       "</div>"
      ],
      "text/plain": [
       "     symboling normalized-losses     make fuel-type aspiration num-of-doors  \\\n",
       "9            0                 ?     audi       gas      turbo          two   \n",
       "44           1                 ?    isuzu       gas        std          two   \n",
       "45           0                 ?    isuzu       gas        std         four   \n",
       "129          1                 ?  porsche       gas        std          two   \n",
       "\n",
       "    body-style drive-wheels engine-location  wheel-base  ...  engine-size  \\\n",
       "9    hatchback          4wd           front        99.5  ...          131   \n",
       "44       sedan          fwd           front        94.5  ...           90   \n",
       "45       sedan          fwd           front        94.5  ...           90   \n",
       "129  hatchback          rwd           front        98.4  ...          203   \n",
       "\n",
       "     fuel-system  bore  stroke compression-ratio horsepower  peak-rpm  \\\n",
       "9           mpfi  3.13    3.40               7.0        160      5500   \n",
       "44          2bbl  3.03    3.11               9.6         70      5400   \n",
       "45          2bbl  3.03    3.11               9.6         70      5400   \n",
       "129         mpfi  3.94    3.11              10.0        288      5750   \n",
       "\n",
       "    city-mpg highway-mpg price  \n",
       "9         16          22   NaN  \n",
       "44        38          43   NaN  \n",
       "45        38          43   NaN  \n",
       "129       17          28   NaN  \n",
       "\n",
       "[4 rows x 26 columns]"
      ]
     },
     "execution_count": 120,
     "metadata": {},
     "output_type": "execute_result"
    }
   ],
   "source": [
    "cardata.loc[cardata['price'].isna()]"
   ]
  },
  {
   "cell_type": "markdown",
   "id": "d964c5a1",
   "metadata": {},
   "source": [
    "."
   ]
  },
  {
   "cell_type": "markdown",
   "id": "2d6361e4",
   "metadata": {},
   "source": [
    "#### Backup"
   ]
  },
  {
   "cell_type": "code",
   "execution_count": 121,
   "id": "06c2c1ea",
   "metadata": {},
   "outputs": [],
   "source": [
    "df = cardata.copy()"
   ]
  },
  {
   "cell_type": "markdown",
   "id": "e971c79d",
   "metadata": {},
   "source": [
    "."
   ]
  },
  {
   "cell_type": "markdown",
   "id": "ec43e148",
   "metadata": {},
   "source": [
    "."
   ]
  },
  {
   "cell_type": "markdown",
   "id": "af90383a",
   "metadata": {},
   "source": [
    "# DATA WRANGLING & DATA PREPROCESSING\n",
    "\n",
    "Data preprocessing is a subset of data wrangling. Data preprocessing focuses specifically on preparing the data for analysis or modeling, while data wrangling encompasses a wider range of tasks involved in preparing and manipulating data to make it suitable for analysis or modeling purposes."
   ]
  },
  {
   "cell_type": "markdown",
   "id": "e166a580",
   "metadata": {},
   "source": [
    "What to do when you encounter missing values in your data. When no data value is stored for feature for a particular observation, we say this feature has a missing value. Usually missing value in data set appears as question mark and a zero or just a blank cell.\n",
    "There are many ways to deal with missing values and this is regardless of whatever tool you use.\n",
    "Each situation is different and should be judged differently.\n",
    "\n",
    "#### MISSING VALUES\n",
    "\n",
    "##### FOR CONTINUOUS DATA\n",
    "\n",
    "1. Check if the person or group that collected the data can go back and find what the actual value should be.\n",
    "2. ANother possibility is just to remove the data where the missing value is found.\n",
    "-- When you drop data you could either drop the whole variable or just the single data entry with the missing value. If you don't have a lot of observations with missing data, usually dropping the particular entry is the best. If you're removing data, you want to look to do something that has least amount of impact.\n",
    "3. Replacing data is better since no data is wasted.\n",
    "-- However, it is less accurate since we need to replace missing data with a guess of what the data should be.\n",
    "    One standard for placement technique is to replace missing values by the average value of the entire variable.\n",
    "    Example: Suppose we have some entries that have missing values for the normalized losses column and the column average for entries with data is 4500. While there is no way for us to get an accurate guess of what the missing value is under the normalized losses column should have been, you can approximate their values using the average value of the column 4500.\n",
    "    \n",
    "   \n",
    "\n",
    "\n",
    "##### FOR CATEGORICAL DATA\n",
    "\n",
    "But what if the values cannot be averaged as with Categorical Variables?\n",
    "\n",
    "3. For a variable like fuel type, there isn't average fuel type since the variable values are not numbers. In this case, one possibility is to try using the MODE, the most common like gasoline.\n",
    "\n",
    "4. Finally, sometimes we may find another way to guess the missing data. This is usually because the data gathered may knows something additional about the missing data.\n",
    "-- For example, he may know that the missing values tend to be old cars and the normalized losses of old cars are significantly higher than the average vehicle.\n",
    "\n",
    "5. And of course, in some cases you may simply want to leave the missing data as missing data. For one reason or another, it may be useful to keep that observation even if some features are missing.\n",
    "\n",
    "\n",
    "To remove data that contains missing values Panda's library has a built-in method called dropna"
   ]
  },
  {
   "cell_type": "code",
   "execution_count": 122,
   "id": "971707ba",
   "metadata": {
    "scrolled": true
   },
   "outputs": [
    {
     "data": {
      "text/plain": [
       "4"
      ]
     },
     "execution_count": 122,
     "metadata": {},
     "output_type": "execute_result"
    }
   ],
   "source": [
    "df['price'].isna().sum()"
   ]
  },
  {
   "cell_type": "markdown",
   "id": "6c2d79c2",
   "metadata": {},
   "source": [
    "."
   ]
  },
  {
   "cell_type": "markdown",
   "id": "2013832b",
   "metadata": {},
   "source": [
    "### LOCATING,REPLACING,DROPPING ANY VALUES"
   ]
  },
  {
   "cell_type": "code",
   "execution_count": 123,
   "id": "cb034a6d",
   "metadata": {},
   "outputs": [
    {
     "data": {
      "text/html": [
       "<div>\n",
       "<style scoped>\n",
       "    .dataframe tbody tr th:only-of-type {\n",
       "        vertical-align: middle;\n",
       "    }\n",
       "\n",
       "    .dataframe tbody tr th {\n",
       "        vertical-align: top;\n",
       "    }\n",
       "\n",
       "    .dataframe thead th {\n",
       "        text-align: right;\n",
       "    }\n",
       "</style>\n",
       "<table border=\"1\" class=\"dataframe\">\n",
       "  <thead>\n",
       "    <tr style=\"text-align: right;\">\n",
       "      <th></th>\n",
       "      <th>symboling</th>\n",
       "      <th>normalized-losses</th>\n",
       "      <th>make</th>\n",
       "      <th>fuel-type</th>\n",
       "      <th>aspiration</th>\n",
       "      <th>num-of-doors</th>\n",
       "      <th>body-style</th>\n",
       "      <th>drive-wheels</th>\n",
       "      <th>engine-location</th>\n",
       "      <th>wheel-base</th>\n",
       "      <th>...</th>\n",
       "      <th>engine-size</th>\n",
       "      <th>fuel-system</th>\n",
       "      <th>bore</th>\n",
       "      <th>stroke</th>\n",
       "      <th>compression-ratio</th>\n",
       "      <th>horsepower</th>\n",
       "      <th>peak-rpm</th>\n",
       "      <th>city-mpg</th>\n",
       "      <th>highway-mpg</th>\n",
       "      <th>price</th>\n",
       "    </tr>\n",
       "  </thead>\n",
       "  <tbody>\n",
       "    <tr>\n",
       "      <th>3</th>\n",
       "      <td>2</td>\n",
       "      <td>164</td>\n",
       "      <td>audi</td>\n",
       "      <td>gas</td>\n",
       "      <td>std</td>\n",
       "      <td>four</td>\n",
       "      <td>sedan</td>\n",
       "      <td>fwd</td>\n",
       "      <td>front</td>\n",
       "      <td>99.8</td>\n",
       "      <td>...</td>\n",
       "      <td>109</td>\n",
       "      <td>mpfi</td>\n",
       "      <td>3.19</td>\n",
       "      <td>3.40</td>\n",
       "      <td>10.0</td>\n",
       "      <td>102</td>\n",
       "      <td>5500</td>\n",
       "      <td>24</td>\n",
       "      <td>30</td>\n",
       "      <td>13950</td>\n",
       "    </tr>\n",
       "    <tr>\n",
       "      <th>4</th>\n",
       "      <td>2</td>\n",
       "      <td>164</td>\n",
       "      <td>audi</td>\n",
       "      <td>gas</td>\n",
       "      <td>std</td>\n",
       "      <td>four</td>\n",
       "      <td>sedan</td>\n",
       "      <td>4wd</td>\n",
       "      <td>front</td>\n",
       "      <td>99.4</td>\n",
       "      <td>...</td>\n",
       "      <td>136</td>\n",
       "      <td>mpfi</td>\n",
       "      <td>3.19</td>\n",
       "      <td>3.40</td>\n",
       "      <td>8.0</td>\n",
       "      <td>115</td>\n",
       "      <td>5500</td>\n",
       "      <td>18</td>\n",
       "      <td>22</td>\n",
       "      <td>17450</td>\n",
       "    </tr>\n",
       "    <tr>\n",
       "      <th>6</th>\n",
       "      <td>1</td>\n",
       "      <td>158</td>\n",
       "      <td>audi</td>\n",
       "      <td>gas</td>\n",
       "      <td>std</td>\n",
       "      <td>four</td>\n",
       "      <td>sedan</td>\n",
       "      <td>fwd</td>\n",
       "      <td>front</td>\n",
       "      <td>105.8</td>\n",
       "      <td>...</td>\n",
       "      <td>136</td>\n",
       "      <td>mpfi</td>\n",
       "      <td>3.19</td>\n",
       "      <td>3.40</td>\n",
       "      <td>8.5</td>\n",
       "      <td>110</td>\n",
       "      <td>5500</td>\n",
       "      <td>19</td>\n",
       "      <td>25</td>\n",
       "      <td>17710</td>\n",
       "    </tr>\n",
       "    <tr>\n",
       "      <th>8</th>\n",
       "      <td>1</td>\n",
       "      <td>158</td>\n",
       "      <td>audi</td>\n",
       "      <td>gas</td>\n",
       "      <td>turbo</td>\n",
       "      <td>four</td>\n",
       "      <td>sedan</td>\n",
       "      <td>fwd</td>\n",
       "      <td>front</td>\n",
       "      <td>105.8</td>\n",
       "      <td>...</td>\n",
       "      <td>131</td>\n",
       "      <td>mpfi</td>\n",
       "      <td>3.13</td>\n",
       "      <td>3.40</td>\n",
       "      <td>8.3</td>\n",
       "      <td>140</td>\n",
       "      <td>5500</td>\n",
       "      <td>17</td>\n",
       "      <td>20</td>\n",
       "      <td>23875</td>\n",
       "    </tr>\n",
       "    <tr>\n",
       "      <th>9</th>\n",
       "      <td>0</td>\n",
       "      <td>?</td>\n",
       "      <td>audi</td>\n",
       "      <td>gas</td>\n",
       "      <td>turbo</td>\n",
       "      <td>two</td>\n",
       "      <td>hatchback</td>\n",
       "      <td>4wd</td>\n",
       "      <td>front</td>\n",
       "      <td>99.5</td>\n",
       "      <td>...</td>\n",
       "      <td>131</td>\n",
       "      <td>mpfi</td>\n",
       "      <td>3.13</td>\n",
       "      <td>3.40</td>\n",
       "      <td>7.0</td>\n",
       "      <td>160</td>\n",
       "      <td>5500</td>\n",
       "      <td>16</td>\n",
       "      <td>22</td>\n",
       "      <td>NaN</td>\n",
       "    </tr>\n",
       "    <tr>\n",
       "      <th>...</th>\n",
       "      <td>...</td>\n",
       "      <td>...</td>\n",
       "      <td>...</td>\n",
       "      <td>...</td>\n",
       "      <td>...</td>\n",
       "      <td>...</td>\n",
       "      <td>...</td>\n",
       "      <td>...</td>\n",
       "      <td>...</td>\n",
       "      <td>...</td>\n",
       "      <td>...</td>\n",
       "      <td>...</td>\n",
       "      <td>...</td>\n",
       "      <td>...</td>\n",
       "      <td>...</td>\n",
       "      <td>...</td>\n",
       "      <td>...</td>\n",
       "      <td>...</td>\n",
       "      <td>...</td>\n",
       "      <td>...</td>\n",
       "      <td>...</td>\n",
       "    </tr>\n",
       "    <tr>\n",
       "      <th>200</th>\n",
       "      <td>-1</td>\n",
       "      <td>95</td>\n",
       "      <td>volvo</td>\n",
       "      <td>gas</td>\n",
       "      <td>std</td>\n",
       "      <td>four</td>\n",
       "      <td>sedan</td>\n",
       "      <td>rwd</td>\n",
       "      <td>front</td>\n",
       "      <td>109.1</td>\n",
       "      <td>...</td>\n",
       "      <td>141</td>\n",
       "      <td>mpfi</td>\n",
       "      <td>3.78</td>\n",
       "      <td>3.15</td>\n",
       "      <td>9.5</td>\n",
       "      <td>114</td>\n",
       "      <td>5400</td>\n",
       "      <td>23</td>\n",
       "      <td>28</td>\n",
       "      <td>16845</td>\n",
       "    </tr>\n",
       "    <tr>\n",
       "      <th>201</th>\n",
       "      <td>-1</td>\n",
       "      <td>95</td>\n",
       "      <td>volvo</td>\n",
       "      <td>gas</td>\n",
       "      <td>turbo</td>\n",
       "      <td>four</td>\n",
       "      <td>sedan</td>\n",
       "      <td>rwd</td>\n",
       "      <td>front</td>\n",
       "      <td>109.1</td>\n",
       "      <td>...</td>\n",
       "      <td>141</td>\n",
       "      <td>mpfi</td>\n",
       "      <td>3.78</td>\n",
       "      <td>3.15</td>\n",
       "      <td>8.7</td>\n",
       "      <td>160</td>\n",
       "      <td>5300</td>\n",
       "      <td>19</td>\n",
       "      <td>25</td>\n",
       "      <td>19045</td>\n",
       "    </tr>\n",
       "    <tr>\n",
       "      <th>202</th>\n",
       "      <td>-1</td>\n",
       "      <td>95</td>\n",
       "      <td>volvo</td>\n",
       "      <td>gas</td>\n",
       "      <td>std</td>\n",
       "      <td>four</td>\n",
       "      <td>sedan</td>\n",
       "      <td>rwd</td>\n",
       "      <td>front</td>\n",
       "      <td>109.1</td>\n",
       "      <td>...</td>\n",
       "      <td>173</td>\n",
       "      <td>mpfi</td>\n",
       "      <td>3.58</td>\n",
       "      <td>2.87</td>\n",
       "      <td>8.8</td>\n",
       "      <td>134</td>\n",
       "      <td>5500</td>\n",
       "      <td>18</td>\n",
       "      <td>23</td>\n",
       "      <td>21485</td>\n",
       "    </tr>\n",
       "    <tr>\n",
       "      <th>203</th>\n",
       "      <td>-1</td>\n",
       "      <td>95</td>\n",
       "      <td>volvo</td>\n",
       "      <td>diesel</td>\n",
       "      <td>turbo</td>\n",
       "      <td>four</td>\n",
       "      <td>sedan</td>\n",
       "      <td>rwd</td>\n",
       "      <td>front</td>\n",
       "      <td>109.1</td>\n",
       "      <td>...</td>\n",
       "      <td>145</td>\n",
       "      <td>idi</td>\n",
       "      <td>3.01</td>\n",
       "      <td>3.40</td>\n",
       "      <td>23.0</td>\n",
       "      <td>106</td>\n",
       "      <td>4800</td>\n",
       "      <td>26</td>\n",
       "      <td>27</td>\n",
       "      <td>22470</td>\n",
       "    </tr>\n",
       "    <tr>\n",
       "      <th>204</th>\n",
       "      <td>-1</td>\n",
       "      <td>95</td>\n",
       "      <td>volvo</td>\n",
       "      <td>gas</td>\n",
       "      <td>turbo</td>\n",
       "      <td>four</td>\n",
       "      <td>sedan</td>\n",
       "      <td>rwd</td>\n",
       "      <td>front</td>\n",
       "      <td>109.1</td>\n",
       "      <td>...</td>\n",
       "      <td>141</td>\n",
       "      <td>mpfi</td>\n",
       "      <td>3.78</td>\n",
       "      <td>3.15</td>\n",
       "      <td>9.5</td>\n",
       "      <td>114</td>\n",
       "      <td>5400</td>\n",
       "      <td>19</td>\n",
       "      <td>25</td>\n",
       "      <td>22625</td>\n",
       "    </tr>\n",
       "  </tbody>\n",
       "</table>\n",
       "<p>168 rows × 26 columns</p>\n",
       "</div>"
      ],
      "text/plain": [
       "     symboling normalized-losses   make fuel-type aspiration num-of-doors  \\\n",
       "3            2               164   audi       gas        std         four   \n",
       "4            2               164   audi       gas        std         four   \n",
       "6            1               158   audi       gas        std         four   \n",
       "8            1               158   audi       gas      turbo         four   \n",
       "9            0                 ?   audi       gas      turbo          two   \n",
       "..         ...               ...    ...       ...        ...          ...   \n",
       "200         -1                95  volvo       gas        std         four   \n",
       "201         -1                95  volvo       gas      turbo         four   \n",
       "202         -1                95  volvo       gas        std         four   \n",
       "203         -1                95  volvo    diesel      turbo         four   \n",
       "204         -1                95  volvo       gas      turbo         four   \n",
       "\n",
       "    body-style drive-wheels engine-location  wheel-base  ...  engine-size  \\\n",
       "3        sedan          fwd           front        99.8  ...          109   \n",
       "4        sedan          4wd           front        99.4  ...          136   \n",
       "6        sedan          fwd           front       105.8  ...          136   \n",
       "8        sedan          fwd           front       105.8  ...          131   \n",
       "9    hatchback          4wd           front        99.5  ...          131   \n",
       "..         ...          ...             ...         ...  ...          ...   \n",
       "200      sedan          rwd           front       109.1  ...          141   \n",
       "201      sedan          rwd           front       109.1  ...          141   \n",
       "202      sedan          rwd           front       109.1  ...          173   \n",
       "203      sedan          rwd           front       109.1  ...          145   \n",
       "204      sedan          rwd           front       109.1  ...          141   \n",
       "\n",
       "     fuel-system  bore  stroke compression-ratio horsepower  peak-rpm  \\\n",
       "3           mpfi  3.19    3.40              10.0        102      5500   \n",
       "4           mpfi  3.19    3.40               8.0        115      5500   \n",
       "6           mpfi  3.19    3.40               8.5        110      5500   \n",
       "8           mpfi  3.13    3.40               8.3        140      5500   \n",
       "9           mpfi  3.13    3.40               7.0        160      5500   \n",
       "..           ...   ...     ...               ...        ...       ...   \n",
       "200         mpfi  3.78    3.15               9.5        114      5400   \n",
       "201         mpfi  3.78    3.15               8.7        160      5300   \n",
       "202         mpfi  3.58    2.87               8.8        134      5500   \n",
       "203          idi  3.01    3.40              23.0        106      4800   \n",
       "204         mpfi  3.78    3.15               9.5        114      5400   \n",
       "\n",
       "    city-mpg highway-mpg  price  \n",
       "3         24          30  13950  \n",
       "4         18          22  17450  \n",
       "6         19          25  17710  \n",
       "8         17          20  23875  \n",
       "9         16          22    NaN  \n",
       "..       ...         ...    ...  \n",
       "200       23          28  16845  \n",
       "201       19          25  19045  \n",
       "202       18          23  21485  \n",
       "203       26          27  22470  \n",
       "204       19          25  22625  \n",
       "\n",
       "[168 rows x 26 columns]"
      ]
     },
     "execution_count": 123,
     "metadata": {},
     "output_type": "execute_result"
    }
   ],
   "source": [
    "df.loc[(df['price'].isna()) | ~(df['normalized-losses']=='?')]"
   ]
  },
  {
   "cell_type": "code",
   "execution_count": 124,
   "id": "70c07701",
   "metadata": {
    "scrolled": true
   },
   "outputs": [
    {
     "data": {
      "text/html": [
       "<div>\n",
       "<style scoped>\n",
       "    .dataframe tbody tr th:only-of-type {\n",
       "        vertical-align: middle;\n",
       "    }\n",
       "\n",
       "    .dataframe tbody tr th {\n",
       "        vertical-align: top;\n",
       "    }\n",
       "\n",
       "    .dataframe thead th {\n",
       "        text-align: right;\n",
       "    }\n",
       "</style>\n",
       "<table border=\"1\" class=\"dataframe\">\n",
       "  <thead>\n",
       "    <tr style=\"text-align: right;\">\n",
       "      <th></th>\n",
       "      <th>symboling</th>\n",
       "      <th>normalized-losses</th>\n",
       "      <th>make</th>\n",
       "      <th>fuel-type</th>\n",
       "      <th>aspiration</th>\n",
       "      <th>num-of-doors</th>\n",
       "      <th>body-style</th>\n",
       "      <th>drive-wheels</th>\n",
       "      <th>engine-location</th>\n",
       "      <th>wheel-base</th>\n",
       "      <th>...</th>\n",
       "      <th>engine-size</th>\n",
       "      <th>fuel-system</th>\n",
       "      <th>bore</th>\n",
       "      <th>stroke</th>\n",
       "      <th>compression-ratio</th>\n",
       "      <th>horsepower</th>\n",
       "      <th>peak-rpm</th>\n",
       "      <th>city-mpg</th>\n",
       "      <th>highway-mpg</th>\n",
       "      <th>price</th>\n",
       "    </tr>\n",
       "  </thead>\n",
       "  <tbody>\n",
       "    <tr>\n",
       "      <th>9</th>\n",
       "      <td>0</td>\n",
       "      <td>?</td>\n",
       "      <td>audi</td>\n",
       "      <td>gas</td>\n",
       "      <td>turbo</td>\n",
       "      <td>two</td>\n",
       "      <td>hatchback</td>\n",
       "      <td>4wd</td>\n",
       "      <td>front</td>\n",
       "      <td>99.5</td>\n",
       "      <td>...</td>\n",
       "      <td>131</td>\n",
       "      <td>mpfi</td>\n",
       "      <td>3.13</td>\n",
       "      <td>3.40</td>\n",
       "      <td>7.0</td>\n",
       "      <td>160</td>\n",
       "      <td>5500</td>\n",
       "      <td>16</td>\n",
       "      <td>22</td>\n",
       "      <td>NaN</td>\n",
       "    </tr>\n",
       "  </tbody>\n",
       "</table>\n",
       "<p>1 rows × 26 columns</p>\n",
       "</div>"
      ],
      "text/plain": [
       "   symboling normalized-losses  make fuel-type aspiration num-of-doors  \\\n",
       "9          0                 ?  audi       gas      turbo          two   \n",
       "\n",
       "  body-style drive-wheels engine-location  wheel-base  ...  engine-size  \\\n",
       "9  hatchback          4wd           front        99.5  ...          131   \n",
       "\n",
       "   fuel-system  bore  stroke compression-ratio horsepower  peak-rpm city-mpg  \\\n",
       "9         mpfi  3.13    3.40               7.0        160      5500       16   \n",
       "\n",
       "  highway-mpg price  \n",
       "9          22   NaN  \n",
       "\n",
       "[1 rows x 26 columns]"
      ]
     },
     "execution_count": 124,
     "metadata": {},
     "output_type": "execute_result"
    }
   ],
   "source": [
    "df.loc[(df['highway-mpg']==22) & (df['price'].isna())]"
   ]
  },
  {
   "cell_type": "raw",
   "id": "e4c72a93",
   "metadata": {},
   "source": [
    "Since we are trying to predict the price of cars, we have to remove the rows which have NaN values."
   ]
  },
  {
   "cell_type": "markdown",
   "id": "3e19de9d",
   "metadata": {},
   "source": [
    "we have to remove the cars, the rows, that don't have a listed price. It can simply be done in one line of code using dataframe.dropna. Setting the argument in place to true, allows the modification to be done on the data set directly. In place equals true, just writes the result back into the data frame. To modify the data frame, you have to set the parameter in place equal to true.\n",
    "SYNTAX:\n",
    "df.dropna(subset=[\"price\"], axis=0, inplace=True)\n",
    "\n",
    "axis=0 --Drops the entire row\n",
    "axis=1 --Drops the entire column\n",
    "\n",
    "df2.dropna(inplace=True)\n",
    "\n",
    "This is equivalent to this line of code. Don't forget that this line of code does not change the data frame but is a good way to make sure that you are performing the correct operation.\n",
    "\n",
    "SYNTAX: df.dropna(subset=[\"price\"], axis=0)\n",
    "    "
   ]
  },
  {
   "cell_type": "markdown",
   "id": "680e18f8",
   "metadata": {},
   "source": [
    "."
   ]
  },
  {
   "cell_type": "code",
   "execution_count": 125,
   "id": "895603be",
   "metadata": {},
   "outputs": [],
   "source": [
    "df.dropna(subset=['price'], axis=0, inplace=True)"
   ]
  },
  {
   "cell_type": "markdown",
   "id": "ce684f8c",
   "metadata": {},
   "source": [
    "."
   ]
  },
  {
   "cell_type": "markdown",
   "id": "35f7869f",
   "metadata": {},
   "source": [
    "#Replace missing values:\n",
    "\n",
    "Assume we want to replace the missing values of the variable normalized-losses by the mean value of the variable."
   ]
  },
  {
   "cell_type": "code",
   "execution_count": 126,
   "id": "4dc58a2d",
   "metadata": {},
   "outputs": [
    {
     "data": {
      "text/html": [
       "<div>\n",
       "<style scoped>\n",
       "    .dataframe tbody tr th:only-of-type {\n",
       "        vertical-align: middle;\n",
       "    }\n",
       "\n",
       "    .dataframe tbody tr th {\n",
       "        vertical-align: top;\n",
       "    }\n",
       "\n",
       "    .dataframe thead th {\n",
       "        text-align: right;\n",
       "    }\n",
       "</style>\n",
       "<table border=\"1\" class=\"dataframe\">\n",
       "  <thead>\n",
       "    <tr style=\"text-align: right;\">\n",
       "      <th></th>\n",
       "      <th>normalized-losses</th>\n",
       "      <th>make</th>\n",
       "    </tr>\n",
       "  </thead>\n",
       "  <tbody>\n",
       "    <tr>\n",
       "      <th>0</th>\n",
       "      <td>?</td>\n",
       "      <td>alfa-romero</td>\n",
       "    </tr>\n",
       "    <tr>\n",
       "      <th>1</th>\n",
       "      <td>?</td>\n",
       "      <td>alfa-romero</td>\n",
       "    </tr>\n",
       "    <tr>\n",
       "      <th>2</th>\n",
       "      <td>?</td>\n",
       "      <td>alfa-romero</td>\n",
       "    </tr>\n",
       "    <tr>\n",
       "      <th>3</th>\n",
       "      <td>164</td>\n",
       "      <td>audi</td>\n",
       "    </tr>\n",
       "    <tr>\n",
       "      <th>4</th>\n",
       "      <td>164</td>\n",
       "      <td>audi</td>\n",
       "    </tr>\n",
       "    <tr>\n",
       "      <th>...</th>\n",
       "      <td>...</td>\n",
       "      <td>...</td>\n",
       "    </tr>\n",
       "    <tr>\n",
       "      <th>200</th>\n",
       "      <td>95</td>\n",
       "      <td>volvo</td>\n",
       "    </tr>\n",
       "    <tr>\n",
       "      <th>201</th>\n",
       "      <td>95</td>\n",
       "      <td>volvo</td>\n",
       "    </tr>\n",
       "    <tr>\n",
       "      <th>202</th>\n",
       "      <td>95</td>\n",
       "      <td>volvo</td>\n",
       "    </tr>\n",
       "    <tr>\n",
       "      <th>203</th>\n",
       "      <td>95</td>\n",
       "      <td>volvo</td>\n",
       "    </tr>\n",
       "    <tr>\n",
       "      <th>204</th>\n",
       "      <td>95</td>\n",
       "      <td>volvo</td>\n",
       "    </tr>\n",
       "  </tbody>\n",
       "</table>\n",
       "<p>201 rows × 2 columns</p>\n",
       "</div>"
      ],
      "text/plain": [
       "    normalized-losses         make\n",
       "0                   ?  alfa-romero\n",
       "1                   ?  alfa-romero\n",
       "2                   ?  alfa-romero\n",
       "3                 164         audi\n",
       "4                 164         audi\n",
       "..                ...          ...\n",
       "200                95        volvo\n",
       "201                95        volvo\n",
       "202                95        volvo\n",
       "203                95        volvo\n",
       "204                95        volvo\n",
       "\n",
       "[201 rows x 2 columns]"
      ]
     },
     "execution_count": 126,
     "metadata": {},
     "output_type": "execute_result"
    }
   ],
   "source": [
    "df.loc[:,['normalized-losses','make']]"
   ]
  },
  {
   "cell_type": "code",
   "execution_count": 127,
   "id": "3ec65a12",
   "metadata": {},
   "outputs": [
    {
     "data": {
      "text/plain": [
       "dtype('float64')"
      ]
     },
     "execution_count": 127,
     "metadata": {},
     "output_type": "execute_result"
    }
   ],
   "source": [
    "con=df.copy()\n",
    "con.loc[con['normalized-losses']=='?']\n",
    "(con['normalized-losses']=='?').dtype\n",
    "con['normalized-losses'].replace(\"?\", np.nan, inplace=True)\n",
    "con['normalized-losses']=pd.to_numeric(con['normalized-losses'])\n",
    "con['normalized-losses'].dtype"
   ]
  },
  {
   "cell_type": "code",
   "execution_count": 128,
   "id": "5106384d",
   "metadata": {},
   "outputs": [],
   "source": [
    "df['normalized-losses'] = con['normalized-losses'].copy()"
   ]
  },
  {
   "cell_type": "code",
   "execution_count": 129,
   "id": "fa0283e7",
   "metadata": {},
   "outputs": [
    {
     "data": {
      "text/plain": [
       "<bound method Series.unique of 0        NaN\n",
       "1        NaN\n",
       "2        NaN\n",
       "3      164.0\n",
       "4      164.0\n",
       "       ...  \n",
       "200     95.0\n",
       "201     95.0\n",
       "202     95.0\n",
       "203     95.0\n",
       "204     95.0\n",
       "Name: normalized-losses, Length: 201, dtype: float64>"
      ]
     },
     "execution_count": 129,
     "metadata": {},
     "output_type": "execute_result"
    }
   ],
   "source": [
    "df['normalized-losses'].unique"
   ]
  },
  {
   "cell_type": "code",
   "execution_count": 130,
   "id": "a082a600",
   "metadata": {},
   "outputs": [
    {
     "data": {
      "text/plain": [
       "122.0"
      ]
     },
     "execution_count": 130,
     "metadata": {},
     "output_type": "execute_result"
    }
   ],
   "source": [
    "mean = df['normalized-losses'].mean()\n",
    "mean"
   ]
  },
  {
   "cell_type": "code",
   "execution_count": 131,
   "id": "abb66cb9",
   "metadata": {},
   "outputs": [
    {
     "data": {
      "text/plain": [
       "0      122.0\n",
       "1      122.0\n",
       "2      122.0\n",
       "3      164.0\n",
       "4      164.0\n",
       "       ...  \n",
       "200     95.0\n",
       "201     95.0\n",
       "202     95.0\n",
       "203     95.0\n",
       "204     95.0\n",
       "Name: normalized-losses, Length: 201, dtype: float64"
      ]
     },
     "execution_count": 131,
     "metadata": {},
     "output_type": "execute_result"
    }
   ],
   "source": [
    "df['normalized-losses'].replace(np.nan, mean)  # We can choose inplace=True to make the changes directly to the dataset permanently."
   ]
  },
  {
   "cell_type": "code",
   "execution_count": 132,
   "id": "91ef9c7f",
   "metadata": {
    "scrolled": true
   },
   "outputs": [
    {
     "data": {
      "text/plain": [
       "0"
      ]
     },
     "execution_count": 132,
     "metadata": {},
     "output_type": "execute_result"
    }
   ],
   "source": [
    "(df['price']==np.nan).sum()"
   ]
  },
  {
   "cell_type": "markdown",
   "id": "e491c3be",
   "metadata": {},
   "source": [
    "."
   ]
  },
  {
   "cell_type": "markdown",
   "id": "d641cb2c",
   "metadata": {},
   "source": [
    "# Data Formatting\n",
    "\n",
    "- Data are usually collected from different sources and stored in different formats.\n",
    "- Bringing data into a common standard of expression allows users to make meaningful comparison."
   ]
  },
  {
   "cell_type": "code",
   "execution_count": 133,
   "id": "9527a022",
   "metadata": {},
   "outputs": [],
   "source": [
    "city = {\"city\": ['NY','New York','N.Y.','N.Y.']}\n",
    "city_df = pd.DataFrame(city)"
   ]
  },
  {
   "cell_type": "code",
   "execution_count": 134,
   "id": "3f8d9ac2",
   "metadata": {},
   "outputs": [
    {
     "data": {
      "text/html": [
       "<div>\n",
       "<style scoped>\n",
       "    .dataframe tbody tr th:only-of-type {\n",
       "        vertical-align: middle;\n",
       "    }\n",
       "\n",
       "    .dataframe tbody tr th {\n",
       "        vertical-align: top;\n",
       "    }\n",
       "\n",
       "    .dataframe thead th {\n",
       "        text-align: right;\n",
       "    }\n",
       "</style>\n",
       "<table border=\"1\" class=\"dataframe\">\n",
       "  <thead>\n",
       "    <tr style=\"text-align: right;\">\n",
       "      <th></th>\n",
       "      <th>city</th>\n",
       "    </tr>\n",
       "  </thead>\n",
       "  <tbody>\n",
       "    <tr>\n",
       "      <th>0</th>\n",
       "      <td>NY</td>\n",
       "    </tr>\n",
       "    <tr>\n",
       "      <th>1</th>\n",
       "      <td>New York</td>\n",
       "    </tr>\n",
       "    <tr>\n",
       "      <th>2</th>\n",
       "      <td>N.Y.</td>\n",
       "    </tr>\n",
       "    <tr>\n",
       "      <th>3</th>\n",
       "      <td>N.Y.</td>\n",
       "    </tr>\n",
       "  </tbody>\n",
       "</table>\n",
       "</div>"
      ],
      "text/plain": [
       "       city\n",
       "0        NY\n",
       "1  New York\n",
       "2      N.Y.\n",
       "3      N.Y."
      ]
     },
     "execution_count": 134,
     "metadata": {},
     "output_type": "execute_result"
    }
   ],
   "source": [
    "city_df"
   ]
  },
  {
   "cell_type": "raw",
   "id": "376a25ef",
   "metadata": {},
   "source": [
    "Non formatted: confusing, hard to aggregate, hard to compare\n",
    "Formatted: more clear, easy to aggregate, easy to compare"
   ]
  },
  {
   "cell_type": "code",
   "execution_count": 135,
   "id": "64be2f35",
   "metadata": {},
   "outputs": [
    {
     "data": {
      "text/plain": [
       "Index(['city'], dtype='object')"
      ]
     },
     "execution_count": 135,
     "metadata": {},
     "output_type": "execute_result"
    }
   ],
   "source": [
    "city_df.columns"
   ]
  },
  {
   "cell_type": "markdown",
   "id": "75451765",
   "metadata": {},
   "source": [
    "#### Apply calculations to an entire column\n",
    "Convert \"mpg\" to \"L/100km\" in Car dataset."
   ]
  },
  {
   "cell_type": "code",
   "execution_count": 136,
   "id": "5b225ec5",
   "metadata": {},
   "outputs": [
    {
     "data": {
      "text/html": [
       "<div>\n",
       "<style scoped>\n",
       "    .dataframe tbody tr th:only-of-type {\n",
       "        vertical-align: middle;\n",
       "    }\n",
       "\n",
       "    .dataframe tbody tr th {\n",
       "        vertical-align: top;\n",
       "    }\n",
       "\n",
       "    .dataframe thead th {\n",
       "        text-align: right;\n",
       "    }\n",
       "</style>\n",
       "<table border=\"1\" class=\"dataframe\">\n",
       "  <thead>\n",
       "    <tr style=\"text-align: right;\">\n",
       "      <th></th>\n",
       "      <th>city-mpg</th>\n",
       "      <th>price</th>\n",
       "    </tr>\n",
       "  </thead>\n",
       "  <tbody>\n",
       "    <tr>\n",
       "      <th>0</th>\n",
       "      <td>21</td>\n",
       "      <td>13495</td>\n",
       "    </tr>\n",
       "    <tr>\n",
       "      <th>1</th>\n",
       "      <td>21</td>\n",
       "      <td>16500</td>\n",
       "    </tr>\n",
       "    <tr>\n",
       "      <th>2</th>\n",
       "      <td>19</td>\n",
       "      <td>16500</td>\n",
       "    </tr>\n",
       "    <tr>\n",
       "      <th>3</th>\n",
       "      <td>24</td>\n",
       "      <td>13950</td>\n",
       "    </tr>\n",
       "    <tr>\n",
       "      <th>4</th>\n",
       "      <td>18</td>\n",
       "      <td>17450</td>\n",
       "    </tr>\n",
       "    <tr>\n",
       "      <th>...</th>\n",
       "      <td>...</td>\n",
       "      <td>...</td>\n",
       "    </tr>\n",
       "    <tr>\n",
       "      <th>200</th>\n",
       "      <td>23</td>\n",
       "      <td>16845</td>\n",
       "    </tr>\n",
       "    <tr>\n",
       "      <th>201</th>\n",
       "      <td>19</td>\n",
       "      <td>19045</td>\n",
       "    </tr>\n",
       "    <tr>\n",
       "      <th>202</th>\n",
       "      <td>18</td>\n",
       "      <td>21485</td>\n",
       "    </tr>\n",
       "    <tr>\n",
       "      <th>203</th>\n",
       "      <td>26</td>\n",
       "      <td>22470</td>\n",
       "    </tr>\n",
       "    <tr>\n",
       "      <th>204</th>\n",
       "      <td>19</td>\n",
       "      <td>22625</td>\n",
       "    </tr>\n",
       "  </tbody>\n",
       "</table>\n",
       "<p>201 rows × 2 columns</p>\n",
       "</div>"
      ],
      "text/plain": [
       "     city-mpg  price\n",
       "0          21  13495\n",
       "1          21  16500\n",
       "2          19  16500\n",
       "3          24  13950\n",
       "4          18  17450\n",
       "..        ...    ...\n",
       "200        23  16845\n",
       "201        19  19045\n",
       "202        18  21485\n",
       "203        26  22470\n",
       "204        19  22625\n",
       "\n",
       "[201 rows x 2 columns]"
      ]
     },
     "execution_count": 136,
     "metadata": {},
     "output_type": "execute_result"
    }
   ],
   "source": [
    "df.loc[:,['city-mpg','price']]"
   ]
  },
  {
   "cell_type": "code",
   "execution_count": 268,
   "id": "1bdcc1c4",
   "metadata": {},
   "outputs": [
    {
     "data": {
      "text/html": [
       "<div>\n",
       "<style scoped>\n",
       "    .dataframe tbody tr th:only-of-type {\n",
       "        vertical-align: middle;\n",
       "    }\n",
       "\n",
       "    .dataframe tbody tr th {\n",
       "        vertical-align: top;\n",
       "    }\n",
       "\n",
       "    .dataframe thead th {\n",
       "        text-align: right;\n",
       "    }\n",
       "</style>\n",
       "<table border=\"1\" class=\"dataframe\">\n",
       "  <thead>\n",
       "    <tr style=\"text-align: right;\">\n",
       "      <th></th>\n",
       "      <th>symboling</th>\n",
       "      <th>normalized-losses</th>\n",
       "      <th>make</th>\n",
       "      <th>fuel-type</th>\n",
       "      <th>aspiration</th>\n",
       "      <th>num-of-doors</th>\n",
       "      <th>body-style</th>\n",
       "      <th>drive-wheels</th>\n",
       "      <th>engine-location</th>\n",
       "      <th>wheel-base</th>\n",
       "      <th>...</th>\n",
       "      <th>engine-size</th>\n",
       "      <th>fuel-system</th>\n",
       "      <th>bore</th>\n",
       "      <th>stroke</th>\n",
       "      <th>compression-ratio</th>\n",
       "      <th>horsepower</th>\n",
       "      <th>peak-rpm</th>\n",
       "      <th>city-L/100km</th>\n",
       "      <th>highway-mpg</th>\n",
       "      <th>price</th>\n",
       "    </tr>\n",
       "  </thead>\n",
       "  <tbody>\n",
       "    <tr>\n",
       "      <th>0</th>\n",
       "      <td>3</td>\n",
       "      <td>NaN</td>\n",
       "      <td>alfa-romero</td>\n",
       "      <td>gas</td>\n",
       "      <td>std</td>\n",
       "      <td>two</td>\n",
       "      <td>convertible</td>\n",
       "      <td>rwd</td>\n",
       "      <td>front</td>\n",
       "      <td>88.6</td>\n",
       "      <td>...</td>\n",
       "      <td>130</td>\n",
       "      <td>mpfi</td>\n",
       "      <td>3.47</td>\n",
       "      <td>2.68</td>\n",
       "      <td>9.0</td>\n",
       "      <td>111</td>\n",
       "      <td>5000</td>\n",
       "      <td>11.190476</td>\n",
       "      <td>27</td>\n",
       "      <td>13495</td>\n",
       "    </tr>\n",
       "    <tr>\n",
       "      <th>1</th>\n",
       "      <td>3</td>\n",
       "      <td>NaN</td>\n",
       "      <td>alfa-romero</td>\n",
       "      <td>gas</td>\n",
       "      <td>std</td>\n",
       "      <td>two</td>\n",
       "      <td>convertible</td>\n",
       "      <td>rwd</td>\n",
       "      <td>front</td>\n",
       "      <td>88.6</td>\n",
       "      <td>...</td>\n",
       "      <td>130</td>\n",
       "      <td>mpfi</td>\n",
       "      <td>3.47</td>\n",
       "      <td>2.68</td>\n",
       "      <td>9.0</td>\n",
       "      <td>111</td>\n",
       "      <td>5000</td>\n",
       "      <td>11.190476</td>\n",
       "      <td>27</td>\n",
       "      <td>16500</td>\n",
       "    </tr>\n",
       "    <tr>\n",
       "      <th>2</th>\n",
       "      <td>1</td>\n",
       "      <td>NaN</td>\n",
       "      <td>alfa-romero</td>\n",
       "      <td>gas</td>\n",
       "      <td>std</td>\n",
       "      <td>two</td>\n",
       "      <td>hatchback</td>\n",
       "      <td>rwd</td>\n",
       "      <td>front</td>\n",
       "      <td>94.5</td>\n",
       "      <td>...</td>\n",
       "      <td>152</td>\n",
       "      <td>mpfi</td>\n",
       "      <td>2.68</td>\n",
       "      <td>3.47</td>\n",
       "      <td>9.0</td>\n",
       "      <td>154</td>\n",
       "      <td>5000</td>\n",
       "      <td>12.368421</td>\n",
       "      <td>26</td>\n",
       "      <td>16500</td>\n",
       "    </tr>\n",
       "    <tr>\n",
       "      <th>3</th>\n",
       "      <td>2</td>\n",
       "      <td>164.0</td>\n",
       "      <td>audi</td>\n",
       "      <td>gas</td>\n",
       "      <td>std</td>\n",
       "      <td>four</td>\n",
       "      <td>sedan</td>\n",
       "      <td>fwd</td>\n",
       "      <td>front</td>\n",
       "      <td>99.8</td>\n",
       "      <td>...</td>\n",
       "      <td>109</td>\n",
       "      <td>mpfi</td>\n",
       "      <td>3.19</td>\n",
       "      <td>3.40</td>\n",
       "      <td>10.0</td>\n",
       "      <td>102</td>\n",
       "      <td>5500</td>\n",
       "      <td>9.791667</td>\n",
       "      <td>30</td>\n",
       "      <td>13950</td>\n",
       "    </tr>\n",
       "    <tr>\n",
       "      <th>4</th>\n",
       "      <td>2</td>\n",
       "      <td>164.0</td>\n",
       "      <td>audi</td>\n",
       "      <td>gas</td>\n",
       "      <td>std</td>\n",
       "      <td>four</td>\n",
       "      <td>sedan</td>\n",
       "      <td>4wd</td>\n",
       "      <td>front</td>\n",
       "      <td>99.4</td>\n",
       "      <td>...</td>\n",
       "      <td>136</td>\n",
       "      <td>mpfi</td>\n",
       "      <td>3.19</td>\n",
       "      <td>3.40</td>\n",
       "      <td>8.0</td>\n",
       "      <td>115</td>\n",
       "      <td>5500</td>\n",
       "      <td>13.055556</td>\n",
       "      <td>22</td>\n",
       "      <td>17450</td>\n",
       "    </tr>\n",
       "    <tr>\n",
       "      <th>...</th>\n",
       "      <td>...</td>\n",
       "      <td>...</td>\n",
       "      <td>...</td>\n",
       "      <td>...</td>\n",
       "      <td>...</td>\n",
       "      <td>...</td>\n",
       "      <td>...</td>\n",
       "      <td>...</td>\n",
       "      <td>...</td>\n",
       "      <td>...</td>\n",
       "      <td>...</td>\n",
       "      <td>...</td>\n",
       "      <td>...</td>\n",
       "      <td>...</td>\n",
       "      <td>...</td>\n",
       "      <td>...</td>\n",
       "      <td>...</td>\n",
       "      <td>...</td>\n",
       "      <td>...</td>\n",
       "      <td>...</td>\n",
       "      <td>...</td>\n",
       "    </tr>\n",
       "    <tr>\n",
       "      <th>200</th>\n",
       "      <td>-1</td>\n",
       "      <td>95.0</td>\n",
       "      <td>volvo</td>\n",
       "      <td>gas</td>\n",
       "      <td>std</td>\n",
       "      <td>four</td>\n",
       "      <td>sedan</td>\n",
       "      <td>rwd</td>\n",
       "      <td>front</td>\n",
       "      <td>109.1</td>\n",
       "      <td>...</td>\n",
       "      <td>141</td>\n",
       "      <td>mpfi</td>\n",
       "      <td>3.78</td>\n",
       "      <td>3.15</td>\n",
       "      <td>9.5</td>\n",
       "      <td>114</td>\n",
       "      <td>5400</td>\n",
       "      <td>10.217391</td>\n",
       "      <td>28</td>\n",
       "      <td>16845</td>\n",
       "    </tr>\n",
       "    <tr>\n",
       "      <th>201</th>\n",
       "      <td>-1</td>\n",
       "      <td>95.0</td>\n",
       "      <td>volvo</td>\n",
       "      <td>gas</td>\n",
       "      <td>turbo</td>\n",
       "      <td>four</td>\n",
       "      <td>sedan</td>\n",
       "      <td>rwd</td>\n",
       "      <td>front</td>\n",
       "      <td>109.1</td>\n",
       "      <td>...</td>\n",
       "      <td>141</td>\n",
       "      <td>mpfi</td>\n",
       "      <td>3.78</td>\n",
       "      <td>3.15</td>\n",
       "      <td>8.7</td>\n",
       "      <td>160</td>\n",
       "      <td>5300</td>\n",
       "      <td>12.368421</td>\n",
       "      <td>25</td>\n",
       "      <td>19045</td>\n",
       "    </tr>\n",
       "    <tr>\n",
       "      <th>202</th>\n",
       "      <td>-1</td>\n",
       "      <td>95.0</td>\n",
       "      <td>volvo</td>\n",
       "      <td>gas</td>\n",
       "      <td>std</td>\n",
       "      <td>four</td>\n",
       "      <td>sedan</td>\n",
       "      <td>rwd</td>\n",
       "      <td>front</td>\n",
       "      <td>109.1</td>\n",
       "      <td>...</td>\n",
       "      <td>173</td>\n",
       "      <td>mpfi</td>\n",
       "      <td>3.58</td>\n",
       "      <td>2.87</td>\n",
       "      <td>8.8</td>\n",
       "      <td>134</td>\n",
       "      <td>5500</td>\n",
       "      <td>13.055556</td>\n",
       "      <td>23</td>\n",
       "      <td>21485</td>\n",
       "    </tr>\n",
       "    <tr>\n",
       "      <th>203</th>\n",
       "      <td>-1</td>\n",
       "      <td>95.0</td>\n",
       "      <td>volvo</td>\n",
       "      <td>diesel</td>\n",
       "      <td>turbo</td>\n",
       "      <td>four</td>\n",
       "      <td>sedan</td>\n",
       "      <td>rwd</td>\n",
       "      <td>front</td>\n",
       "      <td>109.1</td>\n",
       "      <td>...</td>\n",
       "      <td>145</td>\n",
       "      <td>idi</td>\n",
       "      <td>3.01</td>\n",
       "      <td>3.40</td>\n",
       "      <td>23.0</td>\n",
       "      <td>106</td>\n",
       "      <td>4800</td>\n",
       "      <td>9.038462</td>\n",
       "      <td>27</td>\n",
       "      <td>22470</td>\n",
       "    </tr>\n",
       "    <tr>\n",
       "      <th>204</th>\n",
       "      <td>-1</td>\n",
       "      <td>95.0</td>\n",
       "      <td>volvo</td>\n",
       "      <td>gas</td>\n",
       "      <td>turbo</td>\n",
       "      <td>four</td>\n",
       "      <td>sedan</td>\n",
       "      <td>rwd</td>\n",
       "      <td>front</td>\n",
       "      <td>109.1</td>\n",
       "      <td>...</td>\n",
       "      <td>141</td>\n",
       "      <td>mpfi</td>\n",
       "      <td>3.78</td>\n",
       "      <td>3.15</td>\n",
       "      <td>9.5</td>\n",
       "      <td>114</td>\n",
       "      <td>5400</td>\n",
       "      <td>12.368421</td>\n",
       "      <td>25</td>\n",
       "      <td>22625</td>\n",
       "    </tr>\n",
       "  </tbody>\n",
       "</table>\n",
       "<p>201 rows × 26 columns</p>\n",
       "</div>"
      ],
      "text/plain": [
       "     symboling  normalized-losses         make fuel-type aspiration  \\\n",
       "0            3                NaN  alfa-romero       gas        std   \n",
       "1            3                NaN  alfa-romero       gas        std   \n",
       "2            1                NaN  alfa-romero       gas        std   \n",
       "3            2              164.0         audi       gas        std   \n",
       "4            2              164.0         audi       gas        std   \n",
       "..         ...                ...          ...       ...        ...   \n",
       "200         -1               95.0        volvo       gas        std   \n",
       "201         -1               95.0        volvo       gas      turbo   \n",
       "202         -1               95.0        volvo       gas        std   \n",
       "203         -1               95.0        volvo    diesel      turbo   \n",
       "204         -1               95.0        volvo       gas      turbo   \n",
       "\n",
       "    num-of-doors   body-style drive-wheels engine-location  wheel-base  ...  \\\n",
       "0            two  convertible          rwd           front        88.6  ...   \n",
       "1            two  convertible          rwd           front        88.6  ...   \n",
       "2            two    hatchback          rwd           front        94.5  ...   \n",
       "3           four        sedan          fwd           front        99.8  ...   \n",
       "4           four        sedan          4wd           front        99.4  ...   \n",
       "..           ...          ...          ...             ...         ...  ...   \n",
       "200         four        sedan          rwd           front       109.1  ...   \n",
       "201         four        sedan          rwd           front       109.1  ...   \n",
       "202         four        sedan          rwd           front       109.1  ...   \n",
       "203         four        sedan          rwd           front       109.1  ...   \n",
       "204         four        sedan          rwd           front       109.1  ...   \n",
       "\n",
       "     engine-size  fuel-system  bore  stroke compression-ratio horsepower  \\\n",
       "0            130         mpfi  3.47    2.68               9.0        111   \n",
       "1            130         mpfi  3.47    2.68               9.0        111   \n",
       "2            152         mpfi  2.68    3.47               9.0        154   \n",
       "3            109         mpfi  3.19    3.40              10.0        102   \n",
       "4            136         mpfi  3.19    3.40               8.0        115   \n",
       "..           ...          ...   ...     ...               ...        ...   \n",
       "200          141         mpfi  3.78    3.15               9.5        114   \n",
       "201          141         mpfi  3.78    3.15               8.7        160   \n",
       "202          173         mpfi  3.58    2.87               8.8        134   \n",
       "203          145          idi  3.01    3.40              23.0        106   \n",
       "204          141         mpfi  3.78    3.15               9.5        114   \n",
       "\n",
       "     peak-rpm city-L/100km highway-mpg  price  \n",
       "0        5000    11.190476          27  13495  \n",
       "1        5000    11.190476          27  16500  \n",
       "2        5000    12.368421          26  16500  \n",
       "3        5500     9.791667          30  13950  \n",
       "4        5500    13.055556          22  17450  \n",
       "..        ...          ...         ...    ...  \n",
       "200      5400    10.217391          28  16845  \n",
       "201      5300    12.368421          25  19045  \n",
       "202      5500    13.055556          23  21485  \n",
       "203      4800     9.038462          27  22470  \n",
       "204      5400    12.368421          25  22625  \n",
       "\n",
       "[201 rows x 26 columns]"
      ]
     },
     "execution_count": 268,
     "metadata": {},
     "output_type": "execute_result"
    }
   ],
   "source": [
    "df"
   ]
  },
  {
   "cell_type": "code",
   "execution_count": 266,
   "id": "af66abff",
   "metadata": {
    "collapsed": true
   },
   "outputs": [
    {
     "ename": "KeyError",
     "evalue": "'city-mpg'",
     "output_type": "error",
     "traceback": [
      "\u001b[1;31m---------------------------------------------------------------------------\u001b[0m",
      "\u001b[1;31mKeyError\u001b[0m                                  Traceback (most recent call last)",
      "File \u001b[1;32m~\\AppData\\Local\\Programs\\Python\\Python310\\lib\\site-packages\\pandas\\core\\indexes\\base.py:3621\u001b[0m, in \u001b[0;36mIndex.get_loc\u001b[1;34m(self, key, method, tolerance)\u001b[0m\n\u001b[0;32m   3620\u001b[0m \u001b[38;5;28;01mtry\u001b[39;00m:\n\u001b[1;32m-> 3621\u001b[0m     \u001b[38;5;28;01mreturn\u001b[39;00m \u001b[38;5;28;43mself\u001b[39;49m\u001b[38;5;241;43m.\u001b[39;49m\u001b[43m_engine\u001b[49m\u001b[38;5;241;43m.\u001b[39;49m\u001b[43mget_loc\u001b[49m\u001b[43m(\u001b[49m\u001b[43mcasted_key\u001b[49m\u001b[43m)\u001b[49m\n\u001b[0;32m   3622\u001b[0m \u001b[38;5;28;01mexcept\u001b[39;00m \u001b[38;5;167;01mKeyError\u001b[39;00m \u001b[38;5;28;01mas\u001b[39;00m err:\n",
      "File \u001b[1;32m~\\AppData\\Local\\Programs\\Python\\Python310\\lib\\site-packages\\pandas\\_libs\\index.pyx:136\u001b[0m, in \u001b[0;36mpandas._libs.index.IndexEngine.get_loc\u001b[1;34m()\u001b[0m\n",
      "File \u001b[1;32m~\\AppData\\Local\\Programs\\Python\\Python310\\lib\\site-packages\\pandas\\_libs\\index.pyx:163\u001b[0m, in \u001b[0;36mpandas._libs.index.IndexEngine.get_loc\u001b[1;34m()\u001b[0m\n",
      "File \u001b[1;32mpandas\\_libs\\hashtable_class_helper.pxi:5198\u001b[0m, in \u001b[0;36mpandas._libs.hashtable.PyObjectHashTable.get_item\u001b[1;34m()\u001b[0m\n",
      "File \u001b[1;32mpandas\\_libs\\hashtable_class_helper.pxi:5206\u001b[0m, in \u001b[0;36mpandas._libs.hashtable.PyObjectHashTable.get_item\u001b[1;34m()\u001b[0m\n",
      "\u001b[1;31mKeyError\u001b[0m: 'city-mpg'",
      "\nThe above exception was the direct cause of the following exception:\n",
      "\u001b[1;31mKeyError\u001b[0m                                  Traceback (most recent call last)",
      "Input \u001b[1;32mIn [266]\u001b[0m, in \u001b[0;36m<cell line: 1>\u001b[1;34m()\u001b[0m\n\u001b[1;32m----> 1\u001b[0m df[\u001b[38;5;124m'\u001b[39m\u001b[38;5;124mcity-mpg\u001b[39m\u001b[38;5;124m'\u001b[39m] \u001b[38;5;241m=\u001b[39m \u001b[38;5;241m235\u001b[39m\u001b[38;5;241m/\u001b[39m\u001b[43mdf\u001b[49m\u001b[43m[\u001b[49m\u001b[38;5;124;43m'\u001b[39;49m\u001b[38;5;124;43mcity-mpg\u001b[39;49m\u001b[38;5;124;43m'\u001b[39;49m\u001b[43m]\u001b[49m\n\u001b[0;32m      2\u001b[0m df\u001b[38;5;241m.\u001b[39mrename(columns\u001b[38;5;241m=\u001b[39m{\u001b[38;5;124m'\u001b[39m\u001b[38;5;124mcity-mpg\u001b[39m\u001b[38;5;124m'\u001b[39m:\u001b[38;5;124m'\u001b[39m\u001b[38;5;124mcity-L/100km\u001b[39m\u001b[38;5;124m'\u001b[39m}, inplace\u001b[38;5;241m=\u001b[39m\u001b[38;5;28;01mTrue\u001b[39;00m)\n",
      "File \u001b[1;32m~\\AppData\\Local\\Programs\\Python\\Python310\\lib\\site-packages\\pandas\\core\\frame.py:3505\u001b[0m, in \u001b[0;36mDataFrame.__getitem__\u001b[1;34m(self, key)\u001b[0m\n\u001b[0;32m   3503\u001b[0m \u001b[38;5;28;01mif\u001b[39;00m \u001b[38;5;28mself\u001b[39m\u001b[38;5;241m.\u001b[39mcolumns\u001b[38;5;241m.\u001b[39mnlevels \u001b[38;5;241m>\u001b[39m \u001b[38;5;241m1\u001b[39m:\n\u001b[0;32m   3504\u001b[0m     \u001b[38;5;28;01mreturn\u001b[39;00m \u001b[38;5;28mself\u001b[39m\u001b[38;5;241m.\u001b[39m_getitem_multilevel(key)\n\u001b[1;32m-> 3505\u001b[0m indexer \u001b[38;5;241m=\u001b[39m \u001b[38;5;28;43mself\u001b[39;49m\u001b[38;5;241;43m.\u001b[39;49m\u001b[43mcolumns\u001b[49m\u001b[38;5;241;43m.\u001b[39;49m\u001b[43mget_loc\u001b[49m\u001b[43m(\u001b[49m\u001b[43mkey\u001b[49m\u001b[43m)\u001b[49m\n\u001b[0;32m   3506\u001b[0m \u001b[38;5;28;01mif\u001b[39;00m is_integer(indexer):\n\u001b[0;32m   3507\u001b[0m     indexer \u001b[38;5;241m=\u001b[39m [indexer]\n",
      "File \u001b[1;32m~\\AppData\\Local\\Programs\\Python\\Python310\\lib\\site-packages\\pandas\\core\\indexes\\base.py:3623\u001b[0m, in \u001b[0;36mIndex.get_loc\u001b[1;34m(self, key, method, tolerance)\u001b[0m\n\u001b[0;32m   3621\u001b[0m     \u001b[38;5;28;01mreturn\u001b[39;00m \u001b[38;5;28mself\u001b[39m\u001b[38;5;241m.\u001b[39m_engine\u001b[38;5;241m.\u001b[39mget_loc(casted_key)\n\u001b[0;32m   3622\u001b[0m \u001b[38;5;28;01mexcept\u001b[39;00m \u001b[38;5;167;01mKeyError\u001b[39;00m \u001b[38;5;28;01mas\u001b[39;00m err:\n\u001b[1;32m-> 3623\u001b[0m     \u001b[38;5;28;01mraise\u001b[39;00m \u001b[38;5;167;01mKeyError\u001b[39;00m(key) \u001b[38;5;28;01mfrom\u001b[39;00m \u001b[38;5;21;01merr\u001b[39;00m\n\u001b[0;32m   3624\u001b[0m \u001b[38;5;28;01mexcept\u001b[39;00m \u001b[38;5;167;01mTypeError\u001b[39;00m:\n\u001b[0;32m   3625\u001b[0m     \u001b[38;5;66;03m# If we have a listlike key, _check_indexing_error will raise\u001b[39;00m\n\u001b[0;32m   3626\u001b[0m     \u001b[38;5;66;03m#  InvalidIndexError. Otherwise we fall through and re-raise\u001b[39;00m\n\u001b[0;32m   3627\u001b[0m     \u001b[38;5;66;03m#  the TypeError.\u001b[39;00m\n\u001b[0;32m   3628\u001b[0m     \u001b[38;5;28mself\u001b[39m\u001b[38;5;241m.\u001b[39m_check_indexing_error(key)\n",
      "\u001b[1;31mKeyError\u001b[0m: 'city-mpg'"
     ]
    }
   ],
   "source": [
    "df['city-mpg'] = 235/df['city-mpg']\n",
    "df.rename(columns={'city-mpg':'city-L/100km'}, inplace=True)"
   ]
  },
  {
   "cell_type": "code",
   "execution_count": 138,
   "id": "6baa6f12",
   "metadata": {},
   "outputs": [
    {
     "data": {
      "text/html": [
       "<div>\n",
       "<style scoped>\n",
       "    .dataframe tbody tr th:only-of-type {\n",
       "        vertical-align: middle;\n",
       "    }\n",
       "\n",
       "    .dataframe tbody tr th {\n",
       "        vertical-align: top;\n",
       "    }\n",
       "\n",
       "    .dataframe thead th {\n",
       "        text-align: right;\n",
       "    }\n",
       "</style>\n",
       "<table border=\"1\" class=\"dataframe\">\n",
       "  <thead>\n",
       "    <tr style=\"text-align: right;\">\n",
       "      <th></th>\n",
       "      <th>symboling</th>\n",
       "      <th>normalized-losses</th>\n",
       "      <th>make</th>\n",
       "      <th>fuel-type</th>\n",
       "      <th>aspiration</th>\n",
       "      <th>num-of-doors</th>\n",
       "      <th>body-style</th>\n",
       "      <th>drive-wheels</th>\n",
       "      <th>engine-location</th>\n",
       "      <th>wheel-base</th>\n",
       "      <th>...</th>\n",
       "      <th>engine-size</th>\n",
       "      <th>fuel-system</th>\n",
       "      <th>bore</th>\n",
       "      <th>stroke</th>\n",
       "      <th>compression-ratio</th>\n",
       "      <th>horsepower</th>\n",
       "      <th>peak-rpm</th>\n",
       "      <th>city-L/100km</th>\n",
       "      <th>highway-mpg</th>\n",
       "      <th>price</th>\n",
       "    </tr>\n",
       "  </thead>\n",
       "  <tbody>\n",
       "    <tr>\n",
       "      <th>0</th>\n",
       "      <td>3</td>\n",
       "      <td>NaN</td>\n",
       "      <td>alfa-romero</td>\n",
       "      <td>gas</td>\n",
       "      <td>std</td>\n",
       "      <td>two</td>\n",
       "      <td>convertible</td>\n",
       "      <td>rwd</td>\n",
       "      <td>front</td>\n",
       "      <td>88.6</td>\n",
       "      <td>...</td>\n",
       "      <td>130</td>\n",
       "      <td>mpfi</td>\n",
       "      <td>3.47</td>\n",
       "      <td>2.68</td>\n",
       "      <td>9.0</td>\n",
       "      <td>111</td>\n",
       "      <td>5000</td>\n",
       "      <td>11.190476</td>\n",
       "      <td>27</td>\n",
       "      <td>13495</td>\n",
       "    </tr>\n",
       "    <tr>\n",
       "      <th>1</th>\n",
       "      <td>3</td>\n",
       "      <td>NaN</td>\n",
       "      <td>alfa-romero</td>\n",
       "      <td>gas</td>\n",
       "      <td>std</td>\n",
       "      <td>two</td>\n",
       "      <td>convertible</td>\n",
       "      <td>rwd</td>\n",
       "      <td>front</td>\n",
       "      <td>88.6</td>\n",
       "      <td>...</td>\n",
       "      <td>130</td>\n",
       "      <td>mpfi</td>\n",
       "      <td>3.47</td>\n",
       "      <td>2.68</td>\n",
       "      <td>9.0</td>\n",
       "      <td>111</td>\n",
       "      <td>5000</td>\n",
       "      <td>11.190476</td>\n",
       "      <td>27</td>\n",
       "      <td>16500</td>\n",
       "    </tr>\n",
       "    <tr>\n",
       "      <th>2</th>\n",
       "      <td>1</td>\n",
       "      <td>NaN</td>\n",
       "      <td>alfa-romero</td>\n",
       "      <td>gas</td>\n",
       "      <td>std</td>\n",
       "      <td>two</td>\n",
       "      <td>hatchback</td>\n",
       "      <td>rwd</td>\n",
       "      <td>front</td>\n",
       "      <td>94.5</td>\n",
       "      <td>...</td>\n",
       "      <td>152</td>\n",
       "      <td>mpfi</td>\n",
       "      <td>2.68</td>\n",
       "      <td>3.47</td>\n",
       "      <td>9.0</td>\n",
       "      <td>154</td>\n",
       "      <td>5000</td>\n",
       "      <td>12.368421</td>\n",
       "      <td>26</td>\n",
       "      <td>16500</td>\n",
       "    </tr>\n",
       "    <tr>\n",
       "      <th>3</th>\n",
       "      <td>2</td>\n",
       "      <td>164.0</td>\n",
       "      <td>audi</td>\n",
       "      <td>gas</td>\n",
       "      <td>std</td>\n",
       "      <td>four</td>\n",
       "      <td>sedan</td>\n",
       "      <td>fwd</td>\n",
       "      <td>front</td>\n",
       "      <td>99.8</td>\n",
       "      <td>...</td>\n",
       "      <td>109</td>\n",
       "      <td>mpfi</td>\n",
       "      <td>3.19</td>\n",
       "      <td>3.40</td>\n",
       "      <td>10.0</td>\n",
       "      <td>102</td>\n",
       "      <td>5500</td>\n",
       "      <td>9.791667</td>\n",
       "      <td>30</td>\n",
       "      <td>13950</td>\n",
       "    </tr>\n",
       "    <tr>\n",
       "      <th>4</th>\n",
       "      <td>2</td>\n",
       "      <td>164.0</td>\n",
       "      <td>audi</td>\n",
       "      <td>gas</td>\n",
       "      <td>std</td>\n",
       "      <td>four</td>\n",
       "      <td>sedan</td>\n",
       "      <td>4wd</td>\n",
       "      <td>front</td>\n",
       "      <td>99.4</td>\n",
       "      <td>...</td>\n",
       "      <td>136</td>\n",
       "      <td>mpfi</td>\n",
       "      <td>3.19</td>\n",
       "      <td>3.40</td>\n",
       "      <td>8.0</td>\n",
       "      <td>115</td>\n",
       "      <td>5500</td>\n",
       "      <td>13.055556</td>\n",
       "      <td>22</td>\n",
       "      <td>17450</td>\n",
       "    </tr>\n",
       "    <tr>\n",
       "      <th>5</th>\n",
       "      <td>2</td>\n",
       "      <td>NaN</td>\n",
       "      <td>audi</td>\n",
       "      <td>gas</td>\n",
       "      <td>std</td>\n",
       "      <td>two</td>\n",
       "      <td>sedan</td>\n",
       "      <td>fwd</td>\n",
       "      <td>front</td>\n",
       "      <td>99.8</td>\n",
       "      <td>...</td>\n",
       "      <td>136</td>\n",
       "      <td>mpfi</td>\n",
       "      <td>3.19</td>\n",
       "      <td>3.40</td>\n",
       "      <td>8.5</td>\n",
       "      <td>110</td>\n",
       "      <td>5500</td>\n",
       "      <td>12.368421</td>\n",
       "      <td>25</td>\n",
       "      <td>15250</td>\n",
       "    </tr>\n",
       "    <tr>\n",
       "      <th>6</th>\n",
       "      <td>1</td>\n",
       "      <td>158.0</td>\n",
       "      <td>audi</td>\n",
       "      <td>gas</td>\n",
       "      <td>std</td>\n",
       "      <td>four</td>\n",
       "      <td>sedan</td>\n",
       "      <td>fwd</td>\n",
       "      <td>front</td>\n",
       "      <td>105.8</td>\n",
       "      <td>...</td>\n",
       "      <td>136</td>\n",
       "      <td>mpfi</td>\n",
       "      <td>3.19</td>\n",
       "      <td>3.40</td>\n",
       "      <td>8.5</td>\n",
       "      <td>110</td>\n",
       "      <td>5500</td>\n",
       "      <td>12.368421</td>\n",
       "      <td>25</td>\n",
       "      <td>17710</td>\n",
       "    </tr>\n",
       "    <tr>\n",
       "      <th>7</th>\n",
       "      <td>1</td>\n",
       "      <td>NaN</td>\n",
       "      <td>audi</td>\n",
       "      <td>gas</td>\n",
       "      <td>std</td>\n",
       "      <td>four</td>\n",
       "      <td>wagon</td>\n",
       "      <td>fwd</td>\n",
       "      <td>front</td>\n",
       "      <td>105.8</td>\n",
       "      <td>...</td>\n",
       "      <td>136</td>\n",
       "      <td>mpfi</td>\n",
       "      <td>3.19</td>\n",
       "      <td>3.40</td>\n",
       "      <td>8.5</td>\n",
       "      <td>110</td>\n",
       "      <td>5500</td>\n",
       "      <td>12.368421</td>\n",
       "      <td>25</td>\n",
       "      <td>18920</td>\n",
       "    </tr>\n",
       "    <tr>\n",
       "      <th>8</th>\n",
       "      <td>1</td>\n",
       "      <td>158.0</td>\n",
       "      <td>audi</td>\n",
       "      <td>gas</td>\n",
       "      <td>turbo</td>\n",
       "      <td>four</td>\n",
       "      <td>sedan</td>\n",
       "      <td>fwd</td>\n",
       "      <td>front</td>\n",
       "      <td>105.8</td>\n",
       "      <td>...</td>\n",
       "      <td>131</td>\n",
       "      <td>mpfi</td>\n",
       "      <td>3.13</td>\n",
       "      <td>3.40</td>\n",
       "      <td>8.3</td>\n",
       "      <td>140</td>\n",
       "      <td>5500</td>\n",
       "      <td>13.823529</td>\n",
       "      <td>20</td>\n",
       "      <td>23875</td>\n",
       "    </tr>\n",
       "    <tr>\n",
       "      <th>10</th>\n",
       "      <td>2</td>\n",
       "      <td>192.0</td>\n",
       "      <td>bmw</td>\n",
       "      <td>gas</td>\n",
       "      <td>std</td>\n",
       "      <td>two</td>\n",
       "      <td>sedan</td>\n",
       "      <td>rwd</td>\n",
       "      <td>front</td>\n",
       "      <td>101.2</td>\n",
       "      <td>...</td>\n",
       "      <td>108</td>\n",
       "      <td>mpfi</td>\n",
       "      <td>3.50</td>\n",
       "      <td>2.80</td>\n",
       "      <td>8.8</td>\n",
       "      <td>101</td>\n",
       "      <td>5800</td>\n",
       "      <td>10.217391</td>\n",
       "      <td>29</td>\n",
       "      <td>16430</td>\n",
       "    </tr>\n",
       "  </tbody>\n",
       "</table>\n",
       "<p>10 rows × 26 columns</p>\n",
       "</div>"
      ],
      "text/plain": [
       "    symboling  normalized-losses         make fuel-type aspiration  \\\n",
       "0           3                NaN  alfa-romero       gas        std   \n",
       "1           3                NaN  alfa-romero       gas        std   \n",
       "2           1                NaN  alfa-romero       gas        std   \n",
       "3           2              164.0         audi       gas        std   \n",
       "4           2              164.0         audi       gas        std   \n",
       "5           2                NaN         audi       gas        std   \n",
       "6           1              158.0         audi       gas        std   \n",
       "7           1                NaN         audi       gas        std   \n",
       "8           1              158.0         audi       gas      turbo   \n",
       "10          2              192.0          bmw       gas        std   \n",
       "\n",
       "   num-of-doors   body-style drive-wheels engine-location  wheel-base  ...  \\\n",
       "0           two  convertible          rwd           front        88.6  ...   \n",
       "1           two  convertible          rwd           front        88.6  ...   \n",
       "2           two    hatchback          rwd           front        94.5  ...   \n",
       "3          four        sedan          fwd           front        99.8  ...   \n",
       "4          four        sedan          4wd           front        99.4  ...   \n",
       "5           two        sedan          fwd           front        99.8  ...   \n",
       "6          four        sedan          fwd           front       105.8  ...   \n",
       "7          four        wagon          fwd           front       105.8  ...   \n",
       "8          four        sedan          fwd           front       105.8  ...   \n",
       "10          two        sedan          rwd           front       101.2  ...   \n",
       "\n",
       "    engine-size  fuel-system  bore  stroke compression-ratio horsepower  \\\n",
       "0           130         mpfi  3.47    2.68               9.0        111   \n",
       "1           130         mpfi  3.47    2.68               9.0        111   \n",
       "2           152         mpfi  2.68    3.47               9.0        154   \n",
       "3           109         mpfi  3.19    3.40              10.0        102   \n",
       "4           136         mpfi  3.19    3.40               8.0        115   \n",
       "5           136         mpfi  3.19    3.40               8.5        110   \n",
       "6           136         mpfi  3.19    3.40               8.5        110   \n",
       "7           136         mpfi  3.19    3.40               8.5        110   \n",
       "8           131         mpfi  3.13    3.40               8.3        140   \n",
       "10          108         mpfi  3.50    2.80               8.8        101   \n",
       "\n",
       "    peak-rpm city-L/100km highway-mpg  price  \n",
       "0       5000    11.190476          27  13495  \n",
       "1       5000    11.190476          27  16500  \n",
       "2       5000    12.368421          26  16500  \n",
       "3       5500     9.791667          30  13950  \n",
       "4       5500    13.055556          22  17450  \n",
       "5       5500    12.368421          25  15250  \n",
       "6       5500    12.368421          25  17710  \n",
       "7       5500    12.368421          25  18920  \n",
       "8       5500    13.823529          20  23875  \n",
       "10      5800    10.217391          29  16430  \n",
       "\n",
       "[10 rows x 26 columns]"
      ]
     },
     "execution_count": 138,
     "metadata": {},
     "output_type": "execute_result"
    }
   ],
   "source": [
    "df['city-L/100km']\n",
    "df.head(10)  # Can choose round() function for digits after decimal."
   ]
  },
  {
   "cell_type": "markdown",
   "id": "40519bbe",
   "metadata": {},
   "source": [
    "#### Incorrect Data types"
   ]
  },
  {
   "cell_type": "code",
   "execution_count": 139,
   "id": "95652fd9",
   "metadata": {
    "scrolled": true
   },
   "outputs": [
    {
     "name": "stdout",
     "output_type": "stream",
     "text": [
      "<class 'pandas.core.frame.DataFrame'>\n",
      "Int64Index: 201 entries, 0 to 204\n",
      "Data columns (total 26 columns):\n",
      " #   Column             Non-Null Count  Dtype  \n",
      "---  ------             --------------  -----  \n",
      " 0   symboling          201 non-null    int64  \n",
      " 1   normalized-losses  164 non-null    float64\n",
      " 2   make               201 non-null    object \n",
      " 3   fuel-type          201 non-null    object \n",
      " 4   aspiration         201 non-null    object \n",
      " 5   num-of-doors       201 non-null    object \n",
      " 6   body-style         201 non-null    object \n",
      " 7   drive-wheels       201 non-null    object \n",
      " 8   engine-location    201 non-null    object \n",
      " 9   wheel-base         201 non-null    float64\n",
      " 10  length             201 non-null    float64\n",
      " 11  width              201 non-null    float64\n",
      " 12  height             201 non-null    float64\n",
      " 13  curb-weight        201 non-null    int64  \n",
      " 14  engine-type        201 non-null    object \n",
      " 15  num-of-cylinders   201 non-null    object \n",
      " 16  engine-size        201 non-null    int64  \n",
      " 17  fuel-system        201 non-null    object \n",
      " 18  bore               201 non-null    object \n",
      " 19  stroke             201 non-null    object \n",
      " 20  compression-ratio  201 non-null    float64\n",
      " 21  horsepower         201 non-null    object \n",
      " 22  peak-rpm           201 non-null    object \n",
      " 23  city-L/100km       201 non-null    float64\n",
      " 24  highway-mpg        201 non-null    int64  \n",
      " 25  price              201 non-null    object \n",
      "dtypes: float64(7), int64(4), object(15)\n",
      "memory usage: 42.4+ KB\n"
     ]
    }
   ],
   "source": [
    "df.info()"
   ]
  },
  {
   "cell_type": "markdown",
   "id": "a5bce2a1",
   "metadata": {},
   "source": [
    "Sometimes the wrong data types are assigned to features. "
   ]
  },
  {
   "cell_type": "code",
   "execution_count": 140,
   "id": "69f0d93d",
   "metadata": {},
   "outputs": [
    {
     "data": {
      "text/plain": [
       "200    16845\n",
       "201    19045\n",
       "202    21485\n",
       "203    22470\n",
       "204    22625\n",
       "Name: price, dtype: object"
      ]
     },
     "execution_count": 140,
     "metadata": {},
     "output_type": "execute_result"
    }
   ],
   "source": [
    "df['price'].tail()"
   ]
  },
  {
   "cell_type": "code",
   "execution_count": 141,
   "id": "b02d2c48",
   "metadata": {},
   "outputs": [],
   "source": [
    "# As we can see the data type is object"
   ]
  },
  {
   "cell_type": "raw",
   "id": "963782a0",
   "metadata": {},
   "source": [
    "Objects: Can be letters/words/etc.(\"A\",\"Hello\",....)\n",
    "Int64: Integers(1,2,3)\n",
    "float64: Real numbers(2.123,43.545,0.12)"
   ]
  },
  {
   "cell_type": "code",
   "execution_count": 142,
   "id": "37ff3ae4",
   "metadata": {},
   "outputs": [
    {
     "data": {
      "text/plain": [
       "0    13495\n",
       "1    16500\n",
       "2    16500\n",
       "3    13950\n",
       "4    17450\n",
       "Name: price, dtype: int32"
      ]
     },
     "execution_count": 142,
     "metadata": {},
     "output_type": "execute_result"
    }
   ],
   "source": [
    "df['price'].dtypes\n",
    "df['price']=df['price'].astype(int)\n",
    "df['price'].head()"
   ]
  },
  {
   "cell_type": "markdown",
   "id": "5167a97d",
   "metadata": {},
   "source": [
    "."
   ]
  },
  {
   "cell_type": "markdown",
   "id": "6aeae896",
   "metadata": {},
   "source": [
    "# Data Normalization"
   ]
  },
  {
   "cell_type": "raw",
   "id": "b0b82a55",
   "metadata": {},
   "source": [
    "Data normalization is a technique used to transform data into a common scale or range. It is particularly useful when dealing with features that have different units of measurement or varying scales. Normalizing the data ensures that each feature contributes proportionately to the analysis and prevents certain features from dominating others."
   ]
  },
  {
   "cell_type": "markdown",
   "id": "8ec81e50",
   "metadata": {},
   "source": [
    "Process of transforming the data in order to bring it into a specific range or format to make it easy to analyze, compare and understand.\n",
    "- It is common preprocessing step in Data Analysis and Machine Learning.\n",
    "- Normalization is performed to eliminate the effect of scale and magnitude differences in different variables to ensure that all the features have equal importance in the analysis.\n",
    "- It involves rescaling the data values to a common range, typically between o and 1, or -1 and 1, or any other range that is meaningful for the particular data."
   ]
  },
  {
   "cell_type": "markdown",
   "id": "e8d1c725",
   "metadata": {},
   "source": [
    "As you can see the range of length and width/height are different "
   ]
  },
  {
   "cell_type": "markdown",
   "id": "9bdad960",
   "metadata": {},
   "source": [
    "Let's take a look at this example:"
   ]
  },
  {
   "cell_type": "code",
   "execution_count": 143,
   "id": "b5300e8a",
   "metadata": {},
   "outputs": [
    {
     "data": {
      "text/html": [
       "<div>\n",
       "<style scoped>\n",
       "    .dataframe tbody tr th:only-of-type {\n",
       "        vertical-align: middle;\n",
       "    }\n",
       "\n",
       "    .dataframe tbody tr th {\n",
       "        vertical-align: top;\n",
       "    }\n",
       "\n",
       "    .dataframe thead th {\n",
       "        text-align: right;\n",
       "    }\n",
       "</style>\n",
       "<table border=\"1\" class=\"dataframe\">\n",
       "  <thead>\n",
       "    <tr style=\"text-align: right;\">\n",
       "      <th></th>\n",
       "      <th>age</th>\n",
       "      <th>income</th>\n",
       "    </tr>\n",
       "  </thead>\n",
       "  <tbody>\n",
       "    <tr>\n",
       "      <th>0</th>\n",
       "      <td>20</td>\n",
       "      <td>100000</td>\n",
       "    </tr>\n",
       "    <tr>\n",
       "      <th>1</th>\n",
       "      <td>30</td>\n",
       "      <td>20000</td>\n",
       "    </tr>\n",
       "    <tr>\n",
       "      <th>2</th>\n",
       "      <td>40</td>\n",
       "      <td>500000</td>\n",
       "    </tr>\n",
       "  </tbody>\n",
       "</table>\n",
       "</div>"
      ],
      "text/plain": [
       "   age  income\n",
       "0   20  100000\n",
       "1   30   20000\n",
       "2   40  500000"
      ]
     },
     "execution_count": 143,
     "metadata": {},
     "output_type": "execute_result"
    }
   ],
   "source": [
    "dataagenorm={\"age\":[20,30,40],\n",
    "            \"income\":[100000,20000,500000]}\n",
    "dfage=pd.DataFrame(dataagenorm)\n",
    "dfage"
   ]
  },
  {
   "cell_type": "markdown",
   "id": "80dec0cc",
   "metadata": {},
   "source": [
    "Not-normalized:\n",
    "- 'age' & 'income' are in different range.\n",
    "- hard to compare\n",
    "- 'income' will influence the result more\n"
   ]
  },
  {
   "cell_type": "markdown",
   "id": "5b2562b1",
   "metadata": {},
   "source": [
    "As  we can see the range of age is 10-100, while the income is about 1000 times larger than age. So these two features are in two different ranges.\n"
   ]
  },
  {
   "cell_type": "markdown",
   "id": "dc3eda99",
   "metadata": {},
   "source": [
    "When we do analysis like Linear Regression, the attribute income will intrinsically influence the result more due to its larger value. But this doesn't necessarily mean it is more important as a predictor. So, the nature of the data biases the linear regression model to weigh income more heavily than age.\n",
    "To avoid this, we can normalize these two variables into values that ranges from zero(0) to one(1)."
   ]
  },
  {
   "cell_type": "markdown",
   "id": "3a8843b0",
   "metadata": {},
   "source": [
    "##### Simple Feature Scaling\n",
    "Just divides each value by the maximum value for that feature. This makes the new values range between zero and one.\n",
    "\n",
    "##### Min-Max Normalization \n",
    "Takes each value X_old subtract it from the minimum value of that feature, then divides by the range of that feature. Again, the resulting new values range between zero and one.\n",
    "\n",
    "##### Z-Score Or Standard Score\n",
    "For each value you subtract the average of the feature, and then divide by the standard deviation sigma. The resulting values hover around zero, and typically range between negative three and positive three but can be higher or lower.\n"
   ]
  },
  {
   "cell_type": "raw",
   "id": "1222d651",
   "metadata": {},
   "source": [
    "Here we are using:\n",
    "dfage as xold"
   ]
  },
  {
   "cell_type": "code",
   "execution_count": 144,
   "id": "b585b5ea",
   "metadata": {},
   "outputs": [
    {
     "data": {
      "text/html": [
       "<div>\n",
       "<style scoped>\n",
       "    .dataframe tbody tr th:only-of-type {\n",
       "        vertical-align: middle;\n",
       "    }\n",
       "\n",
       "    .dataframe tbody tr th {\n",
       "        vertical-align: top;\n",
       "    }\n",
       "\n",
       "    .dataframe thead th {\n",
       "        text-align: right;\n",
       "    }\n",
       "</style>\n",
       "<table border=\"1\" class=\"dataframe\">\n",
       "  <thead>\n",
       "    <tr style=\"text-align: right;\">\n",
       "      <th></th>\n",
       "      <th>age</th>\n",
       "      <th>income</th>\n",
       "    </tr>\n",
       "  </thead>\n",
       "  <tbody>\n",
       "    <tr>\n",
       "      <th>0</th>\n",
       "      <td>-1.0</td>\n",
       "      <td>-0.414781</td>\n",
       "    </tr>\n",
       "    <tr>\n",
       "      <th>1</th>\n",
       "      <td>0.0</td>\n",
       "      <td>-0.725866</td>\n",
       "    </tr>\n",
       "    <tr>\n",
       "      <th>2</th>\n",
       "      <td>1.0</td>\n",
       "      <td>1.140647</td>\n",
       "    </tr>\n",
       "  </tbody>\n",
       "</table>\n",
       "</div>"
      ],
      "text/plain": [
       "   age    income\n",
       "0 -1.0 -0.414781\n",
       "1  0.0 -0.725866\n",
       "2  1.0  1.140647"
      ]
     },
     "execution_count": 144,
     "metadata": {},
     "output_type": "execute_result"
    }
   ],
   "source": [
    "# Simple Feature Scaling\n",
    "xnew_sfs = dfage/(dfage.max())\n",
    "xnew_sfs\n",
    "\n",
    "# Min-Max Normalization\n",
    "xnew_minmax = (dfage-dfage.min())/(dfage.max()-dfage.min())\n",
    "xnew_minmax\n",
    "\n",
    "# Z-Score Or Standardization\n",
    "xnew_stndrd = (dfage-dfage.mean())/dfage.std()\n",
    "xnew_stndrd"
   ]
  },
  {
   "cell_type": "markdown",
   "id": "1f9fc87d",
   "metadata": {},
   "source": [
    "Lets do this for another example"
   ]
  },
  {
   "cell_type": "code",
   "execution_count": 145,
   "id": "b6d870ef",
   "metadata": {
    "scrolled": true
   },
   "outputs": [
    {
     "data": {
      "text/html": [
       "<div>\n",
       "<style scoped>\n",
       "    .dataframe tbody tr th:only-of-type {\n",
       "        vertical-align: middle;\n",
       "    }\n",
       "\n",
       "    .dataframe tbody tr th {\n",
       "        vertical-align: top;\n",
       "    }\n",
       "\n",
       "    .dataframe thead th {\n",
       "        text-align: right;\n",
       "    }\n",
       "</style>\n",
       "<table border=\"1\" class=\"dataframe\">\n",
       "  <thead>\n",
       "    <tr style=\"text-align: right;\">\n",
       "      <th></th>\n",
       "      <th>length</th>\n",
       "      <th>width</th>\n",
       "      <th>height</th>\n",
       "    </tr>\n",
       "  </thead>\n",
       "  <tbody>\n",
       "    <tr>\n",
       "      <th>0</th>\n",
       "      <td>168.8</td>\n",
       "      <td>64.1</td>\n",
       "      <td>48.8</td>\n",
       "    </tr>\n",
       "    <tr>\n",
       "      <th>1</th>\n",
       "      <td>168.8</td>\n",
       "      <td>64.1</td>\n",
       "      <td>48.8</td>\n",
       "    </tr>\n",
       "    <tr>\n",
       "      <th>2</th>\n",
       "      <td>171.2</td>\n",
       "      <td>65.5</td>\n",
       "      <td>52.4</td>\n",
       "    </tr>\n",
       "    <tr>\n",
       "      <th>3</th>\n",
       "      <td>176.6</td>\n",
       "      <td>66.2</td>\n",
       "      <td>54.3</td>\n",
       "    </tr>\n",
       "    <tr>\n",
       "      <th>4</th>\n",
       "      <td>176.6</td>\n",
       "      <td>66.4</td>\n",
       "      <td>54.3</td>\n",
       "    </tr>\n",
       "    <tr>\n",
       "      <th>5</th>\n",
       "      <td>177.3</td>\n",
       "      <td>66.3</td>\n",
       "      <td>53.1</td>\n",
       "    </tr>\n",
       "    <tr>\n",
       "      <th>6</th>\n",
       "      <td>192.7</td>\n",
       "      <td>71.4</td>\n",
       "      <td>55.7</td>\n",
       "    </tr>\n",
       "    <tr>\n",
       "      <th>7</th>\n",
       "      <td>192.7</td>\n",
       "      <td>71.4</td>\n",
       "      <td>55.7</td>\n",
       "    </tr>\n",
       "    <tr>\n",
       "      <th>8</th>\n",
       "      <td>192.7</td>\n",
       "      <td>71.4</td>\n",
       "      <td>55.9</td>\n",
       "    </tr>\n",
       "  </tbody>\n",
       "</table>\n",
       "</div>"
      ],
      "text/plain": [
       "   length  width  height\n",
       "0   168.8   64.1    48.8\n",
       "1   168.8   64.1    48.8\n",
       "2   171.2   65.5    52.4\n",
       "3   176.6   66.2    54.3\n",
       "4   176.6   66.4    54.3\n",
       "5   177.3   66.3    53.1\n",
       "6   192.7   71.4    55.7\n",
       "7   192.7   71.4    55.7\n",
       "8   192.7   71.4    55.9"
      ]
     },
     "execution_count": 145,
     "metadata": {},
     "output_type": "execute_result"
    }
   ],
   "source": [
    "datanorm = {'length':[168.8,168.8,171.2,176.6,176.6,177.3,192.7,192.7,192.7],\n",
    "           'width':[64.1,64.1,65.5,66.2,66.4,66.3,71.4,71.4,71.4],\n",
    "           'height':[48.8,48.8,52.4,54.3,54.3,53.1,55.7,55.7,55.9]}\n",
    "dfnorm = pd.DataFrame(datanorm)\n",
    "dfnorm"
   ]
  },
  {
   "cell_type": "markdown",
   "id": "49df7f66",
   "metadata": {},
   "source": [
    "Applying Simple Feature Scaling (SFS) to scale all the values of each variable:"
   ]
  },
  {
   "cell_type": "code",
   "execution_count": 146,
   "id": "a588f05b",
   "metadata": {},
   "outputs": [],
   "source": [
    "# new_sfs = old/old_max"
   ]
  },
  {
   "cell_type": "code",
   "execution_count": 147,
   "id": "def13fd8",
   "metadata": {},
   "outputs": [
    {
     "data": {
      "text/plain": [
       "0    0.875973\n",
       "1    0.875973\n",
       "2    0.888428\n",
       "3    0.916450\n",
       "4    0.916450\n",
       "5    0.920083\n",
       "6    1.000000\n",
       "7    1.000000\n",
       "8    1.000000\n",
       "Name: length, dtype: float64"
      ]
     },
     "execution_count": 147,
     "metadata": {},
     "output_type": "execute_result"
    }
   ],
   "source": [
    "dup_sfs = dfnorm.copy()\n",
    "max_length = dup_sfs['length'].max()\n",
    "dup_sfs['length'] = dup_sfs['length']/max_length\n",
    "dup_sfs['length']"
   ]
  },
  {
   "cell_type": "raw",
   "id": "ac4e2b67",
   "metadata": {},
   "source": [
    "Compare the two tables.\n",
    "After normalization, both variables now have a similar influence on the model,\n",
    "we will build that later.😂"
   ]
  },
  {
   "cell_type": "markdown",
   "id": "9feed5a3",
   "metadata": {},
   "source": [
    "Applying Min-Max Normalization to scale the data to a range between 0 to 1:"
   ]
  },
  {
   "cell_type": "code",
   "execution_count": 148,
   "id": "c95770fc",
   "metadata": {},
   "outputs": [],
   "source": [
    "# (old-old_min)/(old_max-old_min)"
   ]
  },
  {
   "cell_type": "code",
   "execution_count": 149,
   "id": "d09235f2",
   "metadata": {},
   "outputs": [
    {
     "data": {
      "text/plain": [
       "0    0.000000\n",
       "1    0.000000\n",
       "2    0.100418\n",
       "3    0.326360\n",
       "4    0.326360\n",
       "5    0.355649\n",
       "6    1.000000\n",
       "7    1.000000\n",
       "8    1.000000\n",
       "Name: length, dtype: float64"
      ]
     },
     "execution_count": 149,
     "metadata": {},
     "output_type": "execute_result"
    }
   ],
   "source": [
    "min_length = dfnorm['length'].min()\n",
    "max_length = dfnorm['length'].max()\n",
    "dup_mm = dfnorm.copy()\n",
    "dup_mm['length'] = (dup_mm['length'] - min_length) / (max_length - min_length)\n",
    "dup_mm['length']"
   ]
  },
  {
   "cell_type": "markdown",
   "id": "d0a3ab8c",
   "metadata": {},
   "source": [
    "Applying Z-Score Normalization to scale length feature:"
   ]
  },
  {
   "cell_type": "code",
   "execution_count": 150,
   "id": "21c33ad9",
   "metadata": {},
   "outputs": [],
   "source": [
    "# (old-old_mean)/old.std()"
   ]
  },
  {
   "cell_type": "code",
   "execution_count": 151,
   "id": "6f902734",
   "metadata": {},
   "outputs": [
    {
     "data": {
      "text/html": [
       "<div>\n",
       "<style scoped>\n",
       "    .dataframe tbody tr th:only-of-type {\n",
       "        vertical-align: middle;\n",
       "    }\n",
       "\n",
       "    .dataframe tbody tr th {\n",
       "        vertical-align: top;\n",
       "    }\n",
       "\n",
       "    .dataframe thead th {\n",
       "        text-align: right;\n",
       "    }\n",
       "</style>\n",
       "<table border=\"1\" class=\"dataframe\">\n",
       "  <thead>\n",
       "    <tr style=\"text-align: right;\">\n",
       "      <th></th>\n",
       "      <th>length</th>\n",
       "      <th>width</th>\n",
       "      <th>height</th>\n",
       "    </tr>\n",
       "  </thead>\n",
       "  <tbody>\n",
       "    <tr>\n",
       "      <th>0</th>\n",
       "      <td>-1.063645</td>\n",
       "      <td>64.1</td>\n",
       "      <td>48.8</td>\n",
       "    </tr>\n",
       "    <tr>\n",
       "      <th>1</th>\n",
       "      <td>-1.063645</td>\n",
       "      <td>64.1</td>\n",
       "      <td>48.8</td>\n",
       "    </tr>\n",
       "    <tr>\n",
       "      <th>2</th>\n",
       "      <td>-0.829687</td>\n",
       "      <td>65.5</td>\n",
       "      <td>52.4</td>\n",
       "    </tr>\n",
       "    <tr>\n",
       "      <th>3</th>\n",
       "      <td>-0.303280</td>\n",
       "      <td>66.2</td>\n",
       "      <td>54.3</td>\n",
       "    </tr>\n",
       "    <tr>\n",
       "      <th>4</th>\n",
       "      <td>-0.303280</td>\n",
       "      <td>66.4</td>\n",
       "      <td>54.3</td>\n",
       "    </tr>\n",
       "    <tr>\n",
       "      <th>5</th>\n",
       "      <td>-0.235042</td>\n",
       "      <td>66.3</td>\n",
       "      <td>53.1</td>\n",
       "    </tr>\n",
       "    <tr>\n",
       "      <th>6</th>\n",
       "      <td>1.266193</td>\n",
       "      <td>71.4</td>\n",
       "      <td>55.7</td>\n",
       "    </tr>\n",
       "    <tr>\n",
       "      <th>7</th>\n",
       "      <td>1.266193</td>\n",
       "      <td>71.4</td>\n",
       "      <td>55.7</td>\n",
       "    </tr>\n",
       "    <tr>\n",
       "      <th>8</th>\n",
       "      <td>1.266193</td>\n",
       "      <td>71.4</td>\n",
       "      <td>55.9</td>\n",
       "    </tr>\n",
       "  </tbody>\n",
       "</table>\n",
       "</div>"
      ],
      "text/plain": [
       "     length  width  height\n",
       "0 -1.063645   64.1    48.8\n",
       "1 -1.063645   64.1    48.8\n",
       "2 -0.829687   65.5    52.4\n",
       "3 -0.303280   66.2    54.3\n",
       "4 -0.303280   66.4    54.3\n",
       "5 -0.235042   66.3    53.1\n",
       "6  1.266193   71.4    55.7\n",
       "7  1.266193   71.4    55.7\n",
       "8  1.266193   71.4    55.9"
      ]
     },
     "execution_count": 151,
     "metadata": {},
     "output_type": "execute_result"
    }
   ],
   "source": [
    "dup_z = dfnorm.copy()\n",
    "mean_length=dup_z['length'].mean()\n",
    "std_length=dup_z['length'].std()\n",
    "dup_z['length']=(dup_z['length']-mean_length)/std_length\n",
    "dup_z"
   ]
  },
  {
   "cell_type": "markdown",
   "id": "0d196323",
   "metadata": {},
   "source": [
    "# Second Method To Do Data Transformation/ Feature Scaling Using Modules/Libraries"
   ]
  },
  {
   "cell_type": "markdown",
   "id": "f3f08006",
   "metadata": {},
   "source": [
    "SciPy: SciPy is an powerful library for scientific computing that includes statistical functions. It provides the zscore function to perform z-score normalization."
   ]
  },
  {
   "cell_type": "code",
   "execution_count": 152,
   "id": "76ba8dfe",
   "metadata": {},
   "outputs": [
    {
     "data": {
      "text/html": [
       "<div>\n",
       "<style scoped>\n",
       "    .dataframe tbody tr th:only-of-type {\n",
       "        vertical-align: middle;\n",
       "    }\n",
       "\n",
       "    .dataframe tbody tr th {\n",
       "        vertical-align: top;\n",
       "    }\n",
       "\n",
       "    .dataframe thead th {\n",
       "        text-align: right;\n",
       "    }\n",
       "</style>\n",
       "<table border=\"1\" class=\"dataframe\">\n",
       "  <thead>\n",
       "    <tr style=\"text-align: right;\">\n",
       "      <th></th>\n",
       "      <th>length</th>\n",
       "      <th>width</th>\n",
       "      <th>height</th>\n",
       "    </tr>\n",
       "  </thead>\n",
       "  <tbody>\n",
       "    <tr>\n",
       "      <th>0</th>\n",
       "      <td>-1.128166</td>\n",
       "      <td>-1.135545</td>\n",
       "      <td>-1.690665</td>\n",
       "    </tr>\n",
       "    <tr>\n",
       "      <th>1</th>\n",
       "      <td>-1.128166</td>\n",
       "      <td>-1.135545</td>\n",
       "      <td>-1.690665</td>\n",
       "    </tr>\n",
       "    <tr>\n",
       "      <th>2</th>\n",
       "      <td>-0.880016</td>\n",
       "      <td>-0.657021</td>\n",
       "      <td>-0.314345</td>\n",
       "    </tr>\n",
       "    <tr>\n",
       "      <th>3</th>\n",
       "      <td>-0.321677</td>\n",
       "      <td>-0.417759</td>\n",
       "      <td>0.412047</td>\n",
       "    </tr>\n",
       "    <tr>\n",
       "      <th>4</th>\n",
       "      <td>-0.321677</td>\n",
       "      <td>-0.349398</td>\n",
       "      <td>0.412047</td>\n",
       "    </tr>\n",
       "    <tr>\n",
       "      <th>5</th>\n",
       "      <td>-0.249300</td>\n",
       "      <td>-0.383579</td>\n",
       "      <td>-0.046727</td>\n",
       "    </tr>\n",
       "    <tr>\n",
       "      <th>6</th>\n",
       "      <td>1.343001</td>\n",
       "      <td>1.359616</td>\n",
       "      <td>0.947282</td>\n",
       "    </tr>\n",
       "    <tr>\n",
       "      <th>7</th>\n",
       "      <td>1.343001</td>\n",
       "      <td>1.359616</td>\n",
       "      <td>0.947282</td>\n",
       "    </tr>\n",
       "    <tr>\n",
       "      <th>8</th>\n",
       "      <td>1.343001</td>\n",
       "      <td>1.359616</td>\n",
       "      <td>1.023745</td>\n",
       "    </tr>\n",
       "  </tbody>\n",
       "</table>\n",
       "</div>"
      ],
      "text/plain": [
       "     length     width    height\n",
       "0 -1.128166 -1.135545 -1.690665\n",
       "1 -1.128166 -1.135545 -1.690665\n",
       "2 -0.880016 -0.657021 -0.314345\n",
       "3 -0.321677 -0.417759  0.412047\n",
       "4 -0.321677 -0.349398  0.412047\n",
       "5 -0.249300 -0.383579 -0.046727\n",
       "6  1.343001  1.359616  0.947282\n",
       "7  1.343001  1.359616  0.947282\n",
       "8  1.343001  1.359616  1.023745"
      ]
     },
     "execution_count": 152,
     "metadata": {},
     "output_type": "execute_result"
    }
   ],
   "source": [
    "from scipy.stats import zscore\n",
    "dup_zz = dfnorm.copy()\n",
    "dup_zz = dup_zz.apply(zscore)\n",
    "dup_zz"
   ]
  },
  {
   "cell_type": "markdown",
   "id": "f1a3d50d",
   "metadata": {},
   "source": [
    "Scikit-learn: Scikit-learn is a popular machine learning library that provides a MinMaxScaler class for min-max scaling"
   ]
  },
  {
   "cell_type": "code",
   "execution_count": 153,
   "id": "61d84d6d",
   "metadata": {},
   "outputs": [
    {
     "data": {
      "text/html": [
       "<div>\n",
       "<style scoped>\n",
       "    .dataframe tbody tr th:only-of-type {\n",
       "        vertical-align: middle;\n",
       "    }\n",
       "\n",
       "    .dataframe tbody tr th {\n",
       "        vertical-align: top;\n",
       "    }\n",
       "\n",
       "    .dataframe thead th {\n",
       "        text-align: right;\n",
       "    }\n",
       "</style>\n",
       "<table border=\"1\" class=\"dataframe\">\n",
       "  <thead>\n",
       "    <tr style=\"text-align: right;\">\n",
       "      <th></th>\n",
       "      <th>length</th>\n",
       "      <th>width</th>\n",
       "      <th>height</th>\n",
       "    </tr>\n",
       "  </thead>\n",
       "  <tbody>\n",
       "    <tr>\n",
       "      <th>0</th>\n",
       "      <td>0.000000</td>\n",
       "      <td>0.000000</td>\n",
       "      <td>0.000000</td>\n",
       "    </tr>\n",
       "    <tr>\n",
       "      <th>1</th>\n",
       "      <td>0.000000</td>\n",
       "      <td>0.000000</td>\n",
       "      <td>0.000000</td>\n",
       "    </tr>\n",
       "    <tr>\n",
       "      <th>2</th>\n",
       "      <td>0.100418</td>\n",
       "      <td>0.191781</td>\n",
       "      <td>0.507042</td>\n",
       "    </tr>\n",
       "    <tr>\n",
       "      <th>3</th>\n",
       "      <td>0.326360</td>\n",
       "      <td>0.287671</td>\n",
       "      <td>0.774648</td>\n",
       "    </tr>\n",
       "    <tr>\n",
       "      <th>4</th>\n",
       "      <td>0.326360</td>\n",
       "      <td>0.315068</td>\n",
       "      <td>0.774648</td>\n",
       "    </tr>\n",
       "    <tr>\n",
       "      <th>5</th>\n",
       "      <td>0.355649</td>\n",
       "      <td>0.301370</td>\n",
       "      <td>0.605634</td>\n",
       "    </tr>\n",
       "    <tr>\n",
       "      <th>6</th>\n",
       "      <td>1.000000</td>\n",
       "      <td>1.000000</td>\n",
       "      <td>0.971831</td>\n",
       "    </tr>\n",
       "    <tr>\n",
       "      <th>7</th>\n",
       "      <td>1.000000</td>\n",
       "      <td>1.000000</td>\n",
       "      <td>0.971831</td>\n",
       "    </tr>\n",
       "    <tr>\n",
       "      <th>8</th>\n",
       "      <td>1.000000</td>\n",
       "      <td>1.000000</td>\n",
       "      <td>1.000000</td>\n",
       "    </tr>\n",
       "  </tbody>\n",
       "</table>\n",
       "</div>"
      ],
      "text/plain": [
       "     length     width    height\n",
       "0  0.000000  0.000000  0.000000\n",
       "1  0.000000  0.000000  0.000000\n",
       "2  0.100418  0.191781  0.507042\n",
       "3  0.326360  0.287671  0.774648\n",
       "4  0.326360  0.315068  0.774648\n",
       "5  0.355649  0.301370  0.605634\n",
       "6  1.000000  1.000000  0.971831\n",
       "7  1.000000  1.000000  0.971831\n",
       "8  1.000000  1.000000  1.000000"
      ]
     },
     "execution_count": 153,
     "metadata": {},
     "output_type": "execute_result"
    }
   ],
   "source": [
    "from sklearn.preprocessing import MinMaxScaler\n",
    "dup_mmm = dfnorm.copy()\n",
    "scaler = MinMaxScaler()\n",
    "scaler_data=scaler.fit_transform(dup_mmm)\n",
    "scaler_data  # The result is in array format\n",
    "scaled_data = pd.DataFrame(scaler_data, columns=dup_mmm.columns)\n",
    "scaled_data  # I put the result in DataFrame"
   ]
  },
  {
   "cell_type": "code",
   "execution_count": 154,
   "id": "8ed26e3b",
   "metadata": {},
   "outputs": [
    {
     "data": {
      "text/plain": [
       "array([[0.        , 0.        , 0.        ],\n",
       "       [0.        , 0.        , 0.        ],\n",
       "       [0.10041841, 0.19178082, 0.50704225],\n",
       "       [0.32635983, 0.28767123, 0.77464789],\n",
       "       [0.32635983, 0.31506849, 0.77464789],\n",
       "       [0.35564854, 0.30136986, 0.6056338 ],\n",
       "       [1.        , 1.        , 0.97183099],\n",
       "       [1.        , 1.        , 0.97183099],\n",
       "       [1.        , 1.        , 1.        ]])"
      ]
     },
     "execution_count": 154,
     "metadata": {},
     "output_type": "execute_result"
    }
   ],
   "source": [
    "scaler_data"
   ]
  },
  {
   "cell_type": "markdown",
   "id": "960b8266",
   "metadata": {},
   "source": [
    "NumPy: NumPy is a fundamental library for scientific computing in Python. It provides various mathematical functions, including normalization functions."
   ]
  },
  {
   "cell_type": "code",
   "execution_count": 155,
   "id": "5ad3f666",
   "metadata": {},
   "outputs": [
    {
     "name": "stderr",
     "output_type": "stream",
     "text": [
      "C:\\Users\\parik\\AppData\\Local\\Programs\\Python\\Python310\\lib\\site-packages\\numpy\\core\\fromnumeric.py:84: FutureWarning: In a future version, DataFrame.min(axis=None) will return a scalar min over the entire DataFrame. To retain the old behavior, use 'frame.min(axis=0)' or just 'frame.min()'\n",
      "  return reduction(axis=axis, out=out, **passkwargs)\n",
      "C:\\Users\\parik\\AppData\\Local\\Programs\\Python\\Python310\\lib\\site-packages\\numpy\\core\\fromnumeric.py:84: FutureWarning: In a future version, DataFrame.max(axis=None) will return a scalar max over the entire DataFrame. To retain the old behavior, use 'frame.max(axis=0)' or just 'frame.max()'\n",
      "  return reduction(axis=axis, out=out, **passkwargs)\n"
     ]
    },
    {
     "data": {
      "text/html": [
       "<div>\n",
       "<style scoped>\n",
       "    .dataframe tbody tr th:only-of-type {\n",
       "        vertical-align: middle;\n",
       "    }\n",
       "\n",
       "    .dataframe tbody tr th {\n",
       "        vertical-align: top;\n",
       "    }\n",
       "\n",
       "    .dataframe thead th {\n",
       "        text-align: right;\n",
       "    }\n",
       "</style>\n",
       "<table border=\"1\" class=\"dataframe\">\n",
       "  <thead>\n",
       "    <tr style=\"text-align: right;\">\n",
       "      <th></th>\n",
       "      <th>length</th>\n",
       "      <th>width</th>\n",
       "      <th>height</th>\n",
       "    </tr>\n",
       "  </thead>\n",
       "  <tbody>\n",
       "    <tr>\n",
       "      <th>0</th>\n",
       "      <td>0.000000</td>\n",
       "      <td>0.000000</td>\n",
       "      <td>0.000000</td>\n",
       "    </tr>\n",
       "    <tr>\n",
       "      <th>1</th>\n",
       "      <td>0.000000</td>\n",
       "      <td>0.000000</td>\n",
       "      <td>0.000000</td>\n",
       "    </tr>\n",
       "    <tr>\n",
       "      <th>2</th>\n",
       "      <td>0.100418</td>\n",
       "      <td>0.191781</td>\n",
       "      <td>0.507042</td>\n",
       "    </tr>\n",
       "    <tr>\n",
       "      <th>3</th>\n",
       "      <td>0.326360</td>\n",
       "      <td>0.287671</td>\n",
       "      <td>0.774648</td>\n",
       "    </tr>\n",
       "    <tr>\n",
       "      <th>4</th>\n",
       "      <td>0.326360</td>\n",
       "      <td>0.315068</td>\n",
       "      <td>0.774648</td>\n",
       "    </tr>\n",
       "    <tr>\n",
       "      <th>5</th>\n",
       "      <td>0.355649</td>\n",
       "      <td>0.301370</td>\n",
       "      <td>0.605634</td>\n",
       "    </tr>\n",
       "    <tr>\n",
       "      <th>6</th>\n",
       "      <td>1.000000</td>\n",
       "      <td>1.000000</td>\n",
       "      <td>0.971831</td>\n",
       "    </tr>\n",
       "    <tr>\n",
       "      <th>7</th>\n",
       "      <td>1.000000</td>\n",
       "      <td>1.000000</td>\n",
       "      <td>0.971831</td>\n",
       "    </tr>\n",
       "    <tr>\n",
       "      <th>8</th>\n",
       "      <td>1.000000</td>\n",
       "      <td>1.000000</td>\n",
       "      <td>1.000000</td>\n",
       "    </tr>\n",
       "  </tbody>\n",
       "</table>\n",
       "</div>"
      ],
      "text/plain": [
       "     length     width    height\n",
       "0  0.000000  0.000000  0.000000\n",
       "1  0.000000  0.000000  0.000000\n",
       "2  0.100418  0.191781  0.507042\n",
       "3  0.326360  0.287671  0.774648\n",
       "4  0.326360  0.315068  0.774648\n",
       "5  0.355649  0.301370  0.605634\n",
       "6  1.000000  1.000000  0.971831\n",
       "7  1.000000  1.000000  0.971831\n",
       "8  1.000000  1.000000  1.000000"
      ]
     },
     "execution_count": 155,
     "metadata": {},
     "output_type": "execute_result"
    }
   ],
   "source": [
    "import numpy as np\n",
    "\n",
    "dup_mmmm = dfnorm.copy()\n",
    "min_value = np.min(dup_mmmm )\n",
    "max_value = np.max(dup_mmmm)   # Use max_value=dup_mmmm.max(axis=0), to prevent this future error.\n",
    "scaled_data = (dup_mmmm  - min_value) / (max_value - min_value)\n",
    "scaled_data"
   ]
  },
  {
   "cell_type": "markdown",
   "id": "5c7ea8f6",
   "metadata": {},
   "source": [
    "In the first approach, you calculated the mean and standard deviation of the 'length' column using the mean() and std() methods. Then you subtracted the mean and divided by the standard deviation for each value in the 'length' column to perform the z-score normalization.\n",
    "\n",
    "In the second approach using scipy.stats.zscore, the z-score normalization is applied to the entire DataFrame dfnorm at once. This calculates the mean and standard deviation for each column separately and performs the z-score normalization based on these column-wise statistics.\n",
    "\n",
    "As a result, the values obtained from the two approaches may differ slightly due to differences in precision and rounding. However, both approaches are valid for z-score normalization, and the overall scaling effect is the same."
   ]
  },
  {
   "cell_type": "markdown",
   "id": "7a8d7b3c",
   "metadata": {},
   "source": [
    "."
   ]
  },
  {
   "cell_type": "markdown",
   "id": "a275c8ed",
   "metadata": {},
   "source": [
    "."
   ]
  },
  {
   "cell_type": "markdown",
   "id": "7d8ab0fc",
   "metadata": {},
   "source": [
    "# Data Binning:\n",
    "# Convert Numerical Values to Categorical Values Into Bins"
   ]
  },
  {
   "cell_type": "markdown",
   "id": "50e8a5a6",
   "metadata": {},
   "source": [
    "A method of data pre-processing. Binning is when you group values together into bins. For example, you can bin “age” into [0 to 5], [6 to 10], [11 to 15] and so on. Sometimes, binning can improve accuracy of the predictive models. In addition, sometimes we use data binning to group a set of numerical values into a smaller number of bins to have a better understanding of the data distribution."
   ]
  },
  {
   "cell_type": "markdown",
   "id": "fcce1f61",
   "metadata": {},
   "source": [
    "In our dataset we can take 'price' feature to convert this numerical feature's values to categorical values."
   ]
  },
  {
   "cell_type": "markdown",
   "id": "554cb09d",
   "metadata": {},
   "source": [
    "“price” here is an attribute range from 5,000 to 45,500. Using binning, we categorize the price into three bins: low price, medium price, and high prices. In the actual car dataset, ”price\" is a numerical variable ranging from 5188 to 45400, it has 201 unique values. We can categorize them into 3 bins: low, medium, and high-priced cars."
   ]
  },
  {
   "cell_type": "code",
   "execution_count": 156,
   "id": "7a835896",
   "metadata": {},
   "outputs": [],
   "source": [
    "import numpy as np\n",
    "import pandas as pd"
   ]
  },
  {
   "cell_type": "code",
   "execution_count": 157,
   "id": "6c35d352",
   "metadata": {},
   "outputs": [],
   "source": [
    "df_bin = df.copy()"
   ]
  },
  {
   "cell_type": "markdown",
   "id": "449beb27",
   "metadata": {},
   "source": [
    "The np.linspace() function takes three arguments: the start value, the end value, and the number of points you want to generate between the start and end values. In this case, min(fda_bin['price']) represents the start value, max(fda_bin['price']) represents the end value, and 4 represents the number of points."
   ]
  },
  {
   "cell_type": "code",
   "execution_count": 158,
   "id": "83f121ff",
   "metadata": {},
   "outputs": [
    {
     "data": {
      "text/plain": [
       "array([ 5118.        , 18545.33333333, 31972.66666667, 45400.        ])"
      ]
     },
     "execution_count": 158,
     "metadata": {},
     "output_type": "execute_result"
    }
   ],
   "source": [
    "bin = np.linspace(min(df_bin['price']),max(df_bin['price']),4)\n",
    "bin\n",
    "# This will return an array of 4 evenly spaced points of price feature"
   ]
  },
  {
   "cell_type": "code",
   "execution_count": 159,
   "id": "4c45eee8",
   "metadata": {},
   "outputs": [],
   "source": [
    "# Then we create a list that contains the different bin names\n",
    "# group = ['Low','Medium','High']"
   ]
  },
  {
   "cell_type": "code",
   "execution_count": 160,
   "id": "4ef77e3a",
   "metadata": {},
   "outputs": [
    {
     "data": {
      "text/html": [
       "<div>\n",
       "<style scoped>\n",
       "    .dataframe tbody tr th:only-of-type {\n",
       "        vertical-align: middle;\n",
       "    }\n",
       "\n",
       "    .dataframe tbody tr th {\n",
       "        vertical-align: top;\n",
       "    }\n",
       "\n",
       "    .dataframe thead th {\n",
       "        text-align: right;\n",
       "    }\n",
       "</style>\n",
       "<table border=\"1\" class=\"dataframe\">\n",
       "  <thead>\n",
       "    <tr style=\"text-align: right;\">\n",
       "      <th></th>\n",
       "      <th>price-binned</th>\n",
       "      <th>price</th>\n",
       "    </tr>\n",
       "  </thead>\n",
       "  <tbody>\n",
       "    <tr>\n",
       "      <th>0</th>\n",
       "      <td>Low</td>\n",
       "      <td>13495</td>\n",
       "    </tr>\n",
       "    <tr>\n",
       "      <th>1</th>\n",
       "      <td>Low</td>\n",
       "      <td>16500</td>\n",
       "    </tr>\n",
       "    <tr>\n",
       "      <th>2</th>\n",
       "      <td>Low</td>\n",
       "      <td>16500</td>\n",
       "    </tr>\n",
       "    <tr>\n",
       "      <th>3</th>\n",
       "      <td>Low</td>\n",
       "      <td>13950</td>\n",
       "    </tr>\n",
       "    <tr>\n",
       "      <th>4</th>\n",
       "      <td>Low</td>\n",
       "      <td>17450</td>\n",
       "    </tr>\n",
       "    <tr>\n",
       "      <th>...</th>\n",
       "      <td>...</td>\n",
       "      <td>...</td>\n",
       "    </tr>\n",
       "    <tr>\n",
       "      <th>200</th>\n",
       "      <td>Low</td>\n",
       "      <td>16845</td>\n",
       "    </tr>\n",
       "    <tr>\n",
       "      <th>201</th>\n",
       "      <td>Medium</td>\n",
       "      <td>19045</td>\n",
       "    </tr>\n",
       "    <tr>\n",
       "      <th>202</th>\n",
       "      <td>Medium</td>\n",
       "      <td>21485</td>\n",
       "    </tr>\n",
       "    <tr>\n",
       "      <th>203</th>\n",
       "      <td>Medium</td>\n",
       "      <td>22470</td>\n",
       "    </tr>\n",
       "    <tr>\n",
       "      <th>204</th>\n",
       "      <td>Medium</td>\n",
       "      <td>22625</td>\n",
       "    </tr>\n",
       "  </tbody>\n",
       "</table>\n",
       "<p>201 rows × 2 columns</p>\n",
       "</div>"
      ],
      "text/plain": [
       "    price-binned  price\n",
       "0            Low  13495\n",
       "1            Low  16500\n",
       "2            Low  16500\n",
       "3            Low  13950\n",
       "4            Low  17450\n",
       "..           ...    ...\n",
       "200          Low  16845\n",
       "201       Medium  19045\n",
       "202       Medium  21485\n",
       "203       Medium  22470\n",
       "204       Medium  22625\n",
       "\n",
       "[201 rows x 2 columns]"
      ]
     },
     "execution_count": 160,
     "metadata": {},
     "output_type": "execute_result"
    }
   ],
   "source": [
    "group_names = [\"Low\",\"Medium\",\"High\"]\n",
    "df_bin['price-binned']=pd.cut(df_bin['price'],bin,labels=group_names,include_lowest=True)\n",
    "df_bin.loc[:,['price-binned', 'price']]"
   ]
  },
  {
   "cell_type": "markdown",
   "id": "69971fb4",
   "metadata": {},
   "source": [
    "."
   ]
  },
  {
   "cell_type": "markdown",
   "id": "e8d53b8e",
   "metadata": {},
   "source": [
    "By setting include_lowest=True, the lowest bin edge is included in the bins. This means that values equal to the lowest bin edge will be included in the corresponding bin.\n",
    "\n",
    "df_bin['price-binned]=pd.cut(df_bin['price'],bin,labels=group_names,include_lowest=True)\n",
    "\n",
    "Note that if include_lowest is set to False (or not specified), the lowest bin edge would not be included in the corresponding bin, and values equal to the lowest bin edge would fall into the bin to the left of it.\n",
    "\n",
    "we get lowest bin edge with NaN"
   ]
  },
  {
   "cell_type": "markdown",
   "id": "2e35036d",
   "metadata": {},
   "source": [
    "."
   ]
  },
  {
   "cell_type": "markdown",
   "id": "5ccbad39",
   "metadata": {},
   "source": [
    "We can visualize this binned data using Histogram or any other plot"
   ]
  },
  {
   "cell_type": "markdown",
   "id": "7e6eb5cb",
   "metadata": {},
   "source": [
    "."
   ]
  },
  {
   "cell_type": "code",
   "execution_count": 161,
   "id": "65809f87",
   "metadata": {},
   "outputs": [],
   "source": [
    "df_c2n = df.copy()"
   ]
  },
  {
   "cell_type": "markdown",
   "id": "9fe82620",
   "metadata": {},
   "source": [
    "# Convert Categorical Variables to Numerical Variables"
   ]
  },
  {
   "cell_type": "markdown",
   "id": "d50fdb47",
   "metadata": {},
   "source": [
    "Most statistical models cannot take in the objects/strings as input"
   ]
  },
  {
   "cell_type": "markdown",
   "id": "29785d80",
   "metadata": {},
   "source": [
    "- Add dummy variables for each unique category\n",
    "- Assigns 0 or 1 in each category"
   ]
  },
  {
   "cell_type": "code",
   "execution_count": 162,
   "id": "09ea5087",
   "metadata": {},
   "outputs": [],
   "source": [
    "df_c2n.rename(columns={'fuel-type':'fuel'}, inplace=True)"
   ]
  },
  {
   "cell_type": "code",
   "execution_count": 163,
   "id": "22abd385",
   "metadata": {},
   "outputs": [
    {
     "data": {
      "text/html": [
       "<div>\n",
       "<style scoped>\n",
       "    .dataframe tbody tr th:only-of-type {\n",
       "        vertical-align: middle;\n",
       "    }\n",
       "\n",
       "    .dataframe tbody tr th {\n",
       "        vertical-align: top;\n",
       "    }\n",
       "\n",
       "    .dataframe thead th {\n",
       "        text-align: right;\n",
       "    }\n",
       "</style>\n",
       "<table border=\"1\" class=\"dataframe\">\n",
       "  <thead>\n",
       "    <tr style=\"text-align: right;\">\n",
       "      <th></th>\n",
       "      <th>fuel</th>\n",
       "    </tr>\n",
       "  </thead>\n",
       "  <tbody>\n",
       "    <tr>\n",
       "      <th>0</th>\n",
       "      <td>gas</td>\n",
       "    </tr>\n",
       "    <tr>\n",
       "      <th>1</th>\n",
       "      <td>gas</td>\n",
       "    </tr>\n",
       "    <tr>\n",
       "      <th>2</th>\n",
       "      <td>gas</td>\n",
       "    </tr>\n",
       "    <tr>\n",
       "      <th>3</th>\n",
       "      <td>gas</td>\n",
       "    </tr>\n",
       "    <tr>\n",
       "      <th>4</th>\n",
       "      <td>gas</td>\n",
       "    </tr>\n",
       "    <tr>\n",
       "      <th>...</th>\n",
       "      <td>...</td>\n",
       "    </tr>\n",
       "    <tr>\n",
       "      <th>200</th>\n",
       "      <td>gas</td>\n",
       "    </tr>\n",
       "    <tr>\n",
       "      <th>201</th>\n",
       "      <td>gas</td>\n",
       "    </tr>\n",
       "    <tr>\n",
       "      <th>202</th>\n",
       "      <td>gas</td>\n",
       "    </tr>\n",
       "    <tr>\n",
       "      <th>203</th>\n",
       "      <td>diesel</td>\n",
       "    </tr>\n",
       "    <tr>\n",
       "      <th>204</th>\n",
       "      <td>gas</td>\n",
       "    </tr>\n",
       "  </tbody>\n",
       "</table>\n",
       "<p>201 rows × 1 columns</p>\n",
       "</div>"
      ],
      "text/plain": [
       "       fuel\n",
       "0       gas\n",
       "1       gas\n",
       "2       gas\n",
       "3       gas\n",
       "4       gas\n",
       "..      ...\n",
       "200     gas\n",
       "201     gas\n",
       "202     gas\n",
       "203  diesel\n",
       "204     gas\n",
       "\n",
       "[201 rows x 1 columns]"
      ]
     },
     "execution_count": 163,
     "metadata": {},
     "output_type": "execute_result"
    }
   ],
   "source": [
    "df_c2n.loc[:,['fuel']]"
   ]
  },
  {
   "cell_type": "raw",
   "id": "c9d175d5",
   "metadata": {},
   "source": [
    "pandas.get_dummies() to create dummy variables"
   ]
  },
  {
   "cell_type": "code",
   "execution_count": 164,
   "id": "fe8ac629",
   "metadata": {},
   "outputs": [
    {
     "data": {
      "text/html": [
       "<div>\n",
       "<style scoped>\n",
       "    .dataframe tbody tr th:only-of-type {\n",
       "        vertical-align: middle;\n",
       "    }\n",
       "\n",
       "    .dataframe tbody tr th {\n",
       "        vertical-align: top;\n",
       "    }\n",
       "\n",
       "    .dataframe thead th {\n",
       "        text-align: right;\n",
       "    }\n",
       "</style>\n",
       "<table border=\"1\" class=\"dataframe\">\n",
       "  <thead>\n",
       "    <tr style=\"text-align: right;\">\n",
       "      <th></th>\n",
       "      <th>diesel</th>\n",
       "      <th>gas</th>\n",
       "    </tr>\n",
       "  </thead>\n",
       "  <tbody>\n",
       "    <tr>\n",
       "      <th>0</th>\n",
       "      <td>0</td>\n",
       "      <td>1</td>\n",
       "    </tr>\n",
       "    <tr>\n",
       "      <th>1</th>\n",
       "      <td>0</td>\n",
       "      <td>1</td>\n",
       "    </tr>\n",
       "    <tr>\n",
       "      <th>2</th>\n",
       "      <td>0</td>\n",
       "      <td>1</td>\n",
       "    </tr>\n",
       "    <tr>\n",
       "      <th>3</th>\n",
       "      <td>0</td>\n",
       "      <td>1</td>\n",
       "    </tr>\n",
       "    <tr>\n",
       "      <th>4</th>\n",
       "      <td>0</td>\n",
       "      <td>1</td>\n",
       "    </tr>\n",
       "    <tr>\n",
       "      <th>...</th>\n",
       "      <td>...</td>\n",
       "      <td>...</td>\n",
       "    </tr>\n",
       "    <tr>\n",
       "      <th>200</th>\n",
       "      <td>0</td>\n",
       "      <td>1</td>\n",
       "    </tr>\n",
       "    <tr>\n",
       "      <th>201</th>\n",
       "      <td>0</td>\n",
       "      <td>1</td>\n",
       "    </tr>\n",
       "    <tr>\n",
       "      <th>202</th>\n",
       "      <td>0</td>\n",
       "      <td>1</td>\n",
       "    </tr>\n",
       "    <tr>\n",
       "      <th>203</th>\n",
       "      <td>1</td>\n",
       "      <td>0</td>\n",
       "    </tr>\n",
       "    <tr>\n",
       "      <th>204</th>\n",
       "      <td>0</td>\n",
       "      <td>1</td>\n",
       "    </tr>\n",
       "  </tbody>\n",
       "</table>\n",
       "<p>201 rows × 2 columns</p>\n",
       "</div>"
      ],
      "text/plain": [
       "     diesel  gas\n",
       "0         0    1\n",
       "1         0    1\n",
       "2         0    1\n",
       "3         0    1\n",
       "4         0    1\n",
       "..      ...  ...\n",
       "200       0    1\n",
       "201       0    1\n",
       "202       0    1\n",
       "203       1    0\n",
       "204       0    1\n",
       "\n",
       "[201 rows x 2 columns]"
      ]
     },
     "execution_count": 164,
     "metadata": {},
     "output_type": "execute_result"
    }
   ],
   "source": [
    "pd.get_dummies(df_c2n['fuel'])"
   ]
  },
  {
   "cell_type": "markdown",
   "id": "c2382933",
   "metadata": {},
   "source": [
    "."
   ]
  },
  {
   "cell_type": "markdown",
   "id": "9b74118d",
   "metadata": {},
   "source": [
    "."
   ]
  },
  {
   "cell_type": "code",
   "execution_count": 270,
   "id": "d98fc49a",
   "metadata": {},
   "outputs": [],
   "source": [
    "df_eda =df.copy()"
   ]
  },
  {
   "cell_type": "markdown",
   "id": "86994e0c",
   "metadata": {},
   "source": [
    "# Exploratory Data Analysis"
   ]
  },
  {
   "cell_type": "raw",
   "id": "d324b68c",
   "metadata": {},
   "source": [
    "- Summarize main characteristics of the data\n",
    "- Gain better understanding of the data\n",
    "- Uncover relationships between variables\n",
    "- Extract important variables"
   ]
  },
  {
   "cell_type": "markdown",
   "id": "69747c35",
   "metadata": {},
   "source": [
    "Question:\n",
    "    \n",
    "\"What are the characteristics which have the most impact on the car price?\""
   ]
  },
  {
   "cell_type": "markdown",
   "id": "5700e02b",
   "metadata": {},
   "source": [
    "."
   ]
  },
  {
   "cell_type": "raw",
   "id": "b2664100",
   "metadata": {},
   "source": [
    "Descriptive Statistics:\n",
    "    -Describe different features of data\n",
    "    -Giving short summaries about the sample and measures of the data"
   ]
  },
  {
   "cell_type": "code",
   "execution_count": 166,
   "id": "7a3e3d8d",
   "metadata": {},
   "outputs": [
    {
     "data": {
      "text/html": [
       "<div>\n",
       "<style scoped>\n",
       "    .dataframe tbody tr th:only-of-type {\n",
       "        vertical-align: middle;\n",
       "    }\n",
       "\n",
       "    .dataframe tbody tr th {\n",
       "        vertical-align: top;\n",
       "    }\n",
       "\n",
       "    .dataframe thead th {\n",
       "        text-align: right;\n",
       "    }\n",
       "</style>\n",
       "<table border=\"1\" class=\"dataframe\">\n",
       "  <thead>\n",
       "    <tr style=\"text-align: right;\">\n",
       "      <th></th>\n",
       "      <th>symboling</th>\n",
       "      <th>normalized-losses</th>\n",
       "      <th>wheel-base</th>\n",
       "      <th>length</th>\n",
       "      <th>width</th>\n",
       "      <th>height</th>\n",
       "      <th>curb-weight</th>\n",
       "      <th>engine-size</th>\n",
       "      <th>compression-ratio</th>\n",
       "      <th>city-L/100km</th>\n",
       "      <th>highway-mpg</th>\n",
       "      <th>price</th>\n",
       "    </tr>\n",
       "  </thead>\n",
       "  <tbody>\n",
       "    <tr>\n",
       "      <th>count</th>\n",
       "      <td>201.000000</td>\n",
       "      <td>164.000000</td>\n",
       "      <td>201.000000</td>\n",
       "      <td>201.000000</td>\n",
       "      <td>201.000000</td>\n",
       "      <td>201.000000</td>\n",
       "      <td>201.000000</td>\n",
       "      <td>201.000000</td>\n",
       "      <td>201.000000</td>\n",
       "      <td>201.000000</td>\n",
       "      <td>201.000000</td>\n",
       "      <td>201.000000</td>\n",
       "    </tr>\n",
       "    <tr>\n",
       "      <th>mean</th>\n",
       "      <td>0.840796</td>\n",
       "      <td>122.000000</td>\n",
       "      <td>98.797015</td>\n",
       "      <td>174.200995</td>\n",
       "      <td>65.889055</td>\n",
       "      <td>53.766667</td>\n",
       "      <td>2555.666667</td>\n",
       "      <td>126.875622</td>\n",
       "      <td>10.164279</td>\n",
       "      <td>9.944145</td>\n",
       "      <td>30.686567</td>\n",
       "      <td>13207.129353</td>\n",
       "    </tr>\n",
       "    <tr>\n",
       "      <th>std</th>\n",
       "      <td>1.254802</td>\n",
       "      <td>35.442168</td>\n",
       "      <td>6.066366</td>\n",
       "      <td>12.322175</td>\n",
       "      <td>2.101471</td>\n",
       "      <td>2.447822</td>\n",
       "      <td>517.296727</td>\n",
       "      <td>41.546834</td>\n",
       "      <td>4.004965</td>\n",
       "      <td>2.534599</td>\n",
       "      <td>6.815150</td>\n",
       "      <td>7947.066342</td>\n",
       "    </tr>\n",
       "    <tr>\n",
       "      <th>min</th>\n",
       "      <td>-2.000000</td>\n",
       "      <td>65.000000</td>\n",
       "      <td>86.600000</td>\n",
       "      <td>141.100000</td>\n",
       "      <td>60.300000</td>\n",
       "      <td>47.800000</td>\n",
       "      <td>1488.000000</td>\n",
       "      <td>61.000000</td>\n",
       "      <td>7.000000</td>\n",
       "      <td>4.795918</td>\n",
       "      <td>16.000000</td>\n",
       "      <td>5118.000000</td>\n",
       "    </tr>\n",
       "    <tr>\n",
       "      <th>25%</th>\n",
       "      <td>0.000000</td>\n",
       "      <td>94.000000</td>\n",
       "      <td>94.500000</td>\n",
       "      <td>166.800000</td>\n",
       "      <td>64.100000</td>\n",
       "      <td>52.000000</td>\n",
       "      <td>2169.000000</td>\n",
       "      <td>98.000000</td>\n",
       "      <td>8.600000</td>\n",
       "      <td>7.833333</td>\n",
       "      <td>25.000000</td>\n",
       "      <td>7775.000000</td>\n",
       "    </tr>\n",
       "    <tr>\n",
       "      <th>50%</th>\n",
       "      <td>1.000000</td>\n",
       "      <td>115.000000</td>\n",
       "      <td>97.000000</td>\n",
       "      <td>173.200000</td>\n",
       "      <td>65.500000</td>\n",
       "      <td>54.100000</td>\n",
       "      <td>2414.000000</td>\n",
       "      <td>120.000000</td>\n",
       "      <td>9.000000</td>\n",
       "      <td>9.791667</td>\n",
       "      <td>30.000000</td>\n",
       "      <td>10295.000000</td>\n",
       "    </tr>\n",
       "    <tr>\n",
       "      <th>75%</th>\n",
       "      <td>2.000000</td>\n",
       "      <td>150.000000</td>\n",
       "      <td>102.400000</td>\n",
       "      <td>183.500000</td>\n",
       "      <td>66.600000</td>\n",
       "      <td>55.500000</td>\n",
       "      <td>2926.000000</td>\n",
       "      <td>141.000000</td>\n",
       "      <td>9.400000</td>\n",
       "      <td>12.368421</td>\n",
       "      <td>34.000000</td>\n",
       "      <td>16500.000000</td>\n",
       "    </tr>\n",
       "    <tr>\n",
       "      <th>max</th>\n",
       "      <td>3.000000</td>\n",
       "      <td>256.000000</td>\n",
       "      <td>120.900000</td>\n",
       "      <td>208.100000</td>\n",
       "      <td>72.000000</td>\n",
       "      <td>59.800000</td>\n",
       "      <td>4066.000000</td>\n",
       "      <td>326.000000</td>\n",
       "      <td>23.000000</td>\n",
       "      <td>18.076923</td>\n",
       "      <td>54.000000</td>\n",
       "      <td>45400.000000</td>\n",
       "    </tr>\n",
       "  </tbody>\n",
       "</table>\n",
       "</div>"
      ],
      "text/plain": [
       "        symboling  normalized-losses  wheel-base      length       width  \\\n",
       "count  201.000000         164.000000  201.000000  201.000000  201.000000   \n",
       "mean     0.840796         122.000000   98.797015  174.200995   65.889055   \n",
       "std      1.254802          35.442168    6.066366   12.322175    2.101471   \n",
       "min     -2.000000          65.000000   86.600000  141.100000   60.300000   \n",
       "25%      0.000000          94.000000   94.500000  166.800000   64.100000   \n",
       "50%      1.000000         115.000000   97.000000  173.200000   65.500000   \n",
       "75%      2.000000         150.000000  102.400000  183.500000   66.600000   \n",
       "max      3.000000         256.000000  120.900000  208.100000   72.000000   \n",
       "\n",
       "           height  curb-weight  engine-size  compression-ratio  city-L/100km  \\\n",
       "count  201.000000   201.000000   201.000000         201.000000    201.000000   \n",
       "mean    53.766667  2555.666667   126.875622          10.164279      9.944145   \n",
       "std      2.447822   517.296727    41.546834           4.004965      2.534599   \n",
       "min     47.800000  1488.000000    61.000000           7.000000      4.795918   \n",
       "25%     52.000000  2169.000000    98.000000           8.600000      7.833333   \n",
       "50%     54.100000  2414.000000   120.000000           9.000000      9.791667   \n",
       "75%     55.500000  2926.000000   141.000000           9.400000     12.368421   \n",
       "max     59.800000  4066.000000   326.000000          23.000000     18.076923   \n",
       "\n",
       "       highway-mpg         price  \n",
       "count   201.000000    201.000000  \n",
       "mean     30.686567  13207.129353  \n",
       "std       6.815150   7947.066342  \n",
       "min      16.000000   5118.000000  \n",
       "25%      25.000000   7775.000000  \n",
       "50%      30.000000  10295.000000  \n",
       "75%      34.000000  16500.000000  \n",
       "max      54.000000  45400.000000  "
      ]
     },
     "execution_count": 166,
     "metadata": {},
     "output_type": "execute_result"
    }
   ],
   "source": [
    "df_eda.describe()"
   ]
  },
  {
   "cell_type": "code",
   "execution_count": 167,
   "id": "88d766ea",
   "metadata": {},
   "outputs": [
    {
     "data": {
      "text/html": [
       "<div>\n",
       "<style scoped>\n",
       "    .dataframe tbody tr th:only-of-type {\n",
       "        vertical-align: middle;\n",
       "    }\n",
       "\n",
       "    .dataframe tbody tr th {\n",
       "        vertical-align: top;\n",
       "    }\n",
       "\n",
       "    .dataframe thead th {\n",
       "        text-align: right;\n",
       "    }\n",
       "</style>\n",
       "<table border=\"1\" class=\"dataframe\">\n",
       "  <thead>\n",
       "    <tr style=\"text-align: right;\">\n",
       "      <th></th>\n",
       "      <th>symboling</th>\n",
       "      <th>normalized-losses</th>\n",
       "      <th>make</th>\n",
       "      <th>fuel-type</th>\n",
       "      <th>aspiration</th>\n",
       "      <th>num-of-doors</th>\n",
       "      <th>body-style</th>\n",
       "      <th>drive-wheels</th>\n",
       "      <th>engine-location</th>\n",
       "      <th>wheel-base</th>\n",
       "      <th>...</th>\n",
       "      <th>engine-size</th>\n",
       "      <th>fuel-system</th>\n",
       "      <th>bore</th>\n",
       "      <th>stroke</th>\n",
       "      <th>compression-ratio</th>\n",
       "      <th>horsepower</th>\n",
       "      <th>peak-rpm</th>\n",
       "      <th>city-L/100km</th>\n",
       "      <th>highway-mpg</th>\n",
       "      <th>price</th>\n",
       "    </tr>\n",
       "  </thead>\n",
       "  <tbody>\n",
       "    <tr>\n",
       "      <th>0</th>\n",
       "      <td>3</td>\n",
       "      <td>NaN</td>\n",
       "      <td>alfa-romero</td>\n",
       "      <td>gas</td>\n",
       "      <td>std</td>\n",
       "      <td>two</td>\n",
       "      <td>convertible</td>\n",
       "      <td>rwd</td>\n",
       "      <td>front</td>\n",
       "      <td>88.6</td>\n",
       "      <td>...</td>\n",
       "      <td>130</td>\n",
       "      <td>mpfi</td>\n",
       "      <td>3.47</td>\n",
       "      <td>2.68</td>\n",
       "      <td>9.0</td>\n",
       "      <td>111</td>\n",
       "      <td>5000</td>\n",
       "      <td>11.190476</td>\n",
       "      <td>27</td>\n",
       "      <td>13495</td>\n",
       "    </tr>\n",
       "    <tr>\n",
       "      <th>1</th>\n",
       "      <td>3</td>\n",
       "      <td>NaN</td>\n",
       "      <td>alfa-romero</td>\n",
       "      <td>gas</td>\n",
       "      <td>std</td>\n",
       "      <td>two</td>\n",
       "      <td>convertible</td>\n",
       "      <td>rwd</td>\n",
       "      <td>front</td>\n",
       "      <td>88.6</td>\n",
       "      <td>...</td>\n",
       "      <td>130</td>\n",
       "      <td>mpfi</td>\n",
       "      <td>3.47</td>\n",
       "      <td>2.68</td>\n",
       "      <td>9.0</td>\n",
       "      <td>111</td>\n",
       "      <td>5000</td>\n",
       "      <td>11.190476</td>\n",
       "      <td>27</td>\n",
       "      <td>16500</td>\n",
       "    </tr>\n",
       "    <tr>\n",
       "      <th>2</th>\n",
       "      <td>1</td>\n",
       "      <td>NaN</td>\n",
       "      <td>alfa-romero</td>\n",
       "      <td>gas</td>\n",
       "      <td>std</td>\n",
       "      <td>two</td>\n",
       "      <td>hatchback</td>\n",
       "      <td>rwd</td>\n",
       "      <td>front</td>\n",
       "      <td>94.5</td>\n",
       "      <td>...</td>\n",
       "      <td>152</td>\n",
       "      <td>mpfi</td>\n",
       "      <td>2.68</td>\n",
       "      <td>3.47</td>\n",
       "      <td>9.0</td>\n",
       "      <td>154</td>\n",
       "      <td>5000</td>\n",
       "      <td>12.368421</td>\n",
       "      <td>26</td>\n",
       "      <td>16500</td>\n",
       "    </tr>\n",
       "    <tr>\n",
       "      <th>3</th>\n",
       "      <td>2</td>\n",
       "      <td>164.0</td>\n",
       "      <td>audi</td>\n",
       "      <td>gas</td>\n",
       "      <td>std</td>\n",
       "      <td>four</td>\n",
       "      <td>sedan</td>\n",
       "      <td>fwd</td>\n",
       "      <td>front</td>\n",
       "      <td>99.8</td>\n",
       "      <td>...</td>\n",
       "      <td>109</td>\n",
       "      <td>mpfi</td>\n",
       "      <td>3.19</td>\n",
       "      <td>3.40</td>\n",
       "      <td>10.0</td>\n",
       "      <td>102</td>\n",
       "      <td>5500</td>\n",
       "      <td>9.791667</td>\n",
       "      <td>30</td>\n",
       "      <td>13950</td>\n",
       "    </tr>\n",
       "    <tr>\n",
       "      <th>4</th>\n",
       "      <td>2</td>\n",
       "      <td>164.0</td>\n",
       "      <td>audi</td>\n",
       "      <td>gas</td>\n",
       "      <td>std</td>\n",
       "      <td>four</td>\n",
       "      <td>sedan</td>\n",
       "      <td>4wd</td>\n",
       "      <td>front</td>\n",
       "      <td>99.4</td>\n",
       "      <td>...</td>\n",
       "      <td>136</td>\n",
       "      <td>mpfi</td>\n",
       "      <td>3.19</td>\n",
       "      <td>3.40</td>\n",
       "      <td>8.0</td>\n",
       "      <td>115</td>\n",
       "      <td>5500</td>\n",
       "      <td>13.055556</td>\n",
       "      <td>22</td>\n",
       "      <td>17450</td>\n",
       "    </tr>\n",
       "  </tbody>\n",
       "</table>\n",
       "<p>5 rows × 26 columns</p>\n",
       "</div>"
      ],
      "text/plain": [
       "   symboling  normalized-losses         make fuel-type aspiration  \\\n",
       "0          3                NaN  alfa-romero       gas        std   \n",
       "1          3                NaN  alfa-romero       gas        std   \n",
       "2          1                NaN  alfa-romero       gas        std   \n",
       "3          2              164.0         audi       gas        std   \n",
       "4          2              164.0         audi       gas        std   \n",
       "\n",
       "  num-of-doors   body-style drive-wheels engine-location  wheel-base  ...  \\\n",
       "0          two  convertible          rwd           front        88.6  ...   \n",
       "1          two  convertible          rwd           front        88.6  ...   \n",
       "2          two    hatchback          rwd           front        94.5  ...   \n",
       "3         four        sedan          fwd           front        99.8  ...   \n",
       "4         four        sedan          4wd           front        99.4  ...   \n",
       "\n",
       "   engine-size  fuel-system  bore  stroke compression-ratio horsepower  \\\n",
       "0          130         mpfi  3.47    2.68               9.0        111   \n",
       "1          130         mpfi  3.47    2.68               9.0        111   \n",
       "2          152         mpfi  2.68    3.47               9.0        154   \n",
       "3          109         mpfi  3.19    3.40              10.0        102   \n",
       "4          136         mpfi  3.19    3.40               8.0        115   \n",
       "\n",
       "   peak-rpm city-L/100km highway-mpg  price  \n",
       "0      5000    11.190476          27  13495  \n",
       "1      5000    11.190476          27  16500  \n",
       "2      5000    12.368421          26  16500  \n",
       "3      5500     9.791667          30  13950  \n",
       "4      5500    13.055556          22  17450  \n",
       "\n",
       "[5 rows x 26 columns]"
      ]
     },
     "execution_count": 167,
     "metadata": {},
     "output_type": "execute_result"
    }
   ],
   "source": [
    "df.head()"
   ]
  },
  {
   "cell_type": "code",
   "execution_count": 168,
   "id": "0f2ca740",
   "metadata": {},
   "outputs": [
    {
     "data": {
      "text/html": [
       "<div>\n",
       "<style scoped>\n",
       "    .dataframe tbody tr th:only-of-type {\n",
       "        vertical-align: middle;\n",
       "    }\n",
       "\n",
       "    .dataframe tbody tr th {\n",
       "        vertical-align: top;\n",
       "    }\n",
       "\n",
       "    .dataframe thead th {\n",
       "        text-align: right;\n",
       "    }\n",
       "</style>\n",
       "<table border=\"1\" class=\"dataframe\">\n",
       "  <thead>\n",
       "    <tr style=\"text-align: right;\">\n",
       "      <th></th>\n",
       "      <th></th>\n",
       "      <th></th>\n",
       "      <th></th>\n",
       "      <th></th>\n",
       "      <th></th>\n",
       "      <th></th>\n",
       "      <th></th>\n",
       "      <th></th>\n",
       "      <th></th>\n",
       "      <th></th>\n",
       "      <th></th>\n",
       "      <th></th>\n",
       "      <th></th>\n",
       "      <th></th>\n",
       "      <th></th>\n",
       "      <th></th>\n",
       "      <th></th>\n",
       "      <th></th>\n",
       "      <th></th>\n",
       "      <th></th>\n",
       "      <th></th>\n",
       "      <th></th>\n",
       "      <th></th>\n",
       "      <th></th>\n",
       "      <th></th>\n",
       "      <th>0</th>\n",
       "    </tr>\n",
       "    <tr>\n",
       "      <th>symboling</th>\n",
       "      <th>normalized-losses</th>\n",
       "      <th>make</th>\n",
       "      <th>fuel-type</th>\n",
       "      <th>aspiration</th>\n",
       "      <th>num-of-doors</th>\n",
       "      <th>body-style</th>\n",
       "      <th>drive-wheels</th>\n",
       "      <th>engine-location</th>\n",
       "      <th>wheel-base</th>\n",
       "      <th>length</th>\n",
       "      <th>width</th>\n",
       "      <th>height</th>\n",
       "      <th>curb-weight</th>\n",
       "      <th>engine-type</th>\n",
       "      <th>num-of-cylinders</th>\n",
       "      <th>engine-size</th>\n",
       "      <th>fuel-system</th>\n",
       "      <th>bore</th>\n",
       "      <th>stroke</th>\n",
       "      <th>compression-ratio</th>\n",
       "      <th>horsepower</th>\n",
       "      <th>peak-rpm</th>\n",
       "      <th>city-L/100km</th>\n",
       "      <th>highway-mpg</th>\n",
       "      <th>price</th>\n",
       "      <th></th>\n",
       "    </tr>\n",
       "  </thead>\n",
       "  <tbody>\n",
       "    <tr>\n",
       "      <th>-2</th>\n",
       "      <th>103.0</th>\n",
       "      <th>volvo</th>\n",
       "      <th>gas</th>\n",
       "      <th>std</th>\n",
       "      <th>four</th>\n",
       "      <th>sedan</th>\n",
       "      <th>rwd</th>\n",
       "      <th>front</th>\n",
       "      <th>104.3</th>\n",
       "      <th>188.8</th>\n",
       "      <th>67.2</th>\n",
       "      <th>56.2</th>\n",
       "      <th>2912</th>\n",
       "      <th>ohc</th>\n",
       "      <th>four</th>\n",
       "      <th>141</th>\n",
       "      <th>mpfi</th>\n",
       "      <th>3.78</th>\n",
       "      <th>3.15</th>\n",
       "      <th>9.5</th>\n",
       "      <th>114</th>\n",
       "      <th>5400</th>\n",
       "      <th>10.217391</th>\n",
       "      <th>28</th>\n",
       "      <th>12940</th>\n",
       "      <td>1</td>\n",
       "    </tr>\n",
       "    <tr>\n",
       "      <th rowspan=\"4\" valign=\"top\">1</th>\n",
       "      <th rowspan=\"3\" valign=\"top\">148.0</th>\n",
       "      <th rowspan=\"3\" valign=\"top\">dodge</th>\n",
       "      <th rowspan=\"3\" valign=\"top\">gas</th>\n",
       "      <th rowspan=\"2\" valign=\"top\">std</th>\n",
       "      <th rowspan=\"2\" valign=\"top\">four</th>\n",
       "      <th>hatchback</th>\n",
       "      <th>fwd</th>\n",
       "      <th>front</th>\n",
       "      <th>93.7</th>\n",
       "      <th>157.3</th>\n",
       "      <th>63.8</th>\n",
       "      <th>50.6</th>\n",
       "      <th>1967</th>\n",
       "      <th>ohc</th>\n",
       "      <th>four</th>\n",
       "      <th>90</th>\n",
       "      <th>2bbl</th>\n",
       "      <th>2.97</th>\n",
       "      <th>3.23</th>\n",
       "      <th>9.4</th>\n",
       "      <th>68</th>\n",
       "      <th>5500</th>\n",
       "      <th>7.580645</th>\n",
       "      <th>38</th>\n",
       "      <th>6229</th>\n",
       "      <td>1</td>\n",
       "    </tr>\n",
       "    <tr>\n",
       "      <th>sedan</th>\n",
       "      <th>fwd</th>\n",
       "      <th>front</th>\n",
       "      <th>93.7</th>\n",
       "      <th>157.3</th>\n",
       "      <th>63.8</th>\n",
       "      <th>50.6</th>\n",
       "      <th>1989</th>\n",
       "      <th>ohc</th>\n",
       "      <th>four</th>\n",
       "      <th>90</th>\n",
       "      <th>2bbl</th>\n",
       "      <th>2.97</th>\n",
       "      <th>3.23</th>\n",
       "      <th>9.4</th>\n",
       "      <th>68</th>\n",
       "      <th>5500</th>\n",
       "      <th>7.580645</th>\n",
       "      <th>38</th>\n",
       "      <th>7609</th>\n",
       "      <td>1</td>\n",
       "    </tr>\n",
       "    <tr>\n",
       "      <th>turbo</th>\n",
       "      <th>?</th>\n",
       "      <th>sedan</th>\n",
       "      <th>fwd</th>\n",
       "      <th>front</th>\n",
       "      <th>93.7</th>\n",
       "      <th>157.3</th>\n",
       "      <th>63.8</th>\n",
       "      <th>50.6</th>\n",
       "      <th>2191</th>\n",
       "      <th>ohc</th>\n",
       "      <th>four</th>\n",
       "      <th>98</th>\n",
       "      <th>mpfi</th>\n",
       "      <th>3.03</th>\n",
       "      <th>3.39</th>\n",
       "      <th>7.6</th>\n",
       "      <th>102</th>\n",
       "      <th>5500</th>\n",
       "      <th>9.791667</th>\n",
       "      <th>30</th>\n",
       "      <th>8558</th>\n",
       "      <td>1</td>\n",
       "    </tr>\n",
       "    <tr>\n",
       "      <th>154.0</th>\n",
       "      <th>plymouth</th>\n",
       "      <th>gas</th>\n",
       "      <th>std</th>\n",
       "      <th>four</th>\n",
       "      <th>hatchback</th>\n",
       "      <th>fwd</th>\n",
       "      <th>front</th>\n",
       "      <th>93.7</th>\n",
       "      <th>157.3</th>\n",
       "      <th>63.8</th>\n",
       "      <th>50.6</th>\n",
       "      <th>1967</th>\n",
       "      <th>ohc</th>\n",
       "      <th>four</th>\n",
       "      <th>90</th>\n",
       "      <th>2bbl</th>\n",
       "      <th>2.97</th>\n",
       "      <th>3.23</th>\n",
       "      <th>9.4</th>\n",
       "      <th>68</th>\n",
       "      <th>5500</th>\n",
       "      <th>7.580645</th>\n",
       "      <th>38</th>\n",
       "      <th>6229</th>\n",
       "      <td>1</td>\n",
       "    </tr>\n",
       "    <tr>\n",
       "      <th>...</th>\n",
       "      <th>...</th>\n",
       "      <th>...</th>\n",
       "      <th>...</th>\n",
       "      <th>...</th>\n",
       "      <th>...</th>\n",
       "      <th>...</th>\n",
       "      <th>...</th>\n",
       "      <th>...</th>\n",
       "      <th>...</th>\n",
       "      <th>...</th>\n",
       "      <th>...</th>\n",
       "      <th>...</th>\n",
       "      <th>...</th>\n",
       "      <th>...</th>\n",
       "      <th>...</th>\n",
       "      <th>...</th>\n",
       "      <th>...</th>\n",
       "      <th>...</th>\n",
       "      <th>...</th>\n",
       "      <th>...</th>\n",
       "      <th>...</th>\n",
       "      <th>...</th>\n",
       "      <th>...</th>\n",
       "      <th>...</th>\n",
       "      <th>...</th>\n",
       "      <td>...</td>\n",
       "    </tr>\n",
       "    <tr>\n",
       "      <th rowspan=\"4\" valign=\"top\">0</th>\n",
       "      <th rowspan=\"3\" valign=\"top\">115.0</th>\n",
       "      <th rowspan=\"3\" valign=\"top\">mazda</th>\n",
       "      <th rowspan=\"3\" valign=\"top\">gas</th>\n",
       "      <th rowspan=\"3\" valign=\"top\">std</th>\n",
       "      <th rowspan=\"3\" valign=\"top\">four</th>\n",
       "      <th>hatchback</th>\n",
       "      <th>fwd</th>\n",
       "      <th>front</th>\n",
       "      <th>98.8</th>\n",
       "      <th>177.8</th>\n",
       "      <th>66.5</th>\n",
       "      <th>55.5</th>\n",
       "      <th>2425</th>\n",
       "      <th>ohc</th>\n",
       "      <th>four</th>\n",
       "      <th>122</th>\n",
       "      <th>2bbl</th>\n",
       "      <th>3.39</th>\n",
       "      <th>3.39</th>\n",
       "      <th>8.6</th>\n",
       "      <th>84</th>\n",
       "      <th>4800</th>\n",
       "      <th>9.038462</th>\n",
       "      <th>32</th>\n",
       "      <th>11245</th>\n",
       "      <td>1</td>\n",
       "    </tr>\n",
       "    <tr>\n",
       "      <th rowspan=\"2\" valign=\"top\">sedan</th>\n",
       "      <th rowspan=\"2\" valign=\"top\">fwd</th>\n",
       "      <th rowspan=\"2\" valign=\"top\">front</th>\n",
       "      <th rowspan=\"2\" valign=\"top\">98.8</th>\n",
       "      <th rowspan=\"2\" valign=\"top\">177.8</th>\n",
       "      <th rowspan=\"2\" valign=\"top\">66.5</th>\n",
       "      <th rowspan=\"2\" valign=\"top\">55.5</th>\n",
       "      <th rowspan=\"2\" valign=\"top\">2410</th>\n",
       "      <th rowspan=\"2\" valign=\"top\">ohc</th>\n",
       "      <th rowspan=\"2\" valign=\"top\">four</th>\n",
       "      <th rowspan=\"2\" valign=\"top\">122</th>\n",
       "      <th rowspan=\"2\" valign=\"top\">2bbl</th>\n",
       "      <th rowspan=\"2\" valign=\"top\">3.39</th>\n",
       "      <th rowspan=\"2\" valign=\"top\">3.39</th>\n",
       "      <th rowspan=\"2\" valign=\"top\">8.6</th>\n",
       "      <th rowspan=\"2\" valign=\"top\">84</th>\n",
       "      <th rowspan=\"2\" valign=\"top\">4800</th>\n",
       "      <th rowspan=\"2\" valign=\"top\">9.038462</th>\n",
       "      <th rowspan=\"2\" valign=\"top\">32</th>\n",
       "      <th>8495</th>\n",
       "      <td>1</td>\n",
       "    </tr>\n",
       "    <tr>\n",
       "      <th>10245</th>\n",
       "      <td>1</td>\n",
       "    </tr>\n",
       "    <tr>\n",
       "      <th>118.0</th>\n",
       "      <th>mazda</th>\n",
       "      <th>gas</th>\n",
       "      <th>std</th>\n",
       "      <th>four</th>\n",
       "      <th>sedan</th>\n",
       "      <th>rwd</th>\n",
       "      <th>front</th>\n",
       "      <th>104.9</th>\n",
       "      <th>175.0</th>\n",
       "      <th>66.1</th>\n",
       "      <th>54.4</th>\n",
       "      <th>2670</th>\n",
       "      <th>ohc</th>\n",
       "      <th>four</th>\n",
       "      <th>140</th>\n",
       "      <th>mpfi</th>\n",
       "      <th>3.76</th>\n",
       "      <th>3.16</th>\n",
       "      <th>8.0</th>\n",
       "      <th>120</th>\n",
       "      <th>5000</th>\n",
       "      <th>12.368421</th>\n",
       "      <th>27</th>\n",
       "      <th>18280</th>\n",
       "      <td>1</td>\n",
       "    </tr>\n",
       "    <tr>\n",
       "      <th>3</th>\n",
       "      <th>256.0</th>\n",
       "      <th>volkswagen</th>\n",
       "      <th>gas</th>\n",
       "      <th>std</th>\n",
       "      <th>two</th>\n",
       "      <th>hatchback</th>\n",
       "      <th>fwd</th>\n",
       "      <th>front</th>\n",
       "      <th>94.5</th>\n",
       "      <th>165.7</th>\n",
       "      <th>64.0</th>\n",
       "      <th>51.4</th>\n",
       "      <th>2221</th>\n",
       "      <th>ohc</th>\n",
       "      <th>four</th>\n",
       "      <th>109</th>\n",
       "      <th>mpfi</th>\n",
       "      <th>3.19</th>\n",
       "      <th>3.40</th>\n",
       "      <th>8.5</th>\n",
       "      <th>90</th>\n",
       "      <th>5500</th>\n",
       "      <th>9.791667</th>\n",
       "      <th>29</th>\n",
       "      <th>9980</th>\n",
       "      <td>1</td>\n",
       "    </tr>\n",
       "  </tbody>\n",
       "</table>\n",
       "<p>164 rows × 1 columns</p>\n",
       "</div>"
      ],
      "text/plain": [
       "                                                                                                                                                                                                                                                                                                   0\n",
       "symboling normalized-losses make       fuel-type aspiration num-of-doors body-style drive-wheels engine-location wheel-base length width height curb-weight engine-type num-of-cylinders engine-size fuel-system bore stroke compression-ratio horsepower peak-rpm city-L/100km highway-mpg price   \n",
       "-2        103.0             volvo      gas       std        four         sedan      rwd          front           104.3      188.8  67.2  56.2   2912        ohc         four             141         mpfi        3.78 3.15   9.5               114        5400     10.217391    28          12940  1\n",
       " 1        148.0             dodge      gas       std        four         hatchback  fwd          front           93.7       157.3  63.8  50.6   1967        ohc         four             90          2bbl        2.97 3.23   9.4               68         5500     7.580645     38          6229   1\n",
       "                                                                         sedan      fwd          front           93.7       157.3  63.8  50.6   1989        ohc         four             90          2bbl        2.97 3.23   9.4               68         5500     7.580645     38          7609   1\n",
       "                                                 turbo      ?            sedan      fwd          front           93.7       157.3  63.8  50.6   2191        ohc         four             98          mpfi        3.03 3.39   7.6               102        5500     9.791667     30          8558   1\n",
       "          154.0             plymouth   gas       std        four         hatchback  fwd          front           93.7       157.3  63.8  50.6   1967        ohc         four             90          2bbl        2.97 3.23   9.4               68         5500     7.580645     38          6229   1\n",
       "...                                                                                                                                                                                                                                                                                               ..\n",
       " 0        115.0             mazda      gas       std        four         hatchback  fwd          front           98.8       177.8  66.5  55.5   2425        ohc         four             122         2bbl        3.39 3.39   8.6               84         4800     9.038462     32          11245  1\n",
       "                                                                         sedan      fwd          front           98.8       177.8  66.5  55.5   2410        ohc         four             122         2bbl        3.39 3.39   8.6               84         4800     9.038462     32          8495   1\n",
       "                                                                                                                                                                                                                                                                                            10245  1\n",
       "          118.0             mazda      gas       std        four         sedan      rwd          front           104.9      175.0  66.1  54.4   2670        ohc         four             140         mpfi        3.76 3.16   8.0               120        5000     12.368421    27          18280  1\n",
       " 3        256.0             volkswagen gas       std        two          hatchback  fwd          front           94.5       165.7  64.0  51.4   2221        ohc         four             109         mpfi        3.19 3.40   8.5               90         5500     9.791667     29          9980   1\n",
       "\n",
       "[164 rows x 1 columns]"
      ]
     },
     "execution_count": 168,
     "metadata": {},
     "output_type": "execute_result"
    }
   ],
   "source": [
    "# Summarize the categorical data is by using the value_counts() function.\n",
    "df_eda.value_counts().to_frame()"
   ]
  },
  {
   "cell_type": "code",
   "execution_count": 169,
   "id": "167f67e9",
   "metadata": {},
   "outputs": [
    {
     "data": {
      "text/html": [
       "<div>\n",
       "<style scoped>\n",
       "    .dataframe tbody tr th:only-of-type {\n",
       "        vertical-align: middle;\n",
       "    }\n",
       "\n",
       "    .dataframe tbody tr th {\n",
       "        vertical-align: top;\n",
       "    }\n",
       "\n",
       "    .dataframe thead th {\n",
       "        text-align: right;\n",
       "    }\n",
       "</style>\n",
       "<table border=\"1\" class=\"dataframe\">\n",
       "  <thead>\n",
       "    <tr style=\"text-align: right;\">\n",
       "      <th></th>\n",
       "      <th>drive-wheels</th>\n",
       "    </tr>\n",
       "  </thead>\n",
       "  <tbody>\n",
       "    <tr>\n",
       "      <th>fwd</th>\n",
       "      <td>118</td>\n",
       "    </tr>\n",
       "    <tr>\n",
       "      <th>rwd</th>\n",
       "      <td>75</td>\n",
       "    </tr>\n",
       "    <tr>\n",
       "      <th>4wd</th>\n",
       "      <td>8</td>\n",
       "    </tr>\n",
       "  </tbody>\n",
       "</table>\n",
       "</div>"
      ],
      "text/plain": [
       "     drive-wheels\n",
       "fwd           118\n",
       "rwd            75\n",
       "4wd             8"
      ]
     },
     "execution_count": 169,
     "metadata": {},
     "output_type": "execute_result"
    }
   ],
   "source": [
    "drive_wheels_counts=df_eda['drive-wheels'].value_counts().to_frame()\n",
    "drive_wheels_counts"
   ]
  },
  {
   "cell_type": "code",
   "execution_count": 170,
   "id": "ce211cc6",
   "metadata": {
    "scrolled": false
   },
   "outputs": [
    {
     "data": {
      "text/html": [
       "<div>\n",
       "<style scoped>\n",
       "    .dataframe tbody tr th:only-of-type {\n",
       "        vertical-align: middle;\n",
       "    }\n",
       "\n",
       "    .dataframe tbody tr th {\n",
       "        vertical-align: top;\n",
       "    }\n",
       "\n",
       "    .dataframe thead th {\n",
       "        text-align: right;\n",
       "    }\n",
       "</style>\n",
       "<table border=\"1\" class=\"dataframe\">\n",
       "  <thead>\n",
       "    <tr style=\"text-align: right;\">\n",
       "      <th></th>\n",
       "      <th>value_counts</th>\n",
       "    </tr>\n",
       "  </thead>\n",
       "  <tbody>\n",
       "    <tr>\n",
       "      <th>fwd</th>\n",
       "      <td>118</td>\n",
       "    </tr>\n",
       "    <tr>\n",
       "      <th>rwd</th>\n",
       "      <td>75</td>\n",
       "    </tr>\n",
       "    <tr>\n",
       "      <th>4wd</th>\n",
       "      <td>8</td>\n",
       "    </tr>\n",
       "  </tbody>\n",
       "</table>\n",
       "</div>"
      ],
      "text/plain": [
       "     value_counts\n",
       "fwd           118\n",
       "rwd            75\n",
       "4wd             8"
      ]
     },
     "execution_count": 170,
     "metadata": {},
     "output_type": "execute_result"
    }
   ],
   "source": [
    "drive_wheels_counts.rename(columns={'drive-wheels':'value_counts'},inplace=True)\n",
    "drive_wheels_counts"
   ]
  },
  {
   "cell_type": "code",
   "execution_count": 171,
   "id": "4e5da27c",
   "metadata": {},
   "outputs": [
    {
     "data": {
      "text/plain": [
       "<Axes: >"
      ]
     },
     "execution_count": 171,
     "metadata": {},
     "output_type": "execute_result"
    },
    {
     "data": {
      "image/png": "[encoded data removed]",
      "text/plain": [
       "<Figure size 432x288 with 1 Axes>"
      ]
     },
     "metadata": {
      "needs_background": "light"
     },
     "output_type": "display_data"
    }
   ],
   "source": [
    "df_eda['drive-wheels'].value_counts().plot.bar()"
   ]
  },
  {
   "cell_type": "code",
   "execution_count": 172,
   "id": "bb471e72",
   "metadata": {
    "scrolled": true
   },
   "outputs": [
    {
     "data": {
      "text/plain": [
       "(201, 26)"
      ]
     },
     "execution_count": 172,
     "metadata": {},
     "output_type": "execute_result"
    }
   ],
   "source": [
    "df['drive-wheels'].isna().sum()\n",
    "df['drive-wheels'].unique()\n",
    "df['drive-wheels'].shape\n",
    "df.shape"
   ]
  },
  {
   "cell_type": "markdown",
   "id": "35a36ed0",
   "metadata": {},
   "source": []
  },
  {
   "cell_type": "markdown",
   "id": "bde8a712",
   "metadata": {},
   "source": [
    "# BOX PLOTS"
   ]
  },
  {
   "cell_type": "markdown",
   "id": "14fbb2a0",
   "metadata": {},
   "source": [
    "Box plots are a great way to visualize the numeric data, since you can visualize the various distributions of the data. The main features that the box plot shows:\n",
    "\n",
    "Median:\n",
    "Represents where the middle point is.\n",
    "\n",
    "Quartiles:\n",
    "UPPER QUARTILE- Shows where the 75th percentile is,\n",
    "LOWER QUARTILE- Shows where the 25th percentile is,\n",
    "Inter Quartile Range (IQR)- The data between the UPPER and LOWER Quartiles\n",
    "\n",
    "Extremes:\n",
    "LOWER EXTREME- These are calculated as 1.5 times the IQR or Inter Quartile Range, below the 25th percentile.\n",
    "UPPER EXTREME- These are calculated as 1.5 times the IQR or Inter Quartile Range, above the 75th percentile.\n",
    "\n",
    "Outliers:\n",
    "Box Plots also display outliers as individual dots that occur outside the upper and lower extremes.\n",
    "With Box Plots you can easily spot outliers, and also see the Distribution and Skewness (Measure of the assymetry of a probability distribution or a dataset) of the data."
   ]
  },
  {
   "cell_type": "code",
   "execution_count": 173,
   "id": "337594e4",
   "metadata": {},
   "outputs": [],
   "source": [
    "import seaborn as sns"
   ]
  },
  {
   "cell_type": "code",
   "execution_count": 174,
   "id": "74d2b75c",
   "metadata": {},
   "outputs": [],
   "source": [
    "x = df_eda[\"drive-wheels\"]\n",
    "y = df_eda[\"price\"]"
   ]
  },
  {
   "cell_type": "code",
   "execution_count": 175,
   "id": "862931e8",
   "metadata": {
    "scrolled": true
   },
   "outputs": [
    {
     "data": {
      "text/plain": [
       "<Axes: xlabel='drive-wheels', ylabel='price'>"
      ]
     },
     "execution_count": 175,
     "metadata": {},
     "output_type": "execute_result"
    },
    {
     "data": {
      "image/png": "[encoded data removed]",
      "text/plain": [
       "<Figure size 432x288 with 1 Axes>"
      ]
     },
     "metadata": {
      "needs_background": "light"
     },
     "output_type": "display_data"
    }
   ],
   "source": [
    "sns.boxplot(x='drive-wheels', y='price', data=df_eda)"
   ]
  },
  {
   "cell_type": "markdown",
   "id": "d97c3373",
   "metadata": {},
   "source": [
    " We can see that the distribution of\n",
    "price between the rear wheel drive, and the other categories are distinct. But the price for front wheel drive and four wheel drive are almost\n",
    "indistinguishable"
   ]
  },
  {
   "cell_type": "markdown",
   "id": "5d420e35",
   "metadata": {},
   "source": [
    "# Scatter Plot"
   ]
  },
  {
   "cell_type": "markdown",
   "id": "a79ef509",
   "metadata": {},
   "source": [
    "This plot shows the relationship between two variables. The predictor variable, is the variable that you are using to predict an outcome. In this case our predictor variable is the engine size. The target variable is the variable that you are trying to predict. In a scatter plot, we typically set\n",
    "the predictor variable on the x-axis or horizontal axis, and we set the target variable on the y-axis or vertical axis."
   ]
  },
  {
   "cell_type": "markdown",
   "id": "0cf631a5",
   "metadata": {},
   "source": [
    "Often times we tend to see continuous variables in our data. These data points are numbers contained in some range. For example, in our data set price and engine size are continuous variables.\n",
    "In this case, our target variable is the price. Since this would be the outcome. "
   ]
  },
  {
   "cell_type": "code",
   "execution_count": 176,
   "id": "7b34a253",
   "metadata": {},
   "outputs": [
    {
     "data": {
      "text/html": [
       "<div>\n",
       "<style scoped>\n",
       "    .dataframe tbody tr th:only-of-type {\n",
       "        vertical-align: middle;\n",
       "    }\n",
       "\n",
       "    .dataframe tbody tr th {\n",
       "        vertical-align: top;\n",
       "    }\n",
       "\n",
       "    .dataframe thead th {\n",
       "        text-align: right;\n",
       "    }\n",
       "</style>\n",
       "<table border=\"1\" class=\"dataframe\">\n",
       "  <thead>\n",
       "    <tr style=\"text-align: right;\">\n",
       "      <th></th>\n",
       "      <th>price</th>\n",
       "      <th>engine-size</th>\n",
       "    </tr>\n",
       "  </thead>\n",
       "  <tbody>\n",
       "    <tr>\n",
       "      <th>0</th>\n",
       "      <td>13495</td>\n",
       "      <td>130</td>\n",
       "    </tr>\n",
       "    <tr>\n",
       "      <th>1</th>\n",
       "      <td>16500</td>\n",
       "      <td>130</td>\n",
       "    </tr>\n",
       "    <tr>\n",
       "      <th>2</th>\n",
       "      <td>16500</td>\n",
       "      <td>152</td>\n",
       "    </tr>\n",
       "    <tr>\n",
       "      <th>3</th>\n",
       "      <td>13950</td>\n",
       "      <td>109</td>\n",
       "    </tr>\n",
       "    <tr>\n",
       "      <th>4</th>\n",
       "      <td>17450</td>\n",
       "      <td>136</td>\n",
       "    </tr>\n",
       "    <tr>\n",
       "      <th>...</th>\n",
       "      <td>...</td>\n",
       "      <td>...</td>\n",
       "    </tr>\n",
       "    <tr>\n",
       "      <th>200</th>\n",
       "      <td>16845</td>\n",
       "      <td>141</td>\n",
       "    </tr>\n",
       "    <tr>\n",
       "      <th>201</th>\n",
       "      <td>19045</td>\n",
       "      <td>141</td>\n",
       "    </tr>\n",
       "    <tr>\n",
       "      <th>202</th>\n",
       "      <td>21485</td>\n",
       "      <td>173</td>\n",
       "    </tr>\n",
       "    <tr>\n",
       "      <th>203</th>\n",
       "      <td>22470</td>\n",
       "      <td>145</td>\n",
       "    </tr>\n",
       "    <tr>\n",
       "      <th>204</th>\n",
       "      <td>22625</td>\n",
       "      <td>141</td>\n",
       "    </tr>\n",
       "  </tbody>\n",
       "</table>\n",
       "<p>201 rows × 2 columns</p>\n",
       "</div>"
      ],
      "text/plain": [
       "     price  engine-size\n",
       "0    13495          130\n",
       "1    16500          130\n",
       "2    16500          152\n",
       "3    13950          109\n",
       "4    17450          136\n",
       "..     ...          ...\n",
       "200  16845          141\n",
       "201  19045          141\n",
       "202  21485          173\n",
       "203  22470          145\n",
       "204  22625          141\n",
       "\n",
       "[201 rows x 2 columns]"
      ]
     },
     "execution_count": 176,
     "metadata": {},
     "output_type": "execute_result"
    }
   ],
   "source": [
    "df_eda.loc[:,['price','engine-size']]"
   ]
  },
  {
   "cell_type": "code",
   "execution_count": 177,
   "id": "7ab1b421",
   "metadata": {},
   "outputs": [],
   "source": [
    "import matplotlib.pyplot as plt"
   ]
  },
  {
   "cell_type": "code",
   "execution_count": 178,
   "id": "761f346f",
   "metadata": {
    "scrolled": true
   },
   "outputs": [
    {
     "data": {
      "image/png": "[encoded data removed]",
      "text/plain": [
       "<Figure size 432x288 with 1 Axes>"
      ]
     },
     "metadata": {
      "needs_background": "light"
     },
     "output_type": "display_data"
    }
   ],
   "source": [
    "x = df_eda['engine-size']\n",
    "y = df_eda['price']\n",
    "plt.scatter(x, y)\n",
    "plt.ylim(0,)\n",
    "plt.xlim(0,)\n",
    "\n",
    "plt.xlabel('Engine size')\n",
    "plt.ylabel('Price')\n",
    "plt.show()"
   ]
  },
  {
   "cell_type": "markdown",
   "id": "3ce70597",
   "metadata": {},
   "source": [
    "From the scatter plot,\n",
    "we see that as the engine size goes up, the price of the car also goes up. This is giving us an initial\n",
    "indication that there is a positive linear relationship between\n",
    "these two variables."
   ]
  },
  {
   "cell_type": "markdown",
   "id": "810c722e",
   "metadata": {},
   "source": [
    "."
   ]
  },
  {
   "cell_type": "markdown",
   "id": "1b8c06bb",
   "metadata": {},
   "source": [
    "# Groupby()\n",
    "### To group the categorical variables"
   ]
  },
  {
   "cell_type": "code",
   "execution_count": 179,
   "id": "4365ff2c",
   "metadata": {},
   "outputs": [],
   "source": [
    "df_test = df_eda[[\"drive-wheels\",\"body-style\",\"price\"]].copy()"
   ]
  },
  {
   "cell_type": "code",
   "execution_count": 180,
   "id": "a4e97c95",
   "metadata": {},
   "outputs": [
    {
     "data": {
      "text/html": [
       "<div>\n",
       "<style scoped>\n",
       "    .dataframe tbody tr th:only-of-type {\n",
       "        vertical-align: middle;\n",
       "    }\n",
       "\n",
       "    .dataframe tbody tr th {\n",
       "        vertical-align: top;\n",
       "    }\n",
       "\n",
       "    .dataframe thead th {\n",
       "        text-align: right;\n",
       "    }\n",
       "</style>\n",
       "<table border=\"1\" class=\"dataframe\">\n",
       "  <thead>\n",
       "    <tr style=\"text-align: right;\">\n",
       "      <th></th>\n",
       "      <th>drive-wheels</th>\n",
       "      <th>body-style</th>\n",
       "      <th>price</th>\n",
       "    </tr>\n",
       "  </thead>\n",
       "  <tbody>\n",
       "    <tr>\n",
       "      <th>0</th>\n",
       "      <td>4wd</td>\n",
       "      <td>hatchback</td>\n",
       "      <td>7603.000000</td>\n",
       "    </tr>\n",
       "    <tr>\n",
       "      <th>1</th>\n",
       "      <td>4wd</td>\n",
       "      <td>sedan</td>\n",
       "      <td>12647.333333</td>\n",
       "    </tr>\n",
       "    <tr>\n",
       "      <th>2</th>\n",
       "      <td>4wd</td>\n",
       "      <td>wagon</td>\n",
       "      <td>9095.750000</td>\n",
       "    </tr>\n",
       "    <tr>\n",
       "      <th>3</th>\n",
       "      <td>fwd</td>\n",
       "      <td>convertible</td>\n",
       "      <td>11595.000000</td>\n",
       "    </tr>\n",
       "    <tr>\n",
       "      <th>4</th>\n",
       "      <td>fwd</td>\n",
       "      <td>hardtop</td>\n",
       "      <td>8249.000000</td>\n",
       "    </tr>\n",
       "    <tr>\n",
       "      <th>5</th>\n",
       "      <td>fwd</td>\n",
       "      <td>hatchback</td>\n",
       "      <td>8396.387755</td>\n",
       "    </tr>\n",
       "    <tr>\n",
       "      <th>6</th>\n",
       "      <td>fwd</td>\n",
       "      <td>sedan</td>\n",
       "      <td>9811.800000</td>\n",
       "    </tr>\n",
       "    <tr>\n",
       "      <th>7</th>\n",
       "      <td>fwd</td>\n",
       "      <td>wagon</td>\n",
       "      <td>9997.333333</td>\n",
       "    </tr>\n",
       "    <tr>\n",
       "      <th>8</th>\n",
       "      <td>rwd</td>\n",
       "      <td>convertible</td>\n",
       "      <td>23949.600000</td>\n",
       "    </tr>\n",
       "    <tr>\n",
       "      <th>9</th>\n",
       "      <td>rwd</td>\n",
       "      <td>hardtop</td>\n",
       "      <td>24202.714286</td>\n",
       "    </tr>\n",
       "    <tr>\n",
       "      <th>10</th>\n",
       "      <td>rwd</td>\n",
       "      <td>hatchback</td>\n",
       "      <td>14337.777778</td>\n",
       "    </tr>\n",
       "    <tr>\n",
       "      <th>11</th>\n",
       "      <td>rwd</td>\n",
       "      <td>sedan</td>\n",
       "      <td>21711.833333</td>\n",
       "    </tr>\n",
       "    <tr>\n",
       "      <th>12</th>\n",
       "      <td>rwd</td>\n",
       "      <td>wagon</td>\n",
       "      <td>16994.222222</td>\n",
       "    </tr>\n",
       "  </tbody>\n",
       "</table>\n",
       "</div>"
      ],
      "text/plain": [
       "   drive-wheels   body-style         price\n",
       "0           4wd    hatchback   7603.000000\n",
       "1           4wd        sedan  12647.333333\n",
       "2           4wd        wagon   9095.750000\n",
       "3           fwd  convertible  11595.000000\n",
       "4           fwd      hardtop   8249.000000\n",
       "5           fwd    hatchback   8396.387755\n",
       "6           fwd        sedan   9811.800000\n",
       "7           fwd        wagon   9997.333333\n",
       "8           rwd  convertible  23949.600000\n",
       "9           rwd      hardtop  24202.714286\n",
       "10          rwd    hatchback  14337.777778\n",
       "11          rwd        sedan  21711.833333\n",
       "12          rwd        wagon  16994.222222"
      ]
     },
     "execution_count": 180,
     "metadata": {},
     "output_type": "execute_result"
    }
   ],
   "source": [
    "df_grp = df_test.groupby(['drive-wheels','body-style'], as_index=False).mean()\n",
    "df_grp  # as_index=False give us output with numerical index rather than drive-wheels and body-style as index"
   ]
  },
  {
   "cell_type": "markdown",
   "id": "3ffbd2aa",
   "metadata": {},
   "source": [
    "# Pivot()"
   ]
  },
  {
   "cell_type": "markdown",
   "id": "6714a7d0",
   "metadata": {},
   "source": [
    "One variable displayed along the columns and other variable displayed along the rows, just like excel spreadsheet."
   ]
  },
  {
   "cell_type": "code",
   "execution_count": 181,
   "id": "3a8f4372",
   "metadata": {},
   "outputs": [],
   "source": [
    "df_pivot = df_grp.pivot(index='drive-wheels',columns='body-style')"
   ]
  },
  {
   "cell_type": "code",
   "execution_count": 182,
   "id": "a2914ac9",
   "metadata": {},
   "outputs": [
    {
     "data": {
      "text/html": [
       "<div>\n",
       "<style scoped>\n",
       "    .dataframe tbody tr th:only-of-type {\n",
       "        vertical-align: middle;\n",
       "    }\n",
       "\n",
       "    .dataframe tbody tr th {\n",
       "        vertical-align: top;\n",
       "    }\n",
       "\n",
       "    .dataframe thead tr th {\n",
       "        text-align: left;\n",
       "    }\n",
       "\n",
       "    .dataframe thead tr:last-of-type th {\n",
       "        text-align: right;\n",
       "    }\n",
       "</style>\n",
       "<table border=\"1\" class=\"dataframe\">\n",
       "  <thead>\n",
       "    <tr>\n",
       "      <th></th>\n",
       "      <th colspan=\"5\" halign=\"left\">price</th>\n",
       "    </tr>\n",
       "    <tr>\n",
       "      <th>body-style</th>\n",
       "      <th>convertible</th>\n",
       "      <th>hardtop</th>\n",
       "      <th>hatchback</th>\n",
       "      <th>sedan</th>\n",
       "      <th>wagon</th>\n",
       "    </tr>\n",
       "    <tr>\n",
       "      <th>drive-wheels</th>\n",
       "      <th></th>\n",
       "      <th></th>\n",
       "      <th></th>\n",
       "      <th></th>\n",
       "      <th></th>\n",
       "    </tr>\n",
       "  </thead>\n",
       "  <tbody>\n",
       "    <tr>\n",
       "      <th>4wd</th>\n",
       "      <td>NaN</td>\n",
       "      <td>NaN</td>\n",
       "      <td>7603.000000</td>\n",
       "      <td>12647.333333</td>\n",
       "      <td>9095.750000</td>\n",
       "    </tr>\n",
       "    <tr>\n",
       "      <th>fwd</th>\n",
       "      <td>11595.0</td>\n",
       "      <td>8249.000000</td>\n",
       "      <td>8396.387755</td>\n",
       "      <td>9811.800000</td>\n",
       "      <td>9997.333333</td>\n",
       "    </tr>\n",
       "    <tr>\n",
       "      <th>rwd</th>\n",
       "      <td>23949.6</td>\n",
       "      <td>24202.714286</td>\n",
       "      <td>14337.777778</td>\n",
       "      <td>21711.833333</td>\n",
       "      <td>16994.222222</td>\n",
       "    </tr>\n",
       "  </tbody>\n",
       "</table>\n",
       "</div>"
      ],
      "text/plain": [
       "                   price                                            \\\n",
       "body-style   convertible       hardtop     hatchback         sedan   \n",
       "drive-wheels                                                         \n",
       "4wd                  NaN           NaN   7603.000000  12647.333333   \n",
       "fwd              11595.0   8249.000000   8396.387755   9811.800000   \n",
       "rwd              23949.6  24202.714286  14337.777778  21711.833333   \n",
       "\n",
       "                            \n",
       "body-style           wagon  \n",
       "drive-wheels                \n",
       "4wd            9095.750000  \n",
       "fwd            9997.333333  \n",
       "rwd           16994.222222  "
      ]
     },
     "execution_count": 182,
     "metadata": {},
     "output_type": "execute_result"
    }
   ],
   "source": [
    "df_pivot"
   ]
  },
  {
   "cell_type": "code",
   "execution_count": 183,
   "id": "35eead66",
   "metadata": {},
   "outputs": [
    {
     "data": {
      "text/html": [
       "<div>\n",
       "<style scoped>\n",
       "    .dataframe tbody tr th:only-of-type {\n",
       "        vertical-align: middle;\n",
       "    }\n",
       "\n",
       "    .dataframe tbody tr th {\n",
       "        vertical-align: top;\n",
       "    }\n",
       "\n",
       "    .dataframe thead th {\n",
       "        text-align: right;\n",
       "    }\n",
       "</style>\n",
       "<table border=\"1\" class=\"dataframe\">\n",
       "  <thead>\n",
       "    <tr style=\"text-align: right;\">\n",
       "      <th></th>\n",
       "      <th>symboling</th>\n",
       "      <th>normalized-losses</th>\n",
       "      <th>make</th>\n",
       "      <th>fuel-type</th>\n",
       "      <th>aspiration</th>\n",
       "      <th>num-of-doors</th>\n",
       "      <th>body-style</th>\n",
       "      <th>drive-wheels</th>\n",
       "      <th>engine-location</th>\n",
       "      <th>wheel-base</th>\n",
       "      <th>...</th>\n",
       "      <th>engine-size</th>\n",
       "      <th>fuel-system</th>\n",
       "      <th>bore</th>\n",
       "      <th>stroke</th>\n",
       "      <th>compression-ratio</th>\n",
       "      <th>horsepower</th>\n",
       "      <th>peak-rpm</th>\n",
       "      <th>city-L/100km</th>\n",
       "      <th>highway-mpg</th>\n",
       "      <th>price</th>\n",
       "    </tr>\n",
       "  </thead>\n",
       "  <tbody>\n",
       "  </tbody>\n",
       "</table>\n",
       "<p>0 rows × 26 columns</p>\n",
       "</div>"
      ],
      "text/plain": [
       "Empty DataFrame\n",
       "Columns: [symboling, normalized-losses, make, fuel-type, aspiration, num-of-doors, body-style, drive-wheels, engine-location, wheel-base, length, width, height, curb-weight, engine-type, num-of-cylinders, engine-size, fuel-system, bore, stroke, compression-ratio, horsepower, peak-rpm, city-L/100km, highway-mpg, price]\n",
       "Index: []\n",
       "\n",
       "[0 rows x 26 columns]"
      ]
     },
     "execution_count": 183,
     "metadata": {},
     "output_type": "execute_result"
    }
   ],
   "source": [
    "df_eda.loc[(df_eda['drive-wheels']=='convertible') &(df_eda['price'].isna())]"
   ]
  },
  {
   "cell_type": "code",
   "execution_count": 184,
   "id": "993e6084",
   "metadata": {},
   "outputs": [
    {
     "data": {
      "image/png": "[encoded data removed]",
      "text/plain": [
       "<Figure size 432x288 with 2 Axes>"
      ]
     },
     "metadata": {
      "needs_background": "light"
     },
     "output_type": "display_data"
    }
   ],
   "source": [
    "plt.pcolor(df_pivot, cmap='RdBu')  # Here pcolor() is pseudocolor\n",
    "plt.colorbar()\n",
    "plt.show()"
   ]
  },
  {
   "cell_type": "markdown",
   "id": "ccfe4f76",
   "metadata": {},
   "source": [
    "."
   ]
  },
  {
   "cell_type": "markdown",
   "id": "c8557a8e",
   "metadata": {},
   "source": [
    "# Correlation"
   ]
  },
  {
   "cell_type": "markdown",
   "id": "4d91e037",
   "metadata": {},
   "source": [
    " Correlation is a statistical metric for measuring to what extent different variables are interdependent. In other words, when we look at two variables over time, if one variable changes how does this affect change in the other variable?"
   ]
  },
  {
   "cell_type": "markdown",
   "id": "b069ab38",
   "metadata": {},
   "source": [
    "It is important to know that correlation doesn't imply causation. In fact, we can say that umbrella and rain are correlated but we would not have enough information to say whether the umbrella caused the rain or the rain caused the umbrella."
   ]
  },
  {
   "cell_type": "raw",
   "id": "eac8a45a",
   "metadata": {},
   "source": [
    "Let's look at the correlation between engine size and price. This time we'll visualize these two variables using a scatter plot and an added linear line called a regression line, which indicates the relationship between the two variables."
   ]
  },
  {
   "cell_type": "markdown",
   "id": "7206903a",
   "metadata": {},
   "source": [
    "We can use seaborn.regplot to create the scatter plot."
   ]
  },
  {
   "cell_type": "markdown",
   "id": "d41806bd",
   "metadata": {},
   "source": [
    "The main goal of this plot is to see whether the engine size has any impact on the price."
   ]
  },
  {
   "cell_type": "code",
   "execution_count": 185,
   "id": "dc1fb20b",
   "metadata": {},
   "outputs": [],
   "source": [
    "df_corr = df[['price','engine-size','highway-mpg','peak-rpm']].copy()"
   ]
  },
  {
   "cell_type": "code",
   "execution_count": 186,
   "id": "b9bc7d37",
   "metadata": {
    "scrolled": true
   },
   "outputs": [
    {
     "data": {
      "text/plain": [
       "(0.0, 53169.76774047359)"
      ]
     },
     "execution_count": 186,
     "metadata": {},
     "output_type": "execute_result"
    },
    {
     "data": {
      "image/png": "[encoded data removed]",
      "text/plain": [
       "<Figure size 432x288 with 1 Axes>"
      ]
     },
     "metadata": {
      "needs_background": "light"
     },
     "output_type": "display_data"
    }
   ],
   "source": [
    "sns.regplot(x='engine-size', y='price', data=df_corr)\n",
    "plt.title('Engine Size Vs Price')\n",
    "plt.ylim(0,)"
   ]
  },
  {
   "cell_type": "markdown",
   "id": "610a1fec",
   "metadata": {},
   "source": [
    "As you can see that the straight line through the data points is very steep which shows that there's a Positive Linear Relationship between the two variables. With increase in values of engine size, values of price go up as well and the slope of the line is positive. So there is a positive correlation between engine size and price.\n",
    "\n",
    "And this line is called as regression line."
   ]
  },
  {
   "cell_type": "raw",
   "id": "6b16218d",
   "metadata": {},
   "source": [
    "highway-mpg vs price"
   ]
  },
  {
   "cell_type": "code",
   "execution_count": 187,
   "id": "9948d5cc",
   "metadata": {},
   "outputs": [],
   "source": [
    "df_corr['peak-rpm'].loc[df_corr['peak-rpm']=='?']\n",
    "df_corr['peak-rpm'].replace('?',np.nan,inplace=True)"
   ]
  },
  {
   "cell_type": "code",
   "execution_count": 188,
   "id": "5cb7b71a",
   "metadata": {},
   "outputs": [
    {
     "data": {
      "text/plain": [
       "Series([], Name: peak-rpm, dtype: object)"
      ]
     },
     "execution_count": 188,
     "metadata": {},
     "output_type": "execute_result"
    }
   ],
   "source": [
    "df_corr['peak-rpm'].loc[df_corr['peak-rpm']=='?']"
   ]
  },
  {
   "cell_type": "code",
   "execution_count": 189,
   "id": "75dd2a02",
   "metadata": {},
   "outputs": [],
   "source": [
    "df_corr['peak-rpm']=pd.to_numeric"
   ]
  },
  {
   "cell_type": "code",
   "execution_count": 190,
   "id": "0066bed0",
   "metadata": {},
   "outputs": [
    {
     "data": {
      "text/plain": [
       "(0.0, 48177.63761263484)"
      ]
     },
     "execution_count": 190,
     "metadata": {},
     "output_type": "execute_result"
    },
    {
     "data": {
      "image/png": "[encoded data removed]",
      "text/plain": [
       "<Figure size 432x288 with 1 Axes>"
      ]
     },
     "metadata": {
      "needs_background": "light"
     },
     "output_type": "display_data"
    }
   ],
   "source": [
    "sns.regplot(x='highway-mpg', y='price', data=df_corr)\n",
    "plt.title('Highway-mpg Vs Price')\n",
    "plt.ylim(0,)"
   ]
  },
  {
   "cell_type": "markdown",
   "id": "1f98517a",
   "metadata": {},
   "source": [
    "As we can see there is a Negative Linear Relationship between the highway-mpg and price feature."
   ]
  },
  {
   "cell_type": "markdown",
   "id": "c6a66644",
   "metadata": {},
   "source": [
    "As highway-mpg increasing price decreasing"
   ]
  },
  {
   "cell_type": "markdown",
   "id": "eaa7c397",
   "metadata": {},
   "source": [
    "There can be many reasons such as:\n",
    "Engine Power and Performance- Higher-priced cars often come with more powerful engines that provide better acceleration and performance. These engines typically consume more fuel, resulting in lower fuel efficiency.\n",
    "\n",
    "Vehicle Size and Weight- Luxury cars or larger vehicles tend to have more features and amenities, which can contribute to their higher price tag. However, these vehicles also tend to be heavier and less aerodynamic, leading to increased fuel consumption and lower fuel efficiency."
   ]
  },
  {
   "cell_type": "raw",
   "id": "146edec4",
   "metadata": {},
   "source": [
    "peak-rpm vs price"
   ]
  },
  {
   "cell_type": "code",
   "execution_count": 191,
   "id": "463047d4",
   "metadata": {},
   "outputs": [],
   "source": [
    "df_corr['peak-rpm']=df['peak-rpm'].copy()"
   ]
  },
  {
   "cell_type": "code",
   "execution_count": 192,
   "id": "afa0b6dd",
   "metadata": {
    "scrolled": true
   },
   "outputs": [],
   "source": [
    "# Convert 'peak-rpm' column to numeric type\n",
    "df_corr['peak-rpm']=pd.to_numeric(df['peak-rpm'], errors='coerce')"
   ]
  },
  {
   "cell_type": "markdown",
   "id": "d28d34ad",
   "metadata": {},
   "source": [
    " the pd.to_numeric() function is used to convert the 'peak-rpm' column to a numeric data type. The errors='coerce' parameter ensures that any non-numeric values are converted to NaN. "
   ]
  },
  {
   "cell_type": "code",
   "execution_count": 193,
   "id": "665c1b72",
   "metadata": {},
   "outputs": [],
   "source": [
    "# Calculate the mean of 'peak-rpm' column and replace NaN values\n",
    "mean_peak_rpm=df_corr['peak-rpm'].mean()\n",
    "df_corr['peak-rpm'].fillna(mean_peak_rpm, inplace=True)\n",
    "df_corr['peak-rpm']=df_corr['peak-rpm'].astype(int)"
   ]
  },
  {
   "cell_type": "code",
   "execution_count": null,
   "id": "e0151b02",
   "metadata": {},
   "outputs": [],
   "source": []
  },
  {
   "cell_type": "code",
   "execution_count": null,
   "id": "c00bf6f2",
   "metadata": {},
   "outputs": [],
   "source": []
  },
  {
   "cell_type": "code",
   "execution_count": 194,
   "id": "e7c7842e",
   "metadata": {},
   "outputs": [
    {
     "data": {
      "text/plain": [
       "Text(0.5, 1.0, 'Weak Correlation between Peak rpm and Price')"
      ]
     },
     "execution_count": 194,
     "metadata": {},
     "output_type": "execute_result"
    },
    {
     "data": {
      "image/png": "[encoded data removed]",
      "text/plain": [
       "<Figure size 1080x720 with 1 Axes>"
      ]
     },
     "metadata": {
      "needs_background": "light"
     },
     "output_type": "display_data"
    }
   ],
   "source": [
    "plt.figure(figsize=(15,10))\n",
    "sns.regplot(x=df_corr['peak-rpm'], y=df_corr['price'])\n",
    "plt.title('Weak Correlation between Peak rpm and Price')\n"
   ]
  },
  {
   "cell_type": "code",
   "execution_count": null,
   "id": "00ede591",
   "metadata": {},
   "outputs": [],
   "source": []
  },
  {
   "cell_type": "markdown",
   "id": "820c435b",
   "metadata": {},
   "source": [
    "# Pearson Correlation"
   ]
  },
  {
   "cell_type": "markdown",
   "id": "5902ac6e",
   "metadata": {},
   "source": [
    "One way to measure the STRENGTH of the correlation between continuous numerical variable is by using a method called Pearson correlation. "
   ]
  },
  {
   "cell_type": "markdown",
   "id": "d8c1cbf1",
   "metadata": {},
   "source": [
    "Pearson correlation method will give you two values: the Correlation Coefficient and the P-value.\n",
    "- Correlation Coefficient:  +1(+),  0(No Correlation),  -1(-)\n",
    "- P-Value: .001(Strong certainty about CC),  .001-.05(Moderate certainty),  .05-.1(Weak certainty), >.1(No certainty at all)"
   ]
  },
  {
   "cell_type": "markdown",
   "id": "57bdba3a",
   "metadata": {},
   "source": [
    "Correlation Coefficient:\n",
    "A value close to 1 implies a large positive correlation, while a value close to negative 1 implies a large negative correlation, and a value close to zero implies no correlation between the variables."
   ]
  },
  {
   "cell_type": "markdown",
   "id": "e687089c",
   "metadata": {},
   "source": [
    "P-Value: The P-Value will tell us how certain we are about the correlation that we calculated.\n",
    "\n",
    "A value less than.001 gives us a strong certainty about the correlation coefficient that we calculated. A value between.001 and.05 gives us moderate certainty. A value between.05 and.1 will give us a weak certainty. And a P-value larger than.1 will give us no certainty of correlation at all."
   ]
  },
  {
   "cell_type": "markdown",
   "id": "d6415e01",
   "metadata": {},
   "source": [
    " We can say that there is a strong correlation when the correlation coefficient is close to 1 or negative 1, and the P-value is less than.001."
   ]
  },
  {
   "cell_type": "code",
   "execution_count": 195,
   "id": "23872ff6",
   "metadata": {},
   "outputs": [],
   "source": [
    "from scipy import stats"
   ]
  },
  {
   "cell_type": "code",
   "execution_count": 196,
   "id": "d76cf47a",
   "metadata": {},
   "outputs": [],
   "source": [
    "df_corr['horsepower'] = pd.to_numeric(df['horsepower'], errors='coerce')\n",
    "mean_horsepower = df_corr['horsepower'].mean()\n",
    "df_corr['horsepower'].fillna(mean_horsepower, inplace=True)"
   ]
  },
  {
   "cell_type": "code",
   "execution_count": 197,
   "id": "3cbcfc95",
   "metadata": {},
   "outputs": [],
   "source": [
    "pearsons_coef, p_value= stats.pearsonr(df_corr['horsepower'], df_corr['price'])"
   ]
  },
  {
   "cell_type": "code",
   "execution_count": 198,
   "id": "6c543b14",
   "metadata": {},
   "outputs": [
    {
     "data": {
      "text/plain": [
       "(0.8096811975632288, 6.058444649710116e-48)"
      ]
     },
     "execution_count": 198,
     "metadata": {},
     "output_type": "execute_result"
    }
   ],
   "source": [
    "pearsons_coef, p_value"
   ]
  },
  {
   "cell_type": "code",
   "execution_count": 199,
   "id": "2cfec7a6",
   "metadata": {},
   "outputs": [],
   "source": [
    "# 0.0000000000000000000000000000000000000000000000006058444649710002\n",
    "# \"e-48\" negative exponentdenotes an extremely small value, close to zero, in scientific notation"
   ]
  },
  {
   "cell_type": "markdown",
   "id": "03fd7e6e",
   "metadata": {},
   "source": [
    "So here we can see that the Pearsons Coefficient is closer to 1 and P-Value is closer to zero,\n",
    "that means there is a Strong Positive Correlation and Certainty of the Correlation Coefficient."
   ]
  },
  {
   "cell_type": "code",
   "execution_count": null,
   "id": "e04fcb66",
   "metadata": {},
   "outputs": [],
   "source": []
  },
  {
   "cell_type": "code",
   "execution_count": 200,
   "id": "1b1b3465",
   "metadata": {},
   "outputs": [
    {
     "data": {
      "text/plain": [
       "<Axes: xlabel='horsepower', ylabel='price'>"
      ]
     },
     "execution_count": 200,
     "metadata": {},
     "output_type": "execute_result"
    },
    {
     "data": {
      "image/png": "[encoded data removed]",
      "text/plain": [
       "<Figure size 432x288 with 1 Axes>"
      ]
     },
     "metadata": {
      "needs_background": "light"
     },
     "output_type": "display_data"
    }
   ],
   "source": [
    "sns.regplot(x=df_corr['horsepower'], y=df_corr['price'])"
   ]
  },
  {
   "cell_type": "code",
   "execution_count": 201,
   "id": "d1402589",
   "metadata": {},
   "outputs": [
    {
     "data": {
      "text/plain": [
       "<Axes: xlabel='horsepower', ylabel='price'>"
      ]
     },
     "execution_count": 201,
     "metadata": {},
     "output_type": "execute_result"
    },
    {
     "data": {
      "image/png": "[encoded data removed]",
      "text/plain": [
       "<Figure size 432x288 with 1 Axes>"
      ]
     },
     "metadata": {
      "needs_background": "light"
     },
     "output_type": "display_data"
    }
   ],
   "source": [
    "sns.boxplot(x=df_corr['horsepower'],y=df_corr['price'])"
   ]
  },
  {
   "cell_type": "markdown",
   "id": "ea692095",
   "metadata": {},
   "source": [
    "Okkay it won't work.😂😂\n",
    "Box plot is for categorical data that can be grouped together, drive wheels: 3 categories: rwd, fwd, and 4wd"
   ]
  },
  {
   "cell_type": "code",
   "execution_count": 202,
   "id": "0881f700",
   "metadata": {},
   "outputs": [
    {
     "data": {
      "text/plain": [
       "<Axes: xlabel='drive-wheels', ylabel='price'>"
      ]
     },
     "execution_count": 202,
     "metadata": {},
     "output_type": "execute_result"
    },
    {
     "data": {
      "image/png": "[encoded data removed]",
      "text/plain": [
       "<Figure size 432x288 with 1 Axes>"
      ]
     },
     "metadata": {
      "needs_background": "light"
     },
     "output_type": "display_data"
    }
   ],
   "source": [
    "sns.boxplot(x=df['drive-wheels'], y=df_corr['price'])\n",
    "# Like this😗"
   ]
  },
  {
   "cell_type": "code",
   "execution_count": 203,
   "id": "71fc3bf0",
   "metadata": {},
   "outputs": [
    {
     "data": {
      "text/plain": [
       "<matplotlib.collections.PathCollection at 0x2e9660a76a0>"
      ]
     },
     "execution_count": 203,
     "metadata": {},
     "output_type": "execute_result"
    },
    {
     "data": {
      "image/png": "[encoded data removed]",
      "text/plain": [
       "<Figure size 432x288 with 1 Axes>"
      ]
     },
     "metadata": {
      "needs_background": "light"
     },
     "output_type": "display_data"
    }
   ],
   "source": [
    "plt.scatter(x=df_corr['horsepower'],y=df_corr['price'])"
   ]
  },
  {
   "cell_type": "markdown",
   "id": "affb1ddb",
   "metadata": {},
   "source": [
    "."
   ]
  },
  {
   "cell_type": "markdown",
   "id": "38963eff",
   "metadata": {},
   "source": [
    "."
   ]
  },
  {
   "cell_type": "markdown",
   "id": "efad2386",
   "metadata": {},
   "source": [
    "# Correlation Heatmap"
   ]
  },
  {
   "cell_type": "markdown",
   "id": "b1d5b439",
   "metadata": {},
   "source": [
    "The seaborn heatmap function excludes missing values from the plot by default. Therefore, if there are NaN values in the correlation matrix, those values will not be displayed in the heatmap."
   ]
  },
  {
   "cell_type": "code",
   "execution_count": 204,
   "id": "8d9990ca",
   "metadata": {},
   "outputs": [
    {
     "data": {
      "image/png": "[encoded data removed]",
      "text/plain": [
       "<Figure size 432x288 with 2 Axes>"
      ]
     },
     "metadata": {
      "needs_background": "light"
     },
     "output_type": "display_data"
    }
   ],
   "source": [
    "import seaborn as sns\n",
    "import matplotlib.pyplot as plt\n",
    "\n",
    "# Select the columns of interest from df_corr\n",
    "columns_of_interest = ['price', 'engine-size', 'highway-mpg', 'peak-rpm', 'horsepower']\n",
    "corr_matrix = df_corr[columns_of_interest].corr()\n",
    "\n",
    "# Create a heatmap\n",
    "sns.heatmap(corr_matrix, annot=True, cmap='coolwarm')\n",
    "\n",
    "# Set the title\n",
    "plt.title('Correlation Heatmap')\n",
    "\n",
    "# Rotate y-axis labels\n",
    "plt.yticks(rotation=0)\n",
    "\n",
    "# Show the plot\n",
    "plt.show()\n"
   ]
  },
  {
   "cell_type": "markdown",
   "id": "4ce6d77e",
   "metadata": {},
   "source": [
    "So this heatmap is  showing a Strong Positive Correlation between features."
   ]
  },
  {
   "cell_type": "markdown",
   "id": "8d417af5",
   "metadata": {},
   "source": [
    "This heatmap indicates the correlation between each of the variables with one another.\n",
    "The colour scheme indicates the Pearson Correlation Coefficient, indicating the strength of the correlation between two variables.\n",
    "We can see the diagonal line with red colour, indicating that all the values on this diagonal are highly correlated."
   ]
  },
  {
   "cell_type": "code",
   "execution_count": null,
   "id": "96b10d14",
   "metadata": {},
   "outputs": [],
   "source": []
  },
  {
   "cell_type": "code",
   "execution_count": 205,
   "id": "6d88bf2c",
   "metadata": {},
   "outputs": [],
   "source": [
    "df_corr['horsepower']=df_corr['horsepower'].astype(int)"
   ]
  },
  {
   "cell_type": "markdown",
   "id": "2c56fe20",
   "metadata": {},
   "source": [
    "This code may raise an error if the 'horsepower' column contains non-integer values, \n",
    "such as decimal numbers or NaN values. Since the column contains decimal \n",
    "values like 103.39698492, using astype(int) directly will result in a \n",
    "ValueError because integers cannot represent decimal values."
   ]
  },
  {
   "cell_type": "markdown",
   "id": "bc32c52f",
   "metadata": {},
   "source": [
    "If you want to convert the 'horsepower' column to an integer data type, you will need to handle any non-integer values first. Depending on your specific requirements, you can either round the decimal values or convert them to the nearest integer. Here's an example using the round() function to round the decimal values:\n",
    "\n",
    "df_corr['horsepower'] = df_corr['horsepower'].round().astype(int)"
   ]
  },
  {
   "cell_type": "code",
   "execution_count": 206,
   "id": "62ed43ce",
   "metadata": {},
   "outputs": [
    {
     "name": "stdout",
     "output_type": "stream",
     "text": [
      "<class 'pandas.core.frame.DataFrame'>\n",
      "Int64Index: 201 entries, 0 to 204\n",
      "Data columns (total 5 columns):\n",
      " #   Column       Non-Null Count  Dtype\n",
      "---  ------       --------------  -----\n",
      " 0   price        201 non-null    int32\n",
      " 1   engine-size  201 non-null    int64\n",
      " 2   highway-mpg  201 non-null    int64\n",
      " 3   peak-rpm     201 non-null    int32\n",
      " 4   horsepower   201 non-null    int32\n",
      "dtypes: int32(3), int64(2)\n",
      "memory usage: 7.1 KB\n"
     ]
    }
   ],
   "source": [
    "df_corr.info()"
   ]
  },
  {
   "cell_type": "markdown",
   "id": "85ea8eed",
   "metadata": {},
   "source": [
    "."
   ]
  },
  {
   "cell_type": "markdown",
   "id": "97ae61e0",
   "metadata": {},
   "source": [
    "# Relationships Between Two Categorical Variables"
   ]
  },
  {
   "cell_type": "markdown",
   "id": "23fbe950",
   "metadata": {},
   "source": [
    "When dealing with the relationships between Categorical Variables we can't use the same method for Correlation that we were using for Continuous Variables,\n",
    "We will have to employ the use of the Chi-Square test for the association."
   ]
  },
  {
   "cell_type": "markdown",
   "id": "a42f97f5",
   "metadata": {},
   "source": [
    "# Chi-Square Test"
   ]
  },
  {
   "cell_type": "markdown",
   "id": "a67a5ecb",
   "metadata": {},
   "source": [
    "\n",
    "The chi-square test is a statistical test used to determine if there is a significant association between two categorical variables. It is based on the chi-square statistic, which measures the difference between the observed frequencies and the expected frequencies under the assumption of independence between the variables."
   ]
  },
  {
   "cell_type": "markdown",
   "id": "a7e78057",
   "metadata": {},
   "source": [
    "Formulate the null hypothesis (H0) and alternative hypothesis (Ha):\n",
    "\n",
    "H0: There is no association between the variables (independence).\n",
    "\n",
    "Ha: There is an association between the variables.\n",
    "\n",
    "Collect the data and create a contingency table, organizing the data into rows and columns based on the categories of the two variables.\n",
    "\n",
    "\n",
    "Calculate the expected frequencies for each cell under the assumption of independence. The expected frequency for a cell is given by (row total * column total) / grand total.\n",
    "\n",
    "\n",
    "Calculate the chi-square statistic:\n",
    "\n",
    "\n",
    "Chi-square statistic = Σ [(Observed frequency - Expected frequency)^2 / Expected frequency] over all cells.\n",
    "\n",
    "Determine the degrees of freedom (df) for the chi-square test. It is equal to (number of rows - 1) * (number of columns - 1).\n",
    "\n",
    "\n",
    "Compare the calculated chi-square statistic to the critical value from the chi-square distribution with the appropriate degrees of freedom. This critical value corresponds to the desired level of significance (e.g., 0.05).\n",
    "\n",
    "\n",
    "If the calculated chi-square statistic is greater than the critical value, reject the null hypothesis. There is evidence of an association between the variables. If the calculated chi-square statistic is less than or equal to the critical value, fail to reject the null hypothesis. There is no significant evidence of an association between the variables."
   ]
  },
  {
   "cell_type": "markdown",
   "id": "31dc8431",
   "metadata": {},
   "source": [
    "The critical value from the chi-square distribution table corresponds to the desired level of significance (often denoted as alpha, α). The most commonly used level of significance is 0.05, which corresponds to a 95% confidence level.\n",
    "\n",
    "And if the significance level we are assuming is 0.01 then the confidence level is 99%."
   ]
  },
  {
   "cell_type": "markdown",
   "id": "6c2411f7",
   "metadata": {},
   "source": [
    "## We can do all of this in just 2 lines.😌\n",
    "import scipy.stats as stats\n",
    "\n",
    "chi2, dof, p, expected_frequencies = stats.chi2_contingency(df)"
   ]
  },
  {
   "cell_type": "markdown",
   "id": "c0d5dc35",
   "metadata": {},
   "source": [
    "."
   ]
  },
  {
   "cell_type": "markdown",
   "id": "a4c40aae",
   "metadata": {},
   "source": [
    "."
   ]
  },
  {
   "cell_type": "markdown",
   "id": "38b5bd42",
   "metadata": {},
   "source": [
    "."
   ]
  },
  {
   "cell_type": "markdown",
   "id": "31170a87",
   "metadata": {},
   "source": [
    "And we assume Alpha=0.05 for 95% Confidence or 0.01 for 99% Confidence,\n",
    "So if the p-value is less than the significance level (alpha>p), the Null Hypothesis(H0) is rejected in favour of Alternative Hypothesis(HA),\n",
    "\n",
    "The significance level acts as a cutoff point for decision-making. If the p-value is smaller than the significance level, researchers reject the null hypothesis and claim evidence of an association. If the p-value is larger, they fail to reject the null hypothesis due to insufficient evidence."
   ]
  },
  {
   "cell_type": "code",
   "execution_count": 207,
   "id": "00111c1d",
   "metadata": {},
   "outputs": [
    {
     "name": "stdout",
     "output_type": "stream",
     "text": [
      "9.967596506058044\n",
      "0.04097706629952236\n",
      "2\n",
      "Expected_Frequency_Table:\n",
      "        Male  Female  Total\n",
      "Index                      \n",
      "Vote A  33.6    36.4   70.0\n",
      "Vote B  62.4    67.6  130.0\n",
      "Vote C  24.0    26.0   50.0\n"
     ]
    }
   ],
   "source": [
    "import scipy.stats as stats\n",
    "import pandas as pd\n",
    "\n",
    "dataVOTING = {\n",
    "    'Index': ['Vote A', 'Vote B', 'Vote C'],\n",
    "    'Male': [40, 50, 30],\n",
    "    'Female': [30, 80, 20]\n",
    "}\n",
    "\n",
    "df_V = pd.DataFrame(dataVOTING)\n",
    "df_V.set_index('Index', inplace=True)  # Set 'Index' as the index column\n",
    "\n",
    "# Calculate the total counts for each category\n",
    "# df['Total'] = df[['Male', 'Female']].sum(axis=1)\n",
    "# Add the 'Total' row back to the DataFrame\n",
    "# df.loc['Total'] = df.sum()\n",
    "# print(df) \n",
    "\n",
    "# Calculate the total by summing 'Male' and 'Female' votes for each row\n",
    "df_V['Total'] = df_V['Male']+df_V['Female']\n",
    "\n",
    "# Calculate the total count across all cells\n",
    "total = df_V[['Male','Female']].sum().sum()\n",
    "\n",
    "\n",
    "observed=df_V.copy()\n",
    "observed['Male']=df_V['Male']\n",
    "observed['Female']=df_V['Female']\n",
    "\n",
    "#Calculate the expected frequencies assuming independence\n",
    "expected=df_V.copy()\n",
    "expected['Male']=df_V['Male'].sum()*df_V['Total']/total  # Row_Total*Column_Total/Grand_Total\n",
    "expected['Female']=df_V['Female'].sum()*df_V['Total']/total\n",
    "# Here df['Male'].sum() and df['Female'].sum() are the column totals\n",
    "\n",
    "# Chi-Square Statistic = Sum((observed-expected)**2/expected)\n",
    "chi2 = ((df_V[['Male','Female']]-expected[['Male','Female']])**2/expected[['Male','Female']]).sum().sum()\n",
    "chi2\n",
    "# df.shape\n",
    "# df.shape[0]\n",
    "# df.shape[1]-1\n",
    "\n",
    "num_rows= df_V.shape[0]\n",
    "num_cols= df_V.shape[1]-1\n",
    "# print(num_rows,\" \",num_cols)\n",
    "\n",
    "degree_of_freedom= (num_rows-1)*(num_cols-1)\n",
    "degree_of_freedom\n",
    "\n",
    "chi2, p,dof, expected_frequencies = stats.chi2_contingency(df_V)\n",
    "print(chi2)\n",
    "print(p)\n",
    "print(degree_of_freedom)\n",
    "print(\"Expected_Frequency_Table:\")\n",
    "print(pd.DataFrame(expected_frequencies, index=df_V.index, columns=df_V.columns))"
   ]
  },
  {
   "cell_type": "code",
   "execution_count": 208,
   "id": "3c24eb12",
   "metadata": {},
   "outputs": [
    {
     "name": "stdout",
     "output_type": "stream",
     "text": [
      "Rejects Null Hypothesis\n"
     ]
    }
   ],
   "source": [
    "alpha = 0.05\n",
    "if p<alpha:\n",
    "    print('Rejects Null Hypothesis')\n",
    "else:\n",
    "    print('Fail To Reject The Null Hypothesis')"
   ]
  },
  {
   "cell_type": "markdown",
   "id": "1b7eae52",
   "metadata": {},
   "source": [
    "There is an association between Voting Preference and Genders🤣\n",
    "\n",
    "The context of this analysis would typically be a study or survey examining the voting preferences of individuals belonging to different genders. The goal is to determine whether there is a relationship between gender and voting choices. The rejection of the null hypothesis indicates that gender does play a role in influencing voting preferences. This finding could have implications in understanding political behavior, voter demographics, and identifying potential factors that influence voting decisions.\n",
    "\n",
    "It's important to note that statistical tests like the chi-square test provide evidence of association but do not establish causation. The analysis suggests that there is a significant relationship between voting preference and gender, but further research and analysis may be needed to understand the nature and underlying factors of this association."
   ]
  },
  {
   "cell_type": "markdown",
   "id": "87bdfbce",
   "metadata": {},
   "source": [
    "### Description:\n",
    "\n",
    "chi2: It represents the chi-square test statistic. This value measures the discrepancy between the observed frequencies and the expected frequencies in the contingency table. A higher chi-square value indicates a greater difference between the observed and expected frequencies, suggesting a potential association between the variables.\n",
    "\n",
    "p: It refers to the p-value associated with the chi-square test. The p-value indicates the probability of observing the data (or more extreme data) under the assumption that there is no association between the variables. A smaller p-value suggests stronger evidence against the null hypothesis of independence, implying a significant association between the variables.\n",
    "\n",
    "dof: It stands for degrees of freedom. In the context of the chi-square test, degrees of freedom represent the number of independent pieces of information available for estimating the expected frequencies. For a contingency table with r rows and c columns, the degrees of freedom can be calculated as (r-1) * (c-1)."
   ]
  },
  {
   "cell_type": "markdown",
   "id": "6f873d64",
   "metadata": {},
   "source": [
    "."
   ]
  },
  {
   "cell_type": "markdown",
   "id": "3b132f66",
   "metadata": {},
   "source": [
    "."
   ]
  },
  {
   "cell_type": "markdown",
   "id": "32934f54",
   "metadata": {},
   "source": [
    "."
   ]
  },
  {
   "cell_type": "code",
   "execution_count": 274,
   "id": "dc2bfe1f",
   "metadata": {},
   "outputs": [],
   "source": [
    "df_corr['city-L/100km'] = df['city-L/100km'].copy()"
   ]
  },
  {
   "cell_type": "code",
   "execution_count": 275,
   "id": "3769cfef",
   "metadata": {},
   "outputs": [],
   "source": [
    "df_md = df_corr.copy()"
   ]
  },
  {
   "cell_type": "markdown",
   "id": "97c4507c",
   "metadata": {},
   "source": [
    "# Model Development\n",
    "\n",
    "A model or estimator can be thought of as a mathematical equation used to predict the value given one or more other values. Relating one or more independent variables or features to dependent variables."
   ]
  },
  {
   "cell_type": "markdown",
   "id": "aa2aa2a7",
   "metadata": {},
   "source": [
    "Sigle Independent Variable:\n",
    "You input a car model's highway miles per gallon as the independent variable or feature, the output of the model or dependent variable is the price. Usually, the more relevant data you have, the more accurate your model is.\n",
    "\n",
    "Multiple Independent Variable:\n",
    "You input multiple independent variables or features to your model. Therefore, your model may predict a more accurate price for the car.\n",
    "\n",
    "Why need more data?\n",
    "\n",
    "You have two almost identical cars. Pink cars sell for significantly less.\n",
    "You want to use your model to determine the price of two cars, one pink, one red. If your models independent variables or features do not include color, your model will predict the same price for cars that may sell for much less. In addition to getting more data, you can try different types of models."
   ]
  },
  {
   "cell_type": "markdown",
   "id": "20029b41",
   "metadata": {},
   "source": [
    "."
   ]
  },
  {
   "cell_type": "markdown",
   "id": "2f725e52",
   "metadata": {},
   "source": [
    "# Linear Regression\n",
    "\n",
    "### Linear regression refers to one independent variable to make a prediction. \n",
    "### Multiple linear regression refers to multiple independent variables to make a prediction."
   ]
  },
  {
   "cell_type": "markdown",
   "id": "66cf4573",
   "metadata": {},
   "source": [
    "Simple linear regression or SLR is a method to help us understand the relationship between two variables. The predictor independent variable x and the target dependent variable y."
   ]
  },
  {
   "cell_type": "markdown",
   "id": "cb8ae03d",
   "metadata": {},
   "source": [
    "#### Intercept & Slope: b0 and b1"
   ]
  },
  {
   "cell_type": "markdown",
   "id": "26606788",
   "metadata": {},
   "source": [
    "The intercept(b0) represents the starting point or baseline value of the dependent variable(Y), while the slope(b1) indicates the rate of change in the dependent variable(Y) for each unit change in the independent variable(X).\n",
    "\n",
    "These are attributes of the LinearRegression model object:\n",
    "lm = LinearRegression()"
   ]
  },
  {
   "cell_type": "markdown",
   "id": "cb95910a",
   "metadata": {},
   "source": [
    "Intercept: The intercept, also known as the y-intercept or the constant term, represents the value of the dependent variable (y) when all independent variables (x) are set to zero. It is the point where the regression line intersects the y-axis. The intercept is denoted by the symbol \"b0\" in a simple linear regression model.\n",
    "\n",
    "intercept= lm.intercept_\n",
    "\n",
    "Slope: The slope represents the change in the dependent variable (y) for a one-unit change in the independent variable (x). It quantifies the relationship and direction between the independent and dependent variables. In a simple linear regression model, the slope is denoted by the symbol \"b1\" and indicates the steepness or inclination of the regression line.\n",
    "\n",
    "slope.coefficient= lm.coef_"
   ]
  },
  {
   "cell_type": "raw",
   "id": "c0d3f115",
   "metadata": {},
   "source": [
    "We usually store the data points into data frame or numpy arrays. \n",
    "\n",
    "The value we would like to predict is called the target that we store in the array y. \n",
    "\n",
    "We store the independent variable in the data frame or array x."
   ]
  },
  {
   "cell_type": "code",
   "execution_count": null,
   "id": "c7e9c661",
   "metadata": {},
   "outputs": [],
   "source": []
  },
  {
   "cell_type": "markdown",
   "id": "c13b126e",
   "metadata": {},
   "source": [
    "# Simple Linear Regression"
   ]
  },
  {
   "cell_type": "markdown",
   "id": "60e5c31d",
   "metadata": {},
   "source": [
    "### Process"
   ]
  },
  {
   "cell_type": "markdown",
   "id": "e0d36b93",
   "metadata": {},
   "source": [
    "We have a set of training points. We use these training points to fit or train the model and get parameters. We then use these parameters in the model. We now have a model. We use the hat on the y to denote the model is an estimate. We can use this model to predict values that we haven't seen."
   ]
  },
  {
   "cell_type": "markdown",
   "id": "968cb387",
   "metadata": {},
   "source": [
    "Our model is not always correct😒"
   ]
  },
  {
   "cell_type": "markdown",
   "id": "6089111b",
   "metadata": {},
   "source": [
    "#### Fitting a Simple Linear Model Estimator"
   ]
  },
  {
   "cell_type": "code",
   "execution_count": 209,
   "id": "97c4a6f9",
   "metadata": {},
   "outputs": [],
   "source": [
    "# import linear_model from scikit-learn\n",
    "from sklearn.linear_model import LinearRegression"
   ]
  },
  {
   "cell_type": "code",
   "execution_count": 210,
   "id": "c0c5ac73",
   "metadata": {},
   "outputs": [],
   "source": [
    "lm = LinearRegression() # Create a linear regression object(lm) using a constructor"
   ]
  },
  {
   "cell_type": "code",
   "execution_count": 280,
   "id": "076ef58c",
   "metadata": {},
   "outputs": [],
   "source": [
    "# We define a predictor(X) and target variable(Y) \n",
    "X = df_md[['highway-mpg']]\n",
    "Y = df_md['price']"
   ]
  },
  {
   "cell_type": "code",
   "execution_count": 281,
   "id": "acb1028a",
   "metadata": {},
   "outputs": [
    {
     "data": {
      "text/html": [
       "<style>#sk-container-id-4 {color: black;background-color: white;}#sk-container-id-4 pre{padding: 0;}#sk-container-id-4 div.sk-toggleable {background-color: white;}#sk-container-id-4 label.sk-toggleable__label {cursor: pointer;display: block;width: 100%;margin-bottom: 0;padding: 0.3em;box-sizing: border-box;text-align: center;}#sk-container-id-4 label.sk-toggleable__label-arrow:before {content: \"▸\";float: left;margin-right: 0.25em;color: #696969;}#sk-container-id-4 label.sk-toggleable__label-arrow:hover:before {color: black;}#sk-container-id-4 div.sk-estimator:hover label.sk-toggleable__label-arrow:before {color: black;}#sk-container-id-4 div.sk-toggleable__content {max-height: 0;max-width: 0;overflow: hidden;text-align: left;background-color: #f0f8ff;}#sk-container-id-4 div.sk-toggleable__content pre {margin: 0.2em;color: black;border-radius: 0.25em;background-color: #f0f8ff;}#sk-container-id-4 input.sk-toggleable__control:checked~div.sk-toggleable__content {max-height: 200px;max-width: 100%;overflow: auto;}#sk-container-id-4 input.sk-toggleable__control:checked~label.sk-toggleable__label-arrow:before {content: \"▾\";}#sk-container-id-4 div.sk-estimator input.sk-toggleable__control:checked~label.sk-toggleable__label {background-color: #d4ebff;}#sk-container-id-4 div.sk-label input.sk-toggleable__control:checked~label.sk-toggleable__label {background-color: #d4ebff;}#sk-container-id-4 input.sk-hidden--visually {border: 0;clip: rect(1px 1px 1px 1px);clip: rect(1px, 1px, 1px, 1px);height: 1px;margin: -1px;overflow: hidden;padding: 0;position: absolute;width: 1px;}#sk-container-id-4 div.sk-estimator {font-family: monospace;background-color: #f0f8ff;border: 1px dotted black;border-radius: 0.25em;box-sizing: border-box;margin-bottom: 0.5em;}#sk-container-id-4 div.sk-estimator:hover {background-color: #d4ebff;}#sk-container-id-4 div.sk-parallel-item::after {content: \"\";width: 100%;border-bottom: 1px solid gray;flex-grow: 1;}#sk-container-id-4 div.sk-label:hover label.sk-toggleable__label {background-color: #d4ebff;}#sk-container-id-4 div.sk-serial::before {content: \"\";position: absolute;border-left: 1px solid gray;box-sizing: border-box;top: 0;bottom: 0;left: 50%;z-index: 0;}#sk-container-id-4 div.sk-serial {display: flex;flex-direction: column;align-items: center;background-color: white;padding-right: 0.2em;padding-left: 0.2em;position: relative;}#sk-container-id-4 div.sk-item {position: relative;z-index: 1;}#sk-container-id-4 div.sk-parallel {display: flex;align-items: stretch;justify-content: center;background-color: white;position: relative;}#sk-container-id-4 div.sk-item::before, #sk-container-id-4 div.sk-parallel-item::before {content: \"\";position: absolute;border-left: 1px solid gray;box-sizing: border-box;top: 0;bottom: 0;left: 50%;z-index: -1;}#sk-container-id-4 div.sk-parallel-item {display: flex;flex-direction: column;z-index: 1;position: relative;background-color: white;}#sk-container-id-4 div.sk-parallel-item:first-child::after {align-self: flex-end;width: 50%;}#sk-container-id-4 div.sk-parallel-item:last-child::after {align-self: flex-start;width: 50%;}#sk-container-id-4 div.sk-parallel-item:only-child::after {width: 0;}#sk-container-id-4 div.sk-dashed-wrapped {border: 1px dashed gray;margin: 0 0.4em 0.5em 0.4em;box-sizing: border-box;padding-bottom: 0.4em;background-color: white;}#sk-container-id-4 div.sk-label label {font-family: monospace;font-weight: bold;display: inline-block;line-height: 1.2em;}#sk-container-id-4 div.sk-label-container {text-align: center;}#sk-container-id-4 div.sk-container {/* jupyter's `normalize.less` sets `[hidden] { display: none; }` but bootstrap.min.css set `[hidden] { display: none !important; }` so we also need the `!important` here to be able to override the default hidden behavior on the sphinx rendered scikit-learn.org. See: https://github.com/scikit-learn/scikit-learn/issues/21755 */display: inline-block !important;position: relative;}#sk-container-id-4 div.sk-text-repr-fallback {display: none;}</style><div id=\"sk-container-id-4\" class=\"sk-top-container\"><div class=\"sk-text-repr-fallback\"><pre>LinearRegression()</pre><b>In a Jupyter environment, please rerun this cell to show the HTML representation or trust the notebook. <br />On GitHub, the HTML representation is unable to render, please try loading this page with nbviewer.org.</b></div><div class=\"sk-container\" hidden><div class=\"sk-item\"><div class=\"sk-estimator sk-toggleable\"><input class=\"sk-toggleable__control sk-hidden--visually\" id=\"sk-estimator-id-4\" type=\"checkbox\" checked><label for=\"sk-estimator-id-4\" class=\"sk-toggleable__label sk-toggleable__label-arrow\">LinearRegression</label><div class=\"sk-toggleable__content\"><pre>LinearRegression()</pre></div></div></div></div></div>"
      ],
      "text/plain": [
       "LinearRegression()"
      ]
     },
     "execution_count": 281,
     "metadata": {},
     "output_type": "execute_result"
    }
   ],
   "source": [
    "# Use lm.fit(X,Y) to fit the model, i.e., find the parameter b0 and b1\n",
    "lm.fit(X, Y)"
   ]
  },
  {
   "cell_type": "code",
   "execution_count": 287,
   "id": "8007da5c",
   "metadata": {
    "collapsed": true
   },
   "outputs": [
    {
     "data": {
      "text/plain": [
       "array([16236.50464347, 16236.50464347, 17058.23802179, 13771.3045085 ,\n",
       "       20345.17153508, 17879.97140011, 17879.97140011, 17879.97140011,\n",
       "       21988.63829172, 14593.03788682, 14593.03788682, 15414.77126514,\n",
       "       15414.77126514, 17879.97140011, 20345.17153508, 20345.17153508,\n",
       "       21988.63829172, -5128.5631929 ,  3088.77059031,  3088.77059031,\n",
       "        4732.23734696,  7197.43748192, 13771.3045085 ,  7197.43748192,\n",
       "        7197.43748192,  7197.43748192, 13771.3045085 , 13771.3045085 ,\n",
       "       18701.70477843, -5950.29657123,  7197.43748192,  3910.50396864,\n",
       "       10484.37099521, 10484.37099521, 10484.37099521, 10484.37099521,\n",
       "       11306.10437353, 11306.10437353, 11306.10437353, 11306.10437353,\n",
       "       15414.77126514, 12949.57113018, 14593.03788682, 14593.03788682,\n",
       "       22810.37167004, 22810.37167004, 24453.83842668, 12949.57113018,\n",
       "        7197.43748192,  7197.43748192,  7197.43748192,  7197.43748192,\n",
       "       19523.43815675, 19523.43815675, 19523.43815675, 19523.43815675,\n",
       "       12127.83775186, 12127.83775186, 12127.83775186, 12127.83775186,\n",
       "        3910.50396864, 12127.83775186, 16236.50464347,  6375.7041036 ,\n",
       "       17879.97140011, 17879.97140011, 17879.97140011, 17879.97140011,\n",
       "       23632.10504836, 23632.10504836, 25275.57180501, 25275.57180501,\n",
       "       18701.70477843,  4732.23734696,  7197.43748192,  7197.43748192,\n",
       "       13771.3045085 , 13771.3045085 , 12127.83775186, 18701.70477843,\n",
       "       18701.70477843, 18701.70477843, 12127.83775186, 12127.83775186,\n",
       "       13771.3045085 , 13771.3045085 ,  8019.17086025, -2663.36305794,\n",
       "        8019.17086025,  8019.17086025,  8019.17086025,  8019.17086025,\n",
       "        8019.17086025,  8019.17086025,  8019.17086025,  8019.17086025,\n",
       "       10484.37099521, 10484.37099521, 20345.17153508, 20345.17153508,\n",
       "       17879.97140011, 17879.97140011, 19523.43815675, 17879.97140011,\n",
       "       18701.70477843, 11306.10437353, 18701.70477843, 17879.97140011,\n",
       "       18701.70477843, 11306.10437353, 18701.70477843, 17879.97140011,\n",
       "       18701.70477843, 11306.10437353, 18701.70477843,  4732.23734696,\n",
       "       13771.3045085 ,  7197.43748192,  7197.43748192,  7197.43748192,\n",
       "       13771.3045085 , 18701.70477843, 16236.50464347, 17879.97140011,\n",
       "       17879.97140011, 17879.97140011, 12949.57113018, 12949.57113018,\n",
       "       15414.77126514, 15414.77126514, 15414.77126514, 15414.77126514,\n",
       "       17058.23802179, 17058.23802179,  8840.90423857, 12949.57113018,\n",
       "       12949.57113018,  8019.17086025, 11306.10437353, 12127.83775186,\n",
       "       17879.97140011, 14593.03788682, 12127.83775186, 12949.57113018,\n",
       "       14593.03788682, 19523.43815675,  6375.7041036 ,  7197.43748192,\n",
       "        7197.43748192,  8019.17086025, 12127.83775186, 12127.83775186,\n",
       "        8019.17086025,  8019.17086025,  8840.90423857,  -198.16292297,\n",
       "        -198.16292297, 10484.37099521, 10484.37099521, 10484.37099521,\n",
       "       10484.37099521, 14593.03788682, 14593.03788682, 13771.3045085 ,\n",
       "       13771.3045085 , 13771.3045085 , 13771.3045085 , 13771.3045085 ,\n",
       "       13771.3045085 , 10484.37099521, 11306.10437353, 12127.83775186,\n",
       "       12127.83775186, 12127.83775186, 18701.70477843, 18701.70477843,\n",
       "       18701.70477843, 18701.70477843,   623.57045535, 10484.37099521,\n",
       "         623.57045535, 10484.37099521, 10484.37099521,  3910.50396864,\n",
       "       12127.83775186, 14593.03788682, 14593.03788682, 18701.70477843,\n",
       "        7197.43748192, 12949.57113018, 15414.77126514, 15414.77126514,\n",
       "       15414.77126514, 15414.77126514, 20345.17153508, 20345.17153508,\n",
       "       15414.77126514, 17879.97140011, 19523.43815675, 16236.50464347,\n",
       "       17879.97140011])"
      ]
     },
     "execution_count": 287,
     "metadata": {},
     "output_type": "execute_result"
    }
   ],
   "source": [
    "# We can obtain the prediction\n",
    "Yhat=lm.predict(X)\n",
    "Yhat\n",
    "\n",
    "# Yhat_df= pd.DataFrame(Yhat)\n",
    "# Yhat_df"
   ]
  },
  {
   "cell_type": "code",
   "execution_count": 289,
   "id": "5fb43aa2",
   "metadata": {},
   "outputs": [
    {
     "name": "stdout",
     "output_type": "stream",
     "text": [
      "Intercept(b0): 38423.3058581574\n",
      "Slope(b1): [-821.73337832]\n"
     ]
    }
   ],
   "source": [
    "#The attributes of linear regression model object lm are b0 and b1:\n",
    "\n",
    "b0=lm.intercept_\n",
    "print('Intercept(b0):',b0)\n",
    "\n",
    "b1=lm.coef_\n",
    "print('Slope(b1):',b1)"
   ]
  },
  {
   "cell_type": "code",
   "execution_count": 291,
   "id": "284b7d1e",
   "metadata": {
    "collapsed": true
   },
   "outputs": [
    {
     "data": {
      "text/html": [
       "<div>\n",
       "<style scoped>\n",
       "    .dataframe tbody tr th:only-of-type {\n",
       "        vertical-align: middle;\n",
       "    }\n",
       "\n",
       "    .dataframe tbody tr th {\n",
       "        vertical-align: top;\n",
       "    }\n",
       "\n",
       "    .dataframe thead th {\n",
       "        text-align: right;\n",
       "    }\n",
       "</style>\n",
       "<table border=\"1\" class=\"dataframe\">\n",
       "  <thead>\n",
       "    <tr style=\"text-align: right;\">\n",
       "      <th></th>\n",
       "      <th>highway-mpg</th>\n",
       "    </tr>\n",
       "  </thead>\n",
       "  <tbody>\n",
       "    <tr>\n",
       "      <th>0</th>\n",
       "      <td>16236.504643</td>\n",
       "    </tr>\n",
       "    <tr>\n",
       "      <th>1</th>\n",
       "      <td>16236.504643</td>\n",
       "    </tr>\n",
       "    <tr>\n",
       "      <th>2</th>\n",
       "      <td>17058.238022</td>\n",
       "    </tr>\n",
       "    <tr>\n",
       "      <th>3</th>\n",
       "      <td>13771.304508</td>\n",
       "    </tr>\n",
       "    <tr>\n",
       "      <th>4</th>\n",
       "      <td>20345.171535</td>\n",
       "    </tr>\n",
       "    <tr>\n",
       "      <th>...</th>\n",
       "      <td>...</td>\n",
       "    </tr>\n",
       "    <tr>\n",
       "      <th>200</th>\n",
       "      <td>15414.771265</td>\n",
       "    </tr>\n",
       "    <tr>\n",
       "      <th>201</th>\n",
       "      <td>17879.971400</td>\n",
       "    </tr>\n",
       "    <tr>\n",
       "      <th>202</th>\n",
       "      <td>19523.438157</td>\n",
       "    </tr>\n",
       "    <tr>\n",
       "      <th>203</th>\n",
       "      <td>16236.504643</td>\n",
       "    </tr>\n",
       "    <tr>\n",
       "      <th>204</th>\n",
       "      <td>17879.971400</td>\n",
       "    </tr>\n",
       "  </tbody>\n",
       "</table>\n",
       "<p>201 rows × 1 columns</p>\n",
       "</div>"
      ],
      "text/plain": [
       "      highway-mpg\n",
       "0    16236.504643\n",
       "1    16236.504643\n",
       "2    17058.238022\n",
       "3    13771.304508\n",
       "4    20345.171535\n",
       "..            ...\n",
       "200  15414.771265\n",
       "201  17879.971400\n",
       "202  19523.438157\n",
       "203  16236.504643\n",
       "204  17879.971400\n",
       "\n",
       "[201 rows x 1 columns]"
      ]
     },
     "execution_count": 291,
     "metadata": {},
     "output_type": "execute_result"
    }
   ],
   "source": [
    "# The relationship between the Price and Highway MPG is given by:\n",
    "# Yhat = b0+b1x\n",
    "Price = b0+b1*X\n",
    "Price"
   ]
  },
  {
   "cell_type": "markdown",
   "id": "5b62abd0",
   "metadata": {},
   "source": [
    "The intercept represents the estimated price of a car when the highway mpg is zero. In this case, the intercept is approximately 38,423.31 units of currency (it's not specified in the code which currency is used). This intercept value provides a baseline starting point for the price estimation.\n",
    "\n",
    "The slope represents the estimated change in price for each one-unit increase in the highway mpg. In this case, the slope is approximately -821.73, indicating that as the highway mpg increases, the price of the car tends to decrease. The negative sign of the slope indicates an inverse relationship between price and highway mpg.\n",
    "\n",
    "Here Intercept(b0) or baseline of Y(price) is 38423.30581574\n",
    "\n",
    "Slope(b1) indicating that for each unit change in Highway-mpg the price is reducing(-821.73337832)"
   ]
  },
  {
   "cell_type": "code",
   "execution_count": 272,
   "id": "b6fac5f7",
   "metadata": {
    "scrolled": true
   },
   "outputs": [
    {
     "ename": "KeyError",
     "evalue": "'city-L/100km'",
     "output_type": "error",
     "traceback": [
      "\u001b[1;31m---------------------------------------------------------------------------\u001b[0m",
      "\u001b[1;31mKeyError\u001b[0m                                  Traceback (most recent call last)",
      "File \u001b[1;32m~\\AppData\\Local\\Programs\\Python\\Python310\\lib\\site-packages\\pandas\\core\\indexes\\base.py:3621\u001b[0m, in \u001b[0;36mIndex.get_loc\u001b[1;34m(self, key, method, tolerance)\u001b[0m\n\u001b[0;32m   3620\u001b[0m \u001b[38;5;28;01mtry\u001b[39;00m:\n\u001b[1;32m-> 3621\u001b[0m     \u001b[38;5;28;01mreturn\u001b[39;00m \u001b[38;5;28;43mself\u001b[39;49m\u001b[38;5;241;43m.\u001b[39;49m\u001b[43m_engine\u001b[49m\u001b[38;5;241;43m.\u001b[39;49m\u001b[43mget_loc\u001b[49m\u001b[43m(\u001b[49m\u001b[43mcasted_key\u001b[49m\u001b[43m)\u001b[49m\n\u001b[0;32m   3622\u001b[0m \u001b[38;5;28;01mexcept\u001b[39;00m \u001b[38;5;167;01mKeyError\u001b[39;00m \u001b[38;5;28;01mas\u001b[39;00m err:\n",
      "File \u001b[1;32m~\\AppData\\Local\\Programs\\Python\\Python310\\lib\\site-packages\\pandas\\_libs\\index.pyx:136\u001b[0m, in \u001b[0;36mpandas._libs.index.IndexEngine.get_loc\u001b[1;34m()\u001b[0m\n",
      "File \u001b[1;32m~\\AppData\\Local\\Programs\\Python\\Python310\\lib\\site-packages\\pandas\\_libs\\index.pyx:163\u001b[0m, in \u001b[0;36mpandas._libs.index.IndexEngine.get_loc\u001b[1;34m()\u001b[0m\n",
      "File \u001b[1;32mpandas\\_libs\\hashtable_class_helper.pxi:5198\u001b[0m, in \u001b[0;36mpandas._libs.hashtable.PyObjectHashTable.get_item\u001b[1;34m()\u001b[0m\n",
      "File \u001b[1;32mpandas\\_libs\\hashtable_class_helper.pxi:5206\u001b[0m, in \u001b[0;36mpandas._libs.hashtable.PyObjectHashTable.get_item\u001b[1;34m()\u001b[0m\n",
      "\u001b[1;31mKeyError\u001b[0m: 'city-L/100km'",
      "\nThe above exception was the direct cause of the following exception:\n",
      "\u001b[1;31mKeyError\u001b[0m                                  Traceback (most recent call last)",
      "Input \u001b[1;32mIn [272]\u001b[0m, in \u001b[0;36m<cell line: 1>\u001b[1;34m()\u001b[0m\n\u001b[1;32m----> 1\u001b[0m \u001b[43mdf_corr\u001b[49m\u001b[43m[\u001b[49m\u001b[38;5;124;43m'\u001b[39;49m\u001b[38;5;124;43mcity-L/100km\u001b[39;49m\u001b[38;5;124;43m'\u001b[39;49m\u001b[43m]\u001b[49m\n",
      "File \u001b[1;32m~\\AppData\\Local\\Programs\\Python\\Python310\\lib\\site-packages\\pandas\\core\\frame.py:3505\u001b[0m, in \u001b[0;36mDataFrame.__getitem__\u001b[1;34m(self, key)\u001b[0m\n\u001b[0;32m   3503\u001b[0m \u001b[38;5;28;01mif\u001b[39;00m \u001b[38;5;28mself\u001b[39m\u001b[38;5;241m.\u001b[39mcolumns\u001b[38;5;241m.\u001b[39mnlevels \u001b[38;5;241m>\u001b[39m \u001b[38;5;241m1\u001b[39m:\n\u001b[0;32m   3504\u001b[0m     \u001b[38;5;28;01mreturn\u001b[39;00m \u001b[38;5;28mself\u001b[39m\u001b[38;5;241m.\u001b[39m_getitem_multilevel(key)\n\u001b[1;32m-> 3505\u001b[0m indexer \u001b[38;5;241m=\u001b[39m \u001b[38;5;28;43mself\u001b[39;49m\u001b[38;5;241;43m.\u001b[39;49m\u001b[43mcolumns\u001b[49m\u001b[38;5;241;43m.\u001b[39;49m\u001b[43mget_loc\u001b[49m\u001b[43m(\u001b[49m\u001b[43mkey\u001b[49m\u001b[43m)\u001b[49m\n\u001b[0;32m   3506\u001b[0m \u001b[38;5;28;01mif\u001b[39;00m is_integer(indexer):\n\u001b[0;32m   3507\u001b[0m     indexer \u001b[38;5;241m=\u001b[39m [indexer]\n",
      "File \u001b[1;32m~\\AppData\\Local\\Programs\\Python\\Python310\\lib\\site-packages\\pandas\\core\\indexes\\base.py:3623\u001b[0m, in \u001b[0;36mIndex.get_loc\u001b[1;34m(self, key, method, tolerance)\u001b[0m\n\u001b[0;32m   3621\u001b[0m     \u001b[38;5;28;01mreturn\u001b[39;00m \u001b[38;5;28mself\u001b[39m\u001b[38;5;241m.\u001b[39m_engine\u001b[38;5;241m.\u001b[39mget_loc(casted_key)\n\u001b[0;32m   3622\u001b[0m \u001b[38;5;28;01mexcept\u001b[39;00m \u001b[38;5;167;01mKeyError\u001b[39;00m \u001b[38;5;28;01mas\u001b[39;00m err:\n\u001b[1;32m-> 3623\u001b[0m     \u001b[38;5;28;01mraise\u001b[39;00m \u001b[38;5;167;01mKeyError\u001b[39;00m(key) \u001b[38;5;28;01mfrom\u001b[39;00m \u001b[38;5;21;01merr\u001b[39;00m\n\u001b[0;32m   3624\u001b[0m \u001b[38;5;28;01mexcept\u001b[39;00m \u001b[38;5;167;01mTypeError\u001b[39;00m:\n\u001b[0;32m   3625\u001b[0m     \u001b[38;5;66;03m# If we have a listlike key, _check_indexing_error will raise\u001b[39;00m\n\u001b[0;32m   3626\u001b[0m     \u001b[38;5;66;03m#  InvalidIndexError. Otherwise we fall through and re-raise\u001b[39;00m\n\u001b[0;32m   3627\u001b[0m     \u001b[38;5;66;03m#  the TypeError.\u001b[39;00m\n\u001b[0;32m   3628\u001b[0m     \u001b[38;5;28mself\u001b[39m\u001b[38;5;241m.\u001b[39m_check_indexing_error(key)\n",
      "\u001b[1;31mKeyError\u001b[0m: 'city-L/100km'"
     ]
    }
   ],
   "source": []
  },
  {
   "cell_type": "code",
   "execution_count": null,
   "id": "0b5addc5",
   "metadata": {},
   "outputs": [],
   "source": []
  },
  {
   "cell_type": "code",
   "execution_count": null,
   "id": "7b7c650c",
   "metadata": {},
   "outputs": [],
   "source": []
  },
  {
   "cell_type": "code",
   "execution_count": null,
   "id": "59a76581",
   "metadata": {},
   "outputs": [],
   "source": []
  },
  {
   "cell_type": "code",
   "execution_count": null,
   "id": "344fadb7",
   "metadata": {},
   "outputs": [],
   "source": []
  },
  {
   "cell_type": "code",
   "execution_count": null,
   "id": "d2e81f7b",
   "metadata": {},
   "outputs": [],
   "source": []
  },
  {
   "cell_type": "code",
   "execution_count": null,
   "id": "414fa598",
   "metadata": {},
   "outputs": [],
   "source": []
  },
  {
   "cell_type": "code",
   "execution_count": null,
   "id": "eeb53a2d",
   "metadata": {},
   "outputs": [],
   "source": []
  },
  {
   "cell_type": "code",
   "execution_count": 212,
   "id": "c6bd0791",
   "metadata": {},
   "outputs": [
    {
     "ename": "NameError",
     "evalue": "name 'df2' is not defined",
     "output_type": "error",
     "traceback": [
      "\u001b[1;31m---------------------------------------------------------------------------\u001b[0m",
      "\u001b[1;31mNameError\u001b[0m                                 Traceback (most recent call last)",
      "Input \u001b[1;32mIn [212]\u001b[0m, in \u001b[0;36m<cell line: 1>\u001b[1;34m()\u001b[0m\n\u001b[1;32m----> 1\u001b[0m price22ndrow\u001b[38;5;241m=\u001b[39m\u001b[43mdf2\u001b[49m\u001b[38;5;241m.\u001b[39mloc[\u001b[38;5;241m22\u001b[39m,\u001b[38;5;124m'\u001b[39m\u001b[38;5;124mprice\u001b[39m\u001b[38;5;124m'\u001b[39m]\n\u001b[0;32m      2\u001b[0m price22ndrow \u001b[38;5;241m=\u001b[39m pd\u001b[38;5;241m.\u001b[39mDataFrame({\u001b[38;5;124m'\u001b[39m\u001b[38;5;124mprice\u001b[39m\u001b[38;5;124m'\u001b[39m: [price22ndrow]})\n\u001b[0;32m      3\u001b[0m price22ndrow\n",
      "\u001b[1;31mNameError\u001b[0m: name 'df2' is not defined"
     ]
    }
   ],
   "source": [
    "price22ndrow=df2.loc[22,'price']\n",
    "price22ndrow = pd.DataFrame({'price': [price22ndrow]})\n",
    "price22ndrow"
   ]
  },
  {
   "cell_type": "code",
   "execution_count": null,
   "id": "ed72cbe0",
   "metadata": {},
   "outputs": [],
   "source": [
    "df2.isna().sum()"
   ]
  },
  {
   "cell_type": "code",
   "execution_count": null,
   "id": "157ae378",
   "metadata": {},
   "outputs": [],
   "source": [
    "df2.nunique().to_frame()"
   ]
  },
  {
   "cell_type": "code",
   "execution_count": null,
   "id": "32c152d3",
   "metadata": {},
   "outputs": [],
   "source": [
    "df2[df==\"?\"].count().sum() # These are the missing values "
   ]
  },
  {
   "cell_type": "code",
   "execution_count": null,
   "id": "8c796034",
   "metadata": {},
   "outputs": [],
   "source": [
    "import numpy as np"
   ]
  },
  {
   "cell_type": "code",
   "execution_count": null,
   "id": "c7452f39",
   "metadata": {},
   "outputs": [],
   "source": [
    "df2.replace(\"?\",np.nan,inplace=True)"
   ]
  },
  {
   "cell_type": "code",
   "execution_count": null,
   "id": "e47ecada",
   "metadata": {},
   "outputs": [],
   "source": [
    "df2[df2==\"?\"].count().sum()"
   ]
  },
  {
   "cell_type": "code",
   "execution_count": null,
   "id": "3461b7c8",
   "metadata": {},
   "outputs": [],
   "source": [
    "df2.isnull().sum()\n",
    "df2.isna().sum().sum()"
   ]
  },
  {
   "cell_type": "markdown",
   "id": "f6d2405f",
   "metadata": {},
   "source": [
    "."
   ]
  },
  {
   "cell_type": "markdown",
   "id": "f18c953d",
   "metadata": {},
   "source": []
  },
  {
   "cell_type": "code",
   "execution_count": null,
   "id": "54ebdc26",
   "metadata": {},
   "outputs": [],
   "source": []
  },
  {
   "cell_type": "markdown",
   "id": "cc30f7d7",
   "metadata": {},
   "source": []
  },
  {
   "cell_type": "markdown",
   "id": "6d844748",
   "metadata": {},
   "source": [
    "."
   ]
  },
  {
   "cell_type": "code",
   "execution_count": null,
   "id": "2b6c3f7b",
   "metadata": {},
   "outputs": [],
   "source": []
  },
  {
   "cell_type": "code",
   "execution_count": null,
   "id": "210fdff3",
   "metadata": {},
   "outputs": [],
   "source": [
    "df2.shape"
   ]
  },
  {
   "cell_type": "markdown",
   "id": "a35ea7a7",
   "metadata": {},
   "source": [
    "."
   ]
  },
  {
   "cell_type": "markdown",
   "id": "cb281d34",
   "metadata": {},
   "source": [
    "# Data Formatting\n",
    "\n",
    "- Data are usually collected from different sources and stored in different formats.\n",
    "- Bringing data into a common standard of expression allows users to make meaningful comparison."
   ]
  },
  {
   "cell_type": "markdown",
   "id": "9619b076",
   "metadata": {},
   "source": []
  },
  {
   "cell_type": "code",
   "execution_count": null,
   "id": "53e1906a",
   "metadata": {},
   "outputs": [],
   "source": [
    "import pandas as pd"
   ]
  },
  {
   "cell_type": "code",
   "execution_count": null,
   "id": "18d38a16",
   "metadata": {},
   "outputs": [],
   "source": [
    "df = pd.DataFrame(\n",
    "{\n",
    "    \"city\": ['NY','New York','N.Y.','N.Y.']\n",
    "}\n",
    ")"
   ]
  },
  {
   "cell_type": "code",
   "execution_count": null,
   "id": "2da4ee5b",
   "metadata": {},
   "outputs": [],
   "source": [
    "df"
   ]
  },
  {
   "cell_type": "markdown",
   "id": "99ec21e2",
   "metadata": {},
   "source": [
    "Non-formatted:\n",
    "    confusing,\n",
    "    hard to aggregate,\n",
    "    hard to compare"
   ]
  },
  {
   "cell_type": "code",
   "execution_count": null,
   "id": "237c265c",
   "metadata": {},
   "outputs": [],
   "source": [
    "# Create a sample DataFrame\n",
    "data = {'city': ['NY', 'New York', 'N.Y.', 'N.Y.']}\n",
    "df = pd.DataFrame(data)\n",
    "\n",
    "# Clean and standardize the 'city' column\n",
    "df['city'] = df['city'].str.replace('[^a-zA-Z\\s]', '',regex=True)  # Remove non-alphabetic characters\n",
    "df['city'] = df['city'].str.strip()  # Remove leading and trailing whitespaces\n",
    "df['city'] = df['city'].str.title()  # Capitalize the first letter of each word\n",
    "\n",
    "# Print the cleaned DataFrame\n",
    "print(df)"
   ]
  },
  {
   "cell_type": "code",
   "execution_count": null,
   "id": "d775e5e0",
   "metadata": {},
   "outputs": [],
   "source": [
    "df"
   ]
  },
  {
   "cell_type": "code",
   "execution_count": null,
   "id": "1c93f96e",
   "metadata": {},
   "outputs": [],
   "source": [
    "df['city'] = df['city'].str.lower()  # Convert all values to lowercase"
   ]
  },
  {
   "cell_type": "code",
   "execution_count": null,
   "id": "d7f62c06",
   "metadata": {},
   "outputs": [],
   "source": [
    "df['city']=df['city'].str.upper()"
   ]
  },
  {
   "cell_type": "code",
   "execution_count": null,
   "id": "4c72de1c",
   "metadata": {},
   "outputs": [],
   "source": [
    "headers = ['city']\n",
    "df.columns = headers\n",
    "df"
   ]
  },
  {
   "cell_type": "code",
   "execution_count": null,
   "id": "160f6ce6",
   "metadata": {},
   "outputs": [],
   "source": [
    "dataCars={'city-mpg':[21, 21, 19]}\n",
    "df2 = pd.DataFrame(dataCars)"
   ]
  },
  {
   "cell_type": "code",
   "execution_count": null,
   "id": "ea5640e5",
   "metadata": {},
   "outputs": [],
   "source": [
    "df2"
   ]
  },
  {
   "cell_type": "code",
   "execution_count": null,
   "id": "f3b4ce6e",
   "metadata": {},
   "outputs": [],
   "source": [
    "# Now we have to convert them into L/100 km\n",
    "# 235/city-mpg"
   ]
  },
  {
   "cell_type": "code",
   "execution_count": null,
   "id": "e1133737",
   "metadata": {},
   "outputs": [],
   "source": [
    "df2['city-mpg']=235/df2['city-mpg']"
   ]
  },
  {
   "cell_type": "code",
   "execution_count": null,
   "id": "829f59bc",
   "metadata": {},
   "outputs": [],
   "source": [
    "df2"
   ]
  },
  {
   "cell_type": "code",
   "execution_count": null,
   "id": "a44c16e3",
   "metadata": {},
   "outputs": [],
   "source": [
    "df2['city-mpg']=df2['city-mpg'].round(1)"
   ]
  },
  {
   "cell_type": "code",
   "execution_count": null,
   "id": "742bba5b",
   "metadata": {},
   "outputs": [],
   "source": [
    "df2"
   ]
  },
  {
   "cell_type": "code",
   "execution_count": null,
   "id": "0e488a4f",
   "metadata": {},
   "outputs": [],
   "source": [
    "df2['city-mpg'].dtypes\n",
    "# We can change the data types with: astype(int/hdhosl)"
   ]
  },
  {
   "cell_type": "markdown",
   "id": "2382c9f3",
   "metadata": {},
   "source": [
    "."
   ]
  },
  {
   "cell_type": "markdown",
   "id": "600c248b",
   "metadata": {},
   "source": []
  },
  {
   "cell_type": "markdown",
   "id": "f8e60dd3",
   "metadata": {},
   "source": []
  },
  {
   "cell_type": "raw",
   "id": "a5d80a63",
   "metadata": {},
   "source": []
  },
  {
   "cell_type": "markdown",
   "id": "bc154d14",
   "metadata": {},
   "source": [
    "."
   ]
  },
  {
   "cell_type": "code",
   "execution_count": null,
   "id": "8f235088",
   "metadata": {},
   "outputs": [],
   "source": [
    "dataNorm={'length':[168.8, 168.8,171.2,176.6,176.6,177.3,192.7,192.7,192.7],\n",
    "         'width':[64.1,64.1,65.5,66.2,66.4,66.3,71.4,71.4,71.4],\n",
    "         'height':[48.8,48.8,52.4,54.3,54.3,53.1,55.7,55.7,55.9],\n",
    "         'index':[1,2,3,4,5,6,7,8,9]}\n",
    "dfNORM = pd.DataFrame(dataNorm)"
   ]
  },
  {
   "cell_type": "code",
   "execution_count": null,
   "id": "af97921b",
   "metadata": {},
   "outputs": [],
   "source": [
    "# Uniform features with different range\n",
    "# dfNORM=dfNORM.drop(\"index\",axis=1)\n",
    "del dfNORM['index']"
   ]
  },
  {
   "cell_type": "code",
   "execution_count": null,
   "id": "d6e56a18",
   "metadata": {},
   "outputs": [],
   "source": [
    "dfNORM"
   ]
  },
  {
   "cell_type": "markdown",
   "id": "7c0b25e5",
   "metadata": {},
   "source": [
    "An important technique to understand in data pre-processing. When we take a look at the used car data set, we notice in the data that the feature length ranges from 150-250, while feature width and height ranges from 50-100."
   ]
  },
  {
   "cell_type": "markdown",
   "id": "7fd5f4b1",
   "metadata": {},
   "source": [
    "By  making the ranges consistent between variables, normalization enables a fair comparison between the different features, making sure they have the same impact. It is also important for computational reasons."
   ]
  },
  {
   "cell_type": "code",
   "execution_count": null,
   "id": "29447f4d",
   "metadata": {},
   "outputs": [],
   "source": []
  },
  {
   "cell_type": "code",
   "execution_count": null,
   "id": "19f11cb9",
   "metadata": {},
   "outputs": [],
   "source": []
  },
  {
   "cell_type": "code",
   "execution_count": null,
   "id": "415c20bb",
   "metadata": {},
   "outputs": [],
   "source": []
  },
  {
   "cell_type": "code",
   "execution_count": null,
   "id": "0f1e8f51",
   "metadata": {},
   "outputs": [],
   "source": []
  },
  {
   "cell_type": "code",
   "execution_count": null,
   "id": "5f5f4ce8",
   "metadata": {},
   "outputs": [],
   "source": [
    "import pandas as pd\n",
    "\n",
    "url = \"https://archive.ics.uci.edu/ml/machine-learning-databases/autos/imports-85.data\"\n",
    "\n",
    "headers = [\"symboling\", \"normalized-losses\", \"make\", \"fuel-type\", \"aspiration\", \"num-of-doors\",\n",
    "           \"body-style\", \"drive-wheels\", \"engine-location\", \"wheel-base\", \"length\", \"width\",\n",
    "           \"height\", \"curb-weight\", \"engine-type\", \"num-of-cylinders\", \"engine-size\", \"fuel-system\",\n",
    "           \"bore\", \"stroke\", \"compression-ratio\", \"horsepower\", \"peak-rpm\", \"city-mpg\", \"highway-mpg\", \"price\"]\n",
    "\n",
    "df = pd.read_csv(url, header=None)\n",
    "\n",
    "df.columns = headers\n",
    "\n",
    "df.head()\n"
   ]
  },
  {
   "cell_type": "markdown",
   "id": "48720101",
   "metadata": {},
   "source": [
    "It shows the mean, the total number of\n",
    "data points, the standard deviation, the quartiles and the extreme values. Any NAN values are automatically\n",
    "skipped in these statistics.\n",
    "This function will give you a clear idea\n",
    "of the distribution of your different variables."
   ]
  },
  {
   "cell_type": "code",
   "execution_count": null,
   "id": "26093078",
   "metadata": {
    "scrolled": false
   },
   "outputs": [],
   "source": [
    "df.describe()"
   ]
  },
  {
   "cell_type": "markdown",
   "id": "d72f7a18",
   "metadata": {},
   "source": [
    "."
   ]
  },
  {
   "cell_type": "markdown",
   "id": "a421546d",
   "metadata": {},
   "source": [
    "You could have also categorical\n",
    "variables in your data set. These are variables that can be divided up\n",
    "into different categories or groups, and have discrete values. For example, in our data set we have the drive system as a categorical variable, which consists of the categories,\n",
    "forward wheel drive, rear wheel drive and four wheel drive. One way you can summarize\n",
    "the categorical data, is by using the function value_counts."
   ]
  },
  {
   "cell_type": "code",
   "execution_count": null,
   "id": "3e63c509",
   "metadata": {
    "scrolled": true
   },
   "outputs": [],
   "source": [
    "df.value_counts().to_frame()"
   ]
  },
  {
   "cell_type": "markdown",
   "id": "7bdd7da3",
   "metadata": {},
   "source": [
    "."
   ]
  },
  {
   "cell_type": "markdown",
   "id": "f9af17f8",
   "metadata": {},
   "source": [
    "We can change the name of the column\n",
    "to make it easier to read. We see that we have 120 cars in\n",
    "the front wheel drive category. 76 cars in the rear wheel drive category,\n",
    "and 9 cars in the four wheel drive category."
   ]
  },
  {
   "cell_type": "code",
   "execution_count": null,
   "id": "99613502",
   "metadata": {},
   "outputs": [],
   "source": [
    "drive_wheels_counts = df[\"drive-wheels\"].value_counts().to_frame()\n",
    "\n",
    "# Rename the column\n",
    "drive_wheels_counts.rename(columns={'drive-wheels': 'value_counts'}, inplace=True)\n",
    "\n",
    "# Display the DataFrame\n",
    "print(drive_wheels_counts)"
   ]
  },
  {
   "cell_type": "markdown",
   "id": "66a7eb5c",
   "metadata": {},
   "source": [
    "."
   ]
  },
  {
   "cell_type": "markdown",
   "id": "db6593fa",
   "metadata": {},
   "source": [
    "# BOX PLOTS"
   ]
  },
  {
   "cell_type": "markdown",
   "id": "532fe1c1",
   "metadata": {},
   "source": [
    "\n"
   ]
  },
  {
   "cell_type": "markdown",
   "id": "30eda73b",
   "metadata": {},
   "source": []
  },
  {
   "cell_type": "code",
   "execution_count": null,
   "id": "a6d32a74",
   "metadata": {},
   "outputs": [],
   "source": []
  },
  {
   "cell_type": "code",
   "execution_count": null,
   "id": "a35382e8",
   "metadata": {},
   "outputs": [],
   "source": [
    "df2=df.copy()"
   ]
  },
  {
   "cell_type": "code",
   "execution_count": null,
   "id": "31e1f59d",
   "metadata": {
    "scrolled": false
   },
   "outputs": [],
   "source": [
    "sns.boxplot(x=\"drive-wheels\", y=\"price\",data=df2)"
   ]
  },
  {
   "cell_type": "code",
   "execution_count": null,
   "id": "412881c7",
   "metadata": {},
   "outputs": [],
   "source": []
  },
  {
   "cell_type": "code",
   "execution_count": null,
   "id": "edce849d",
   "metadata": {},
   "outputs": [],
   "source": [
    "df2[\"drive-wheels\"]"
   ]
  },
  {
   "cell_type": "code",
   "execution_count": null,
   "id": "6d418773",
   "metadata": {},
   "outputs": [],
   "source": [
    "df2['price'] = pd.to_numeric(df2['price'],errors='coerce')\n"
   ]
  },
  {
   "cell_type": "code",
   "execution_count": null,
   "id": "940443e0",
   "metadata": {},
   "outputs": [],
   "source": [
    "df2.info()\n",
    "df2['price']"
   ]
  },
  {
   "cell_type": "code",
   "execution_count": null,
   "id": "03650779",
   "metadata": {},
   "outputs": [],
   "source": [
    "df2.to_csv(r\"D:\\Analytics\\IBM DA COURSERA\\Datasets\\cardata.csv\")"
   ]
  },
  {
   "cell_type": "code",
   "execution_count": null,
   "id": "d8a3e4a2",
   "metadata": {},
   "outputs": [],
   "source": [
    "df2['normalized-losses'] = pd.to_numeric(df2['normalized-losses'])"
   ]
  },
  {
   "cell_type": "code",
   "execution_count": null,
   "id": "830bce46",
   "metadata": {},
   "outputs": [],
   "source": [
    "df2['normalized-losses']."
   ]
  },
  {
   "cell_type": "code",
   "execution_count": null,
   "id": "48585217",
   "metadata": {},
   "outputs": [],
   "source": []
  },
  {
   "cell_type": "code",
   "execution_count": null,
   "id": "7e104654",
   "metadata": {},
   "outputs": [],
   "source": []
  },
  {
   "cell_type": "code",
   "execution_count": null,
   "id": "52fa7bcd",
   "metadata": {},
   "outputs": [],
   "source": []
  },
  {
   "cell_type": "code",
   "execution_count": null,
   "id": "5214b582",
   "metadata": {},
   "outputs": [],
   "source": [
    "df2 = df.copy()"
   ]
  },
  {
   "cell_type": "code",
   "execution_count": null,
   "id": "9931b727",
   "metadata": {},
   "outputs": [],
   "source": []
  },
  {
   "cell_type": "markdown",
   "id": "04a0d752",
   "metadata": {},
   "source": [
    "# SIMPLE LINEAR MODEL ESTIMATOR"
   ]
  },
  {
   "cell_type": "markdown",
   "id": "02287a32",
   "metadata": {},
   "source": [
    "X: PREDICTOR OR INDEPENDENT VARIABLE --REGRESSOR\n",
    "Y: TARGET OR DEPENDENT VARIABLE\n",
    "Yhat = ESTIMATED/PREDICTED/FITTED VALUE "
   ]
  },
  {
   "cell_type": "markdown",
   "id": "c2900d19",
   "metadata": {},
   "source": [
    "Import linear_model from sci-kit learn:"
   ]
  },
  {
   "cell_type": "code",
   "execution_count": null,
   "id": "38925ee9",
   "metadata": {},
   "outputs": [],
   "source": [
    "from sklearn.linear_model import LinearRegression"
   ]
  },
  {
   "cell_type": "markdown",
   "id": "e1991705",
   "metadata": {},
   "source": [
    "Create a Linear Regression Object using the constructor:"
   ]
  },
  {
   "cell_type": "code",
   "execution_count": null,
   "id": "02e0703c",
   "metadata": {},
   "outputs": [],
   "source": [
    "lm = LinearRegression()"
   ]
  },
  {
   "cell_type": "markdown",
   "id": "260bbe65",
   "metadata": {},
   "source": [
    "FITTING A SIMPLE LINEAR REGRESSION MODEL"
   ]
  },
  {
   "cell_type": "markdown",
   "id": "9eb2d8ce",
   "metadata": {},
   "source": [
    "We define the predictor variable and target variable"
   ]
  },
  {
   "cell_type": "code",
   "execution_count": null,
   "id": "4688295e",
   "metadata": {},
   "outputs": [],
   "source": [
    "X = df2['highway-mpg']\n",
    "Y = df2['price']"
   ]
  },
  {
   "cell_type": "markdown",
   "id": "300922cb",
   "metadata": {},
   "source": [
    "Then use lm.fit(X,Y) to fit the model, i.e., find the parameters b0 and b1\n",
    "\n",
    "b0 = Intercept,\n",
    "b1 = Slope/Coefficient\n",
    "\n",
    "--Both b0 and b1 are the attributes of object(lm)"
   ]
  },
  {
   "cell_type": "code",
   "execution_count": null,
   "id": "a3e2f5bb",
   "metadata": {
    "scrolled": true
   },
   "outputs": [],
   "source": []
  },
  {
   "cell_type": "code",
   "execution_count": null,
   "id": "9d3454fb",
   "metadata": {},
   "outputs": [],
   "source": [
    "convert = 235/X"
   ]
  },
  {
   "cell_type": "code",
   "execution_count": null,
   "id": "609f4a7f",
   "metadata": {
    "scrolled": true
   },
   "outputs": [],
   "source": [
    "Y.isna().sum()\n",
    "Y.dropna()"
   ]
  },
  {
   "cell_type": "code",
   "execution_count": null,
   "id": "9a276487",
   "metadata": {},
   "outputs": [],
   "source": [
    "empty_rows = X.index[~X.index.isin(Y.index)]"
   ]
  },
  {
   "cell_type": "code",
   "execution_count": null,
   "id": "d7670e9f",
   "metadata": {
    "scrolled": true
   },
   "outputs": [],
   "source": [
    "empty_rows"
   ]
  },
  {
   "cell_type": "code",
   "execution_count": null,
   "id": "25c5ec80",
   "metadata": {},
   "outputs": [],
   "source": [
    "X.drop([9, 44, 45, 129], axis=0, inplace=True)"
   ]
  },
  {
   "cell_type": "code",
   "execution_count": null,
   "id": "a435be23",
   "metadata": {},
   "outputs": [],
   "source": [
    "X.shape"
   ]
  },
  {
   "cell_type": "code",
   "execution_count": null,
   "id": "ad91cd9c",
   "metadata": {},
   "outputs": [],
   "source": [
    "Y.shape"
   ]
  },
  {
   "cell_type": "code",
   "execution_count": null,
   "id": "08085d9b",
   "metadata": {},
   "outputs": [],
   "source": [
    "X.dtype"
   ]
  },
  {
   "cell_type": "code",
   "execution_count": null,
   "id": "f0fb162f",
   "metadata": {},
   "outputs": [],
   "source": [
    "Y.replace('?', np.nan,inplace=True)"
   ]
  },
  {
   "cell_type": "code",
   "execution_count": null,
   "id": "cc5abd69",
   "metadata": {},
   "outputs": [],
   "source": [
    "Y = pd.to_numeric(Y)"
   ]
  },
  {
   "cell_type": "code",
   "execution_count": null,
   "id": "6c091a8a",
   "metadata": {},
   "outputs": [],
   "source": [
    "Y.isna().sum()"
   ]
  },
  {
   "cell_type": "code",
   "execution_count": null,
   "id": "ebbe1db3",
   "metadata": {
    "scrolled": true
   },
   "outputs": [],
   "source": [
    "lm.fit(X.values.reshape(-1,1),Y)"
   ]
  },
  {
   "cell_type": "code",
   "execution_count": null,
   "id": "50af1fa8",
   "metadata": {},
   "outputs": [],
   "source": [
    "from sklearn.linear_model import LinearRegression"
   ]
  },
  {
   "cell_type": "code",
   "execution_count": null,
   "id": "9a1e6c46",
   "metadata": {},
   "outputs": [],
   "source": [
    "# Create an object/instance of LinearRegression model"
   ]
  },
  {
   "cell_type": "code",
   "execution_count": null,
   "id": "af275617",
   "metadata": {},
   "outputs": [],
   "source": [
    "lm = LinearRegression()"
   ]
  },
  {
   "cell_type": "code",
   "execution_count": null,
   "id": "6eb8f7b0",
   "metadata": {},
   "outputs": [],
   "source": [
    "lm.fit(X.values.reshape(-1,1),Y)"
   ]
  },
  {
   "cell_type": "code",
   "execution_count": null,
   "id": "9c64e492",
   "metadata": {},
   "outputs": [],
   "source": [
    "intercept = lm.intercept_\n",
    "intercept"
   ]
  },
  {
   "cell_type": "code",
   "execution_count": null,
   "id": "9bae3f68",
   "metadata": {},
   "outputs": [],
   "source": [
    "slope = lm.coef_\n",
    "slope"
   ]
  },
  {
   "cell_type": "code",
   "execution_count": null,
   "id": "31615dd9",
   "metadata": {},
   "outputs": [],
   "source": []
  },
  {
   "cell_type": "code",
   "execution_count": null,
   "id": "e539f38e",
   "metadata": {},
   "outputs": [],
   "source": [
    "b0 = intercept # attribute of LinearRegression model's object\n",
    "b1 = slope     # another attribute of LinearRegression model's object"
   ]
  },
  {
   "cell_type": "code",
   "execution_count": null,
   "id": "39284a01",
   "metadata": {},
   "outputs": [],
   "source": [
    "Yhat = b0 + b1*X\n",
    "Yhat.head()"
   ]
  },
  {
   "cell_type": "code",
   "execution_count": null,
   "id": "90c85e6a",
   "metadata": {},
   "outputs": [],
   "source": [
    "Y.head()"
   ]
  },
  {
   "cell_type": "code",
   "execution_count": null,
   "id": "1c2d0745",
   "metadata": {},
   "outputs": [],
   "source": [
    "from sklearn.metrics import mean_squared_error, r2_score\n",
    "import numpy as np"
   ]
  },
  {
   "cell_type": "code",
   "execution_count": null,
   "id": "7d62718c",
   "metadata": {},
   "outputs": [],
   "source": []
  },
  {
   "cell_type": "code",
   "execution_count": null,
   "id": "86f5e045",
   "metadata": {},
   "outputs": [],
   "source": [
    "# Calculate the Mean Squared Error\n",
    "mse = mean_squared_error(Y, Yhat)"
   ]
  },
  {
   "cell_type": "code",
   "execution_count": null,
   "id": "04b4f9a6",
   "metadata": {},
   "outputs": [],
   "source": [
    "# Calculate the Root Mean Squared Error\n",
    "rmse = np.sqrt(mse)"
   ]
  },
  {
   "cell_type": "code",
   "execution_count": null,
   "id": "27288559",
   "metadata": {},
   "outputs": [],
   "source": [
    "# Calculate the R-Squared(R2) score\n",
    "r2 = r2_score(Y,Yhat)"
   ]
  },
  {
   "cell_type": "code",
   "execution_count": null,
   "id": "b8c6b999",
   "metadata": {},
   "outputs": [],
   "source": [
    "mse"
   ]
  },
  {
   "cell_type": "code",
   "execution_count": null,
   "id": "d80b80d4",
   "metadata": {},
   "outputs": [],
   "source": [
    "rmse"
   ]
  },
  {
   "cell_type": "code",
   "execution_count": null,
   "id": "597795a3",
   "metadata": {},
   "outputs": [],
   "source": [
    "r2"
   ]
  },
  {
   "cell_type": "markdown",
   "id": "be8feccd",
   "metadata": {},
   "source": [
    "Lower MSE and RMSE values indicate better predictions, while a higher R2 score indicates a better fit of the model to the data."
   ]
  },
  {
   "cell_type": "markdown",
   "id": "094075c1",
   "metadata": {},
   "source": [
    "Mean Squared Error (MSE): The MSE value is approximately 31635042.944639888. This metric measures the average squared difference between the predicted values (Yhat) and the actual values (Y). A higher MSE value indicates a larger prediction error.\n",
    "\n"
   ]
  },
  {
   "cell_type": "markdown",
   "id": "6f49b8ba",
   "metadata": {},
   "source": [
    "Root Mean Squared Error (RMSE): The RMSE value is approximately 5624.503795415191. It is the square root of the MSE and provides a measure of the average prediction error. The RMSE value indicates the average difference between the predicted values and the actual values. A lower RMSE value indicates a better fit of the model."
   ]
  },
  {
   "cell_type": "markdown",
   "id": "863f1c7e",
   "metadata": {},
   "source": [
    "R-squared (R2) Score: The R2 score is approximately 0.4965911884339176. This score represents the proportion of variance in the dependent variable (Y) that is explained by the independent variable(s) (X). An R2 score closer to 1 indicates a better fit of the model to the data, while a score closer to 0 suggests that the model does not explain much of the variance in the data.\n",
    "\n"
   ]
  },
  {
   "cell_type": "raw",
   "id": "94c3336a",
   "metadata": {},
   "source": [
    "Based on these metrics, the model's performance could be further improved. The MSE and RMSE values are relatively high, indicating significant prediction errors. Additionally, the R2 score of approximately 0.50 suggests that the model explains around 50% of the variance in the dependent variable, leaving room for improvement."
   ]
  },
  {
   "cell_type": "code",
   "execution_count": null,
   "id": "39c12cfc",
   "metadata": {},
   "outputs": [],
   "source": []
  }
 ],
 "metadata": {
  "kernelspec": {
   "display_name": "Python 3 (ipykernel)",
   "language": "python",
   "name": "python3"
  },
  "language_info": {
   "codemirror_mode": {
    "name": "ipython",
    "version": 3
   },
   "file_extension": ".py",
   "mimetype": "text/x-python",
   "name": "python",
   "nbconvert_exporter": "python",
   "pygments_lexer": "ipython3",
   "version": "3.10.5"
  }
 },
 "nbformat": 4,
 "nbformat_minor": 5
}
